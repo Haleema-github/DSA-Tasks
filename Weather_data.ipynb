{
 "cells": [
  {
   "cell_type": "code",
   "execution_count": 1,
   "id": "e7d7c660",
   "metadata": {},
   "outputs": [],
   "source": [
    "# Importing libraries\n",
    "import numpy as np\n",
    "import pandas as pd\n",
    "import matplotlib.pyplot as plt\n",
    "import seaborn as sns"
   ]
  },
  {
   "cell_type": "code",
   "execution_count": 3,
   "id": "eb0fabfc",
   "metadata": {},
   "outputs": [
    {
     "data": {
      "text/html": [
       "<div>\n",
       "<style scoped>\n",
       "    .dataframe tbody tr th:only-of-type {\n",
       "        vertical-align: middle;\n",
       "    }\n",
       "\n",
       "    .dataframe tbody tr th {\n",
       "        vertical-align: top;\n",
       "    }\n",
       "\n",
       "    .dataframe thead th {\n",
       "        text-align: right;\n",
       "    }\n",
       "</style>\n",
       "<table border=\"1\" class=\"dataframe\">\n",
       "  <thead>\n",
       "    <tr style=\"text-align: right;\">\n",
       "      <th></th>\n",
       "      <th>row ID</th>\n",
       "      <th>Location</th>\n",
       "      <th>MinTemp</th>\n",
       "      <th>MaxTemp</th>\n",
       "      <th>Rainfall</th>\n",
       "      <th>Evaporation</th>\n",
       "      <th>Sunshine</th>\n",
       "      <th>WindGustDir</th>\n",
       "      <th>WindGustSpeed</th>\n",
       "      <th>WindDir9am</th>\n",
       "      <th>...</th>\n",
       "      <th>Humidity9am</th>\n",
       "      <th>Humidity3pm</th>\n",
       "      <th>Pressure9am</th>\n",
       "      <th>Pressure3pm</th>\n",
       "      <th>Cloud9am</th>\n",
       "      <th>Cloud3pm</th>\n",
       "      <th>Temp9am</th>\n",
       "      <th>Temp3pm</th>\n",
       "      <th>RainToday</th>\n",
       "      <th>RainTomorrow</th>\n",
       "    </tr>\n",
       "  </thead>\n",
       "  <tbody>\n",
       "    <tr>\n",
       "      <th>0</th>\n",
       "      <td>Row0</td>\n",
       "      <td>Albury</td>\n",
       "      <td>13.4</td>\n",
       "      <td>22.9</td>\n",
       "      <td>0.6</td>\n",
       "      <td>NaN</td>\n",
       "      <td>NaN</td>\n",
       "      <td>W</td>\n",
       "      <td>44.0</td>\n",
       "      <td>W</td>\n",
       "      <td>...</td>\n",
       "      <td>71.0</td>\n",
       "      <td>22.0</td>\n",
       "      <td>1007.7</td>\n",
       "      <td>1007.1</td>\n",
       "      <td>8.0</td>\n",
       "      <td>NaN</td>\n",
       "      <td>16.9</td>\n",
       "      <td>21.8</td>\n",
       "      <td>No</td>\n",
       "      <td>0</td>\n",
       "    </tr>\n",
       "    <tr>\n",
       "      <th>1</th>\n",
       "      <td>Row1</td>\n",
       "      <td>Albury</td>\n",
       "      <td>7.4</td>\n",
       "      <td>25.1</td>\n",
       "      <td>0.0</td>\n",
       "      <td>NaN</td>\n",
       "      <td>NaN</td>\n",
       "      <td>WNW</td>\n",
       "      <td>44.0</td>\n",
       "      <td>NNW</td>\n",
       "      <td>...</td>\n",
       "      <td>44.0</td>\n",
       "      <td>25.0</td>\n",
       "      <td>1010.6</td>\n",
       "      <td>1007.8</td>\n",
       "      <td>NaN</td>\n",
       "      <td>NaN</td>\n",
       "      <td>17.2</td>\n",
       "      <td>24.3</td>\n",
       "      <td>No</td>\n",
       "      <td>0</td>\n",
       "    </tr>\n",
       "    <tr>\n",
       "      <th>2</th>\n",
       "      <td>Row2</td>\n",
       "      <td>Albury</td>\n",
       "      <td>17.5</td>\n",
       "      <td>32.3</td>\n",
       "      <td>1.0</td>\n",
       "      <td>NaN</td>\n",
       "      <td>NaN</td>\n",
       "      <td>W</td>\n",
       "      <td>41.0</td>\n",
       "      <td>ENE</td>\n",
       "      <td>...</td>\n",
       "      <td>82.0</td>\n",
       "      <td>33.0</td>\n",
       "      <td>1010.8</td>\n",
       "      <td>1006.0</td>\n",
       "      <td>7.0</td>\n",
       "      <td>8.0</td>\n",
       "      <td>17.8</td>\n",
       "      <td>29.7</td>\n",
       "      <td>No</td>\n",
       "      <td>0</td>\n",
       "    </tr>\n",
       "    <tr>\n",
       "      <th>3</th>\n",
       "      <td>Row3</td>\n",
       "      <td>Albury</td>\n",
       "      <td>14.6</td>\n",
       "      <td>29.7</td>\n",
       "      <td>0.2</td>\n",
       "      <td>NaN</td>\n",
       "      <td>NaN</td>\n",
       "      <td>WNW</td>\n",
       "      <td>56.0</td>\n",
       "      <td>W</td>\n",
       "      <td>...</td>\n",
       "      <td>55.0</td>\n",
       "      <td>23.0</td>\n",
       "      <td>1009.2</td>\n",
       "      <td>1005.4</td>\n",
       "      <td>NaN</td>\n",
       "      <td>NaN</td>\n",
       "      <td>20.6</td>\n",
       "      <td>28.9</td>\n",
       "      <td>No</td>\n",
       "      <td>0</td>\n",
       "    </tr>\n",
       "    <tr>\n",
       "      <th>4</th>\n",
       "      <td>Row4</td>\n",
       "      <td>Albury</td>\n",
       "      <td>7.7</td>\n",
       "      <td>26.7</td>\n",
       "      <td>0.0</td>\n",
       "      <td>NaN</td>\n",
       "      <td>NaN</td>\n",
       "      <td>W</td>\n",
       "      <td>35.0</td>\n",
       "      <td>SSE</td>\n",
       "      <td>...</td>\n",
       "      <td>48.0</td>\n",
       "      <td>19.0</td>\n",
       "      <td>1013.4</td>\n",
       "      <td>1010.1</td>\n",
       "      <td>NaN</td>\n",
       "      <td>NaN</td>\n",
       "      <td>16.3</td>\n",
       "      <td>25.5</td>\n",
       "      <td>No</td>\n",
       "      <td>0</td>\n",
       "    </tr>\n",
       "    <tr>\n",
       "      <th>...</th>\n",
       "      <td>...</td>\n",
       "      <td>...</td>\n",
       "      <td>...</td>\n",
       "      <td>...</td>\n",
       "      <td>...</td>\n",
       "      <td>...</td>\n",
       "      <td>...</td>\n",
       "      <td>...</td>\n",
       "      <td>...</td>\n",
       "      <td>...</td>\n",
       "      <td>...</td>\n",
       "      <td>...</td>\n",
       "      <td>...</td>\n",
       "      <td>...</td>\n",
       "      <td>...</td>\n",
       "      <td>...</td>\n",
       "      <td>...</td>\n",
       "      <td>...</td>\n",
       "      <td>...</td>\n",
       "      <td>...</td>\n",
       "      <td>...</td>\n",
       "    </tr>\n",
       "    <tr>\n",
       "      <th>99511</th>\n",
       "      <td>Row101816</td>\n",
       "      <td>Uluru</td>\n",
       "      <td>8.0</td>\n",
       "      <td>20.7</td>\n",
       "      <td>0.0</td>\n",
       "      <td>NaN</td>\n",
       "      <td>NaN</td>\n",
       "      <td>ESE</td>\n",
       "      <td>41.0</td>\n",
       "      <td>SE</td>\n",
       "      <td>...</td>\n",
       "      <td>56.0</td>\n",
       "      <td>32.0</td>\n",
       "      <td>1028.1</td>\n",
       "      <td>1024.3</td>\n",
       "      <td>NaN</td>\n",
       "      <td>7.0</td>\n",
       "      <td>11.6</td>\n",
       "      <td>20.0</td>\n",
       "      <td>No</td>\n",
       "      <td>0</td>\n",
       "    </tr>\n",
       "    <tr>\n",
       "      <th>99512</th>\n",
       "      <td>Row101817</td>\n",
       "      <td>Uluru</td>\n",
       "      <td>3.5</td>\n",
       "      <td>21.8</td>\n",
       "      <td>0.0</td>\n",
       "      <td>NaN</td>\n",
       "      <td>NaN</td>\n",
       "      <td>E</td>\n",
       "      <td>31.0</td>\n",
       "      <td>ESE</td>\n",
       "      <td>...</td>\n",
       "      <td>59.0</td>\n",
       "      <td>27.0</td>\n",
       "      <td>1024.7</td>\n",
       "      <td>1021.2</td>\n",
       "      <td>NaN</td>\n",
       "      <td>NaN</td>\n",
       "      <td>9.4</td>\n",
       "      <td>20.9</td>\n",
       "      <td>No</td>\n",
       "      <td>0</td>\n",
       "    </tr>\n",
       "    <tr>\n",
       "      <th>99513</th>\n",
       "      <td>Row101818</td>\n",
       "      <td>Uluru</td>\n",
       "      <td>2.8</td>\n",
       "      <td>23.4</td>\n",
       "      <td>0.0</td>\n",
       "      <td>NaN</td>\n",
       "      <td>NaN</td>\n",
       "      <td>E</td>\n",
       "      <td>31.0</td>\n",
       "      <td>SE</td>\n",
       "      <td>...</td>\n",
       "      <td>51.0</td>\n",
       "      <td>24.0</td>\n",
       "      <td>1024.6</td>\n",
       "      <td>1020.3</td>\n",
       "      <td>NaN</td>\n",
       "      <td>NaN</td>\n",
       "      <td>10.1</td>\n",
       "      <td>22.4</td>\n",
       "      <td>No</td>\n",
       "      <td>0</td>\n",
       "    </tr>\n",
       "    <tr>\n",
       "      <th>99514</th>\n",
       "      <td>Row101819</td>\n",
       "      <td>Uluru</td>\n",
       "      <td>3.6</td>\n",
       "      <td>25.3</td>\n",
       "      <td>0.0</td>\n",
       "      <td>NaN</td>\n",
       "      <td>NaN</td>\n",
       "      <td>NNW</td>\n",
       "      <td>22.0</td>\n",
       "      <td>SE</td>\n",
       "      <td>...</td>\n",
       "      <td>56.0</td>\n",
       "      <td>21.0</td>\n",
       "      <td>1023.5</td>\n",
       "      <td>1019.1</td>\n",
       "      <td>NaN</td>\n",
       "      <td>NaN</td>\n",
       "      <td>10.9</td>\n",
       "      <td>24.5</td>\n",
       "      <td>No</td>\n",
       "      <td>0</td>\n",
       "    </tr>\n",
       "    <tr>\n",
       "      <th>99515</th>\n",
       "      <td>Row101820</td>\n",
       "      <td>Uluru</td>\n",
       "      <td>5.4</td>\n",
       "      <td>26.9</td>\n",
       "      <td>0.0</td>\n",
       "      <td>NaN</td>\n",
       "      <td>NaN</td>\n",
       "      <td>N</td>\n",
       "      <td>37.0</td>\n",
       "      <td>SE</td>\n",
       "      <td>...</td>\n",
       "      <td>53.0</td>\n",
       "      <td>24.0</td>\n",
       "      <td>1021.0</td>\n",
       "      <td>1016.8</td>\n",
       "      <td>NaN</td>\n",
       "      <td>NaN</td>\n",
       "      <td>12.5</td>\n",
       "      <td>26.1</td>\n",
       "      <td>No</td>\n",
       "      <td>0</td>\n",
       "    </tr>\n",
       "  </tbody>\n",
       "</table>\n",
       "<p>99516 rows × 23 columns</p>\n",
       "</div>"
      ],
      "text/plain": [
       "          row ID Location  MinTemp  MaxTemp  Rainfall  Evaporation  Sunshine  \\\n",
       "0           Row0   Albury     13.4     22.9       0.6          NaN       NaN   \n",
       "1           Row1   Albury      7.4     25.1       0.0          NaN       NaN   \n",
       "2           Row2   Albury     17.5     32.3       1.0          NaN       NaN   \n",
       "3           Row3   Albury     14.6     29.7       0.2          NaN       NaN   \n",
       "4           Row4   Albury      7.7     26.7       0.0          NaN       NaN   \n",
       "...          ...      ...      ...      ...       ...          ...       ...   \n",
       "99511  Row101816    Uluru      8.0     20.7       0.0          NaN       NaN   \n",
       "99512  Row101817    Uluru      3.5     21.8       0.0          NaN       NaN   \n",
       "99513  Row101818    Uluru      2.8     23.4       0.0          NaN       NaN   \n",
       "99514  Row101819    Uluru      3.6     25.3       0.0          NaN       NaN   \n",
       "99515  Row101820    Uluru      5.4     26.9       0.0          NaN       NaN   \n",
       "\n",
       "      WindGustDir  WindGustSpeed WindDir9am  ... Humidity9am  Humidity3pm  \\\n",
       "0               W           44.0          W  ...        71.0         22.0   \n",
       "1             WNW           44.0        NNW  ...        44.0         25.0   \n",
       "2               W           41.0        ENE  ...        82.0         33.0   \n",
       "3             WNW           56.0          W  ...        55.0         23.0   \n",
       "4               W           35.0        SSE  ...        48.0         19.0   \n",
       "...           ...            ...        ...  ...         ...          ...   \n",
       "99511         ESE           41.0         SE  ...        56.0         32.0   \n",
       "99512           E           31.0        ESE  ...        59.0         27.0   \n",
       "99513           E           31.0         SE  ...        51.0         24.0   \n",
       "99514         NNW           22.0         SE  ...        56.0         21.0   \n",
       "99515           N           37.0         SE  ...        53.0         24.0   \n",
       "\n",
       "       Pressure9am  Pressure3pm  Cloud9am  Cloud3pm  Temp9am  Temp3pm  \\\n",
       "0           1007.7       1007.1       8.0       NaN     16.9     21.8   \n",
       "1           1010.6       1007.8       NaN       NaN     17.2     24.3   \n",
       "2           1010.8       1006.0       7.0       8.0     17.8     29.7   \n",
       "3           1009.2       1005.4       NaN       NaN     20.6     28.9   \n",
       "4           1013.4       1010.1       NaN       NaN     16.3     25.5   \n",
       "...            ...          ...       ...       ...      ...      ...   \n",
       "99511       1028.1       1024.3       NaN       7.0     11.6     20.0   \n",
       "99512       1024.7       1021.2       NaN       NaN      9.4     20.9   \n",
       "99513       1024.6       1020.3       NaN       NaN     10.1     22.4   \n",
       "99514       1023.5       1019.1       NaN       NaN     10.9     24.5   \n",
       "99515       1021.0       1016.8       NaN       NaN     12.5     26.1   \n",
       "\n",
       "       RainToday  RainTomorrow  \n",
       "0             No             0  \n",
       "1             No             0  \n",
       "2             No             0  \n",
       "3             No             0  \n",
       "4             No             0  \n",
       "...          ...           ...  \n",
       "99511         No             0  \n",
       "99512         No             0  \n",
       "99513         No             0  \n",
       "99514         No             0  \n",
       "99515         No             0  \n",
       "\n",
       "[99516 rows x 23 columns]"
      ]
     },
     "execution_count": 3,
     "metadata": {},
     "output_type": "execute_result"
    }
   ],
   "source": [
    "# Reading data into Python environment\n",
    "df=pd.read_csv('Weather_Data.csv')\n",
    "df"
   ]
  },
  {
   "cell_type": "code",
   "execution_count": 4,
   "id": "cef3d80e",
   "metadata": {},
   "outputs": [
    {
     "data": {
      "text/plain": [
       "<AxesSubplot:>"
      ]
     },
     "execution_count": 4,
     "metadata": {},
     "output_type": "execute_result"
    },
    {
     "data": {
      "image/png": "[encoded data removed]",
      "text/plain": [
       "<Figure size 1296x576 with 2 Axes>"
      ]
     },
     "metadata": {
      "needs_background": "light"
     },
     "output_type": "display_data"
    }
   ],
   "source": [
    "# Correlation Matrix\n",
    "corr_matrix=df.corr()\n",
    "plt.subplots(figsize=(18,8))\n",
    "sns.heatmap(corr_matrix,annot=True,cmap='winter')"
   ]
  },
  {
   "cell_type": "markdown",
   "id": "a39eee94",
   "metadata": {},
   "source": [
    "Highly positive correlated : MinTemp and MaxTemp , MinTemp and Temp9am , MinTemp and Temp3pm MaxTemp and Temp9am , MaxTemp and Temp3pm , Pressure9am and Pressure 3pm, Temp9am and Temp 3pm\n",
    "\n",
    "Negatively correlated : Sunshine and Cloud9am , Sunshine and Cloud3pm\n",
    "\n",
    "The columns MaxTemp,Evaporation,Sunshine,Pressure9am,Pressure3pm,Temp9am and Temp3pm have less negative correlation with the Target variable,'RainTomorrow'.\n",
    "\n",
    "1\n"
   ]
  },
  {
   "cell_type": "code",
   "execution_count": 5,
   "id": "1a3a20c5",
   "metadata": {},
   "outputs": [],
   "source": [
    "# Dropping the unnecessary features\n",
    "df1=df.drop(['row ID','Rainfall','Evaporation','Sunshine','WindDir9am','WindSpeed9am','WindSpeed3pm','Humidity9am','Pressure9am','Cloud9am','Temp9am'],axis=1)"
   ]
  },
  {
   "cell_type": "code",
   "execution_count": 6,
   "id": "d71fa042",
   "metadata": {},
   "outputs": [
    {
     "data": {
      "text/plain": [
       "Location             0\n",
       "MinTemp            443\n",
       "MaxTemp            230\n",
       "WindGustDir       6521\n",
       "WindGustSpeed     6480\n",
       "WindDir3pm        2648\n",
       "Humidity3pm       2506\n",
       "Pressure3pm       9736\n",
       "Cloud3pm         40002\n",
       "Temp3pm           1904\n",
       "RainToday          979\n",
       "RainTomorrow         0\n",
       "dtype: int64"
      ]
     },
     "execution_count": 6,
     "metadata": {},
     "output_type": "execute_result"
    }
   ],
   "source": [
    "# Checking Missing values in the data\n",
    "df1.isna().sum()"
   ]
  },
  {
   "cell_type": "code",
   "execution_count": 7,
   "id": "82886afa",
   "metadata": {},
   "outputs": [],
   "source": [
    "# Filling the missing values with median\n",
    "df1['MinTemp']=df1['MinTemp'].fillna(df1['MinTemp'].median())\n",
    "df1['MaxTemp']=df1['MaxTemp'].fillna(df1['MaxTemp'].median())\n",
    "df1['WindGustSpeed']=df1['WindGustSpeed'].fillna(df1['WindGustSpeed'].median())\n",
    "df1['Pressure3pm']=df1['Pressure3pm'].fillna(df1['Pressure3pm'].median())\n",
    "df1['Temp3pm']=df1['Temp3pm'].fillna(df1['Temp3pm'].median())"
   ]
  },
  {
   "cell_type": "code",
   "execution_count": 8,
   "id": "84d64460",
   "metadata": {},
   "outputs": [],
   "source": [
    "# Filling missing values in  with Cloud3pm' and 'Humidity3pm' with mean\n",
    "df1['Cloud3pm']=df1['Cloud3pm'].fillna(df1['Cloud3pm'].mean())\n",
    "df1['Humidity3pm']=df1['Humidity3pm'].fillna(df1['Humidity3pm'].mean())"
   ]
  },
  {
   "cell_type": "code",
   "execution_count": 9,
   "id": "90dbf6ac",
   "metadata": {},
   "outputs": [
    {
     "data": {
      "text/plain": [
       "Location            0\n",
       "MinTemp             0\n",
       "MaxTemp             0\n",
       "WindGustDir      6521\n",
       "WindGustSpeed       0\n",
       "WindDir3pm       2648\n",
       "Humidity3pm         0\n",
       "Pressure3pm         0\n",
       "Cloud3pm            0\n",
       "Temp3pm             0\n",
       "RainToday         979\n",
       "RainTomorrow        0\n",
       "dtype: int64"
      ]
     },
     "execution_count": 9,
     "metadata": {},
     "output_type": "execute_result"
    }
   ],
   "source": [
    "df1.isna().sum()"
   ]
  },
  {
   "cell_type": "code",
   "execution_count": 10,
   "id": "42cec0fc",
   "metadata": {},
   "outputs": [
    {
     "data": {
      "text/plain": [
       "0    W\n",
       "Name: WindGustDir, dtype: object"
      ]
     },
     "execution_count": 10,
     "metadata": {},
     "output_type": "execute_result"
    }
   ],
   "source": [
    "df1['WindGustDir'].mode()"
   ]
  },
  {
   "cell_type": "code",
   "execution_count": 11,
   "id": "60d7393a",
   "metadata": {},
   "outputs": [
    {
     "data": {
      "text/plain": [
       "0    SE\n",
       "Name: WindDir3pm, dtype: object"
      ]
     },
     "execution_count": 11,
     "metadata": {},
     "output_type": "execute_result"
    }
   ],
   "source": [
    "df1['WindDir3pm'].mode()"
   ]
  },
  {
   "cell_type": "code",
   "execution_count": 12,
   "id": "5b2a3c7c",
   "metadata": {},
   "outputs": [],
   "source": [
    "# Filling missing values with mode\n",
    "df1['WindGustDir']=df1['WindGustDir'].fillna(df1['WindGustDir'].mode()[0])\n",
    "df1['WindDir3pm']=df1['WindDir3pm'].fillna(df1['WindDir3pm'].mode()[0])"
   ]
  },
  {
   "cell_type": "code",
   "execution_count": 13,
   "id": "3babfd97",
   "metadata": {},
   "outputs": [],
   "source": [
    "# When we fill the missing values in RainToday with mode, this might mislead our model.Hence\n",
    "# dropping these rows\n",
    "df1=df1.dropna(subset=['RainToday'])"
   ]
  },
  {
   "cell_type": "code",
   "execution_count": 14,
   "id": "45f32343",
   "metadata": {},
   "outputs": [],
   "source": [
    "df1=df1.reset_index(drop=True)"
   ]
  },
  {
   "cell_type": "code",
   "execution_count": 15,
   "id": "0ec34dd5",
   "metadata": {},
   "outputs": [
    {
     "data": {
      "text/plain": [
       "Location         0\n",
       "MinTemp          0\n",
       "MaxTemp          0\n",
       "WindGustDir      0\n",
       "WindGustSpeed    0\n",
       "WindDir3pm       0\n",
       "Humidity3pm      0\n",
       "Pressure3pm      0\n",
       "Cloud3pm         0\n",
       "Temp3pm          0\n",
       "RainToday        0\n",
       "RainTomorrow     0\n",
       "dtype: int64"
      ]
     },
     "execution_count": 15,
     "metadata": {},
     "output_type": "execute_result"
    }
   ],
   "source": [
    "df1.isna().sum()"
   ]
  },
  {
   "cell_type": "code",
   "execution_count": 16,
   "id": "3f2e17c0",
   "metadata": {},
   "outputs": [
    {
     "data": {
      "text/html": [
       "<div>\n",
       "<style scoped>\n",
       "    .dataframe tbody tr th:only-of-type {\n",
       "        vertical-align: middle;\n",
       "    }\n",
       "\n",
       "    .dataframe tbody tr th {\n",
       "        vertical-align: top;\n",
       "    }\n",
       "\n",
       "    .dataframe thead th {\n",
       "        text-align: right;\n",
       "    }\n",
       "</style>\n",
       "<table border=\"1\" class=\"dataframe\">\n",
       "  <thead>\n",
       "    <tr style=\"text-align: right;\">\n",
       "      <th></th>\n",
       "      <th>Location</th>\n",
       "      <th>MinTemp</th>\n",
       "      <th>MaxTemp</th>\n",
       "      <th>WindGustDir</th>\n",
       "      <th>WindGustSpeed</th>\n",
       "      <th>WindDir3pm</th>\n",
       "      <th>Humidity3pm</th>\n",
       "      <th>Pressure3pm</th>\n",
       "      <th>Cloud3pm</th>\n",
       "      <th>Temp3pm</th>\n",
       "      <th>RainToday</th>\n",
       "      <th>RainTomorrow</th>\n",
       "    </tr>\n",
       "  </thead>\n",
       "  <tbody>\n",
       "    <tr>\n",
       "      <th>72569</th>\n",
       "      <td>Woomera</td>\n",
       "      <td>19.4</td>\n",
       "      <td>40.0</td>\n",
       "      <td>NNW</td>\n",
       "      <td>61.0</td>\n",
       "      <td>N</td>\n",
       "      <td>0.0</td>\n",
       "      <td>1007.6</td>\n",
       "      <td>1.0</td>\n",
       "      <td>38.9</td>\n",
       "      <td>No</td>\n",
       "      <td>0</td>\n",
       "    </tr>\n",
       "    <tr>\n",
       "      <th>72843</th>\n",
       "      <td>Woomera</td>\n",
       "      <td>23.4</td>\n",
       "      <td>41.6</td>\n",
       "      <td>SSW</td>\n",
       "      <td>69.0</td>\n",
       "      <td>NNW</td>\n",
       "      <td>0.0</td>\n",
       "      <td>1006.5</td>\n",
       "      <td>0.0</td>\n",
       "      <td>40.5</td>\n",
       "      <td>No</td>\n",
       "      <td>0</td>\n",
       "    </tr>\n",
       "    <tr>\n",
       "      <th>73060</th>\n",
       "      <td>Woomera</td>\n",
       "      <td>17.3</td>\n",
       "      <td>37.1</td>\n",
       "      <td>NNW</td>\n",
       "      <td>70.0</td>\n",
       "      <td>NNW</td>\n",
       "      <td>0.0</td>\n",
       "      <td>1016.6</td>\n",
       "      <td>0.0</td>\n",
       "      <td>36.6</td>\n",
       "      <td>No</td>\n",
       "      <td>0</td>\n",
       "    </tr>\n",
       "    <tr>\n",
       "      <th>73068</th>\n",
       "      <td>Woomera</td>\n",
       "      <td>17.7</td>\n",
       "      <td>38.1</td>\n",
       "      <td>N</td>\n",
       "      <td>50.0</td>\n",
       "      <td>NNW</td>\n",
       "      <td>0.0</td>\n",
       "      <td>1013.5</td>\n",
       "      <td>5.0</td>\n",
       "      <td>37.4</td>\n",
       "      <td>No</td>\n",
       "      <td>0</td>\n",
       "    </tr>\n",
       "  </tbody>\n",
       "</table>\n",
       "</div>"
      ],
      "text/plain": [
       "      Location  MinTemp  MaxTemp WindGustDir  WindGustSpeed WindDir3pm  \\\n",
       "72569  Woomera     19.4     40.0         NNW           61.0          N   \n",
       "72843  Woomera     23.4     41.6         SSW           69.0        NNW   \n",
       "73060  Woomera     17.3     37.1         NNW           70.0        NNW   \n",
       "73068  Woomera     17.7     38.1           N           50.0        NNW   \n",
       "\n",
       "       Humidity3pm  Pressure3pm  Cloud3pm  Temp3pm RainToday  RainTomorrow  \n",
       "72569          0.0       1007.6       1.0     38.9        No             0  \n",
       "72843          0.0       1006.5       0.0     40.5        No             0  \n",
       "73060          0.0       1016.6       0.0     36.6        No             0  \n",
       "73068          0.0       1013.5       5.0     37.4        No             0  "
      ]
     },
     "execution_count": 16,
     "metadata": {},
     "output_type": "execute_result"
    }
   ],
   "source": [
    "# In the column Humidity3pm, there is 0% Humidity. That is impossible\n",
    "df1[df1['Humidity3pm']==0]"
   ]
  },
  {
   "cell_type": "code",
   "execution_count": 17,
   "id": "3e89d97f",
   "metadata": {},
   "outputs": [],
   "source": [
    "# Replacing 0% Humidity with 1%\n",
    "df1['Humidity3pm']=df1['Humidity3pm'].replace(0,1)"
   ]
  },
  {
   "cell_type": "code",
   "execution_count": null,
   "id": "19d19831",
   "metadata": {},
   "outputs": [],
   "source": [
    "# Handling outliers"
   ]
  },
  {
   "cell_type": "code",
   "execution_count": 18,
   "id": "2414834d",
   "metadata": {},
   "outputs": [],
   "source": [
    "# Finding interquartile range and detecting the outliers in MinTemp\n",
    "Q1=np.percentile(df1['MinTemp'],25)\n",
    "Q3=np.percentile(df1['MinTemp'],75)"
   ]
  },
  {
   "cell_type": "code",
   "execution_count": 19,
   "id": "17ee4466",
   "metadata": {},
   "outputs": [
    {
     "name": "stdout",
     "output_type": "stream",
     "text": [
      "7.6\n",
      "16.8\n"
     ]
    }
   ],
   "source": [
    "print(Q1)\n",
    "print(Q3)"
   ]
  },
  {
   "cell_type": "code",
   "execution_count": 20,
   "id": "88a9898f",
   "metadata": {},
   "outputs": [
    {
     "data": {
      "text/plain": [
       "9.200000000000001"
      ]
     },
     "execution_count": 20,
     "metadata": {},
     "output_type": "execute_result"
    }
   ],
   "source": [
    "IQR=Q3-Q1\n",
    "IQR"
   ]
  },
  {
   "cell_type": "code",
   "execution_count": 21,
   "id": "18874d65",
   "metadata": {},
   "outputs": [
    {
     "data": {
      "text/plain": [
       "<AxesSubplot:xlabel='MinTemp'>"
      ]
     },
     "execution_count": 21,
     "metadata": {},
     "output_type": "execute_result"
    },
    {
     "data": {
      "image/png": "[encoded data removed]",
      "text/plain": [
       "<Figure size 432x288 with 1 Axes>"
      ]
     },
     "metadata": {
      "needs_background": "light"
     },
     "output_type": "display_data"
    }
   ],
   "source": [
    "sns.boxplot(df1['MinTemp'])"
   ]
  },
  {
   "cell_type": "code",
   "execution_count": 22,
   "id": "7c18150b",
   "metadata": {},
   "outputs": [
    {
     "data": {
      "text/plain": [
       "(-6.200000000000001, 30.6)"
      ]
     },
     "execution_count": 22,
     "metadata": {},
     "output_type": "execute_result"
    }
   ],
   "source": [
    "low_lim=Q1-1.5*IQR\n",
    "up_lim=Q3+1.5*IQR\n",
    "low_lim,up_lim"
   ]
  },
  {
   "cell_type": "code",
   "execution_count": 23,
   "id": "c9eef18d",
   "metadata": {},
   "outputs": [],
   "source": [
    "outliers=[]\n",
    "for x in df1['MinTemp']:\n",
    "    if(x<low_lim)or(x>up_lim):\n",
    "        outliers.append(x)"
   ]
  },
  {
   "cell_type": "code",
   "execution_count": 24,
   "id": "5f7c08eb",
   "metadata": {},
   "outputs": [
    {
     "data": {
      "text/plain": [
       "[-6.9,\n",
       " -6.5,\n",
       " -6.3,\n",
       " -8.0,\n",
       " -6.7,\n",
       " -6.6,\n",
       " -6.8,\n",
       " -7.0,\n",
       " -6.9,\n",
       " -7.0,\n",
       " -6.7,\n",
       " -7.0,\n",
       " -6.3,\n",
       " -6.7,\n",
       " -8.5,\n",
       " -6.3,\n",
       " -7.1,\n",
       " -6.4,\n",
       " -6.5,\n",
       " -6.5,\n",
       " -6.6,\n",
       " -6.5,\n",
       " -6.3,\n",
       " -6.7,\n",
       " -7.6,\n",
       " -6.6,\n",
       " -7.5,\n",
       " -6.4,\n",
       " -6.4,\n",
       " -6.7,\n",
       " -6.5,\n",
       " -8.2,\n",
       " -7.2,\n",
       " -6.5,\n",
       " -7.8,\n",
       " -7.0,\n",
       " -7.3,\n",
       " -7.0,\n",
       " 31.9,\n",
       " 33.9,\n",
       " 30.7,\n",
       " 31.4,\n",
       " 31.4,\n",
       " 31.2]"
      ]
     },
     "execution_count": 24,
     "metadata": {},
     "output_type": "execute_result"
    }
   ],
   "source": [
    "outliers"
   ]
  },
  {
   "cell_type": "code",
   "execution_count": 25,
   "id": "5b16b462",
   "metadata": {},
   "outputs": [],
   "source": [
    "ind=(df1['MinTemp']<low_lim)|(df1['MinTemp']>up_lim)"
   ]
  },
  {
   "cell_type": "code",
   "execution_count": 26,
   "id": "0d927750",
   "metadata": {},
   "outputs": [
    {
     "data": {
      "text/plain": [
       "Int64Index([31546, 31547, 31597, 31598, 31599, 31850, 31875, 32545, 32547,\n",
       "            32566, 33442, 33687, 34618, 35263, 35264, 35310, 35481, 35624,\n",
       "            35661, 35664, 35702, 36115, 36134, 36336, 36352, 36353, 36357,\n",
       "            36563, 36577, 36587, 36602, 36609, 36610, 36620, 36839, 36840,\n",
       "            36848, 36855, 48901, 65185, 66788, 71446, 72653, 78584],\n",
       "           dtype='int64')"
      ]
     },
     "execution_count": 26,
     "metadata": {},
     "output_type": "execute_result"
    }
   ],
   "source": [
    "df1.loc[ind].index"
   ]
  },
  {
   "cell_type": "code",
   "execution_count": 27,
   "id": "e7d9490b",
   "metadata": {},
   "outputs": [],
   "source": [
    "df1['MinTemp']=np.where(df1['MinTemp']<low_lim,low_lim,np.where(df1['MinTemp']>up_lim,up_lim,df1['MinTemp']))"
   ]
  },
  {
   "cell_type": "code",
   "execution_count": 28,
   "id": "866fcbcb",
   "metadata": {},
   "outputs": [
    {
     "data": {
      "text/plain": [
       "<AxesSubplot:xlabel='MinTemp'>"
      ]
     },
     "execution_count": 28,
     "metadata": {},
     "output_type": "execute_result"
    },
    {
     "data": {
      "image/png": "[encoded data removed]",
      "text/plain": [
       "<Figure size 432x288 with 1 Axes>"
      ]
     },
     "metadata": {
      "needs_background": "light"
     },
     "output_type": "display_data"
    }
   ],
   "source": [
    "sns.boxplot(df1['MinTemp'])"
   ]
  },
  {
   "cell_type": "code",
   "execution_count": 29,
   "id": "16b68e2f",
   "metadata": {},
   "outputs": [
    {
     "data": {
      "text/plain": [
       "(17.9, 28.2)"
      ]
     },
     "execution_count": 29,
     "metadata": {},
     "output_type": "execute_result"
    }
   ],
   "source": [
    "# Finding interquartile range and detecting the outliers in MaxTemp\n",
    "Q1=np.percentile(df1['MaxTemp'],25)\n",
    "Q3=np.percentile(df1['MaxTemp'],75)\n",
    "Q1,Q3"
   ]
  },
  {
   "cell_type": "code",
   "execution_count": 30,
   "id": "300280b1",
   "metadata": {},
   "outputs": [
    {
     "data": {
      "text/plain": [
       "<AxesSubplot:xlabel='MaxTemp'>"
      ]
     },
     "execution_count": 30,
     "metadata": {},
     "output_type": "execute_result"
    },
    {
     "data": {
      "image/png": "[encoded data removed]",
      "text/plain": [
       "<Figure size 432x288 with 1 Axes>"
      ]
     },
     "metadata": {
      "needs_background": "light"
     },
     "output_type": "display_data"
    }
   ],
   "source": [
    "sns.boxplot(df1['MaxTemp'])"
   ]
  },
  {
   "cell_type": "code",
   "execution_count": 31,
   "id": "0838f6e8",
   "metadata": {},
   "outputs": [
    {
     "data": {
      "text/plain": [
       "(2.4499999999999975, 43.65)"
      ]
     },
     "execution_count": 31,
     "metadata": {},
     "output_type": "execute_result"
    }
   ],
   "source": [
    "IQR=Q3-Q1\n",
    "low_lim=Q1-1.5*IQR\n",
    "up_lim=Q3+1.5*IQR\n",
    "low_lim,up_lim"
   ]
  },
  {
   "cell_type": "code",
   "execution_count": 32,
   "id": "13d7a881",
   "metadata": {},
   "outputs": [],
   "source": [
    "outliers=[]\n",
    "for x in df1['MaxTemp']:\n",
    "    if(x<low_lim)or(x>up_lim):\n",
    "        outliers.append(x)"
   ]
  },
  {
   "cell_type": "code",
   "execution_count": 33,
   "id": "3e3f5c3a",
   "metadata": {},
   "outputs": [],
   "source": [
    "df1['MaxTemp']=np.where(df1['MaxTemp']<low_lim,low_lim,np.where(df1['MaxTemp']>up_lim,up_lim,df1['MaxTemp']))"
   ]
  },
  {
   "cell_type": "code",
   "execution_count": 34,
   "id": "3bb5f2aa",
   "metadata": {},
   "outputs": [
    {
     "data": {
      "text/plain": [
       "<AxesSubplot:xlabel='MaxTemp'>"
      ]
     },
     "execution_count": 34,
     "metadata": {},
     "output_type": "execute_result"
    },
    {
     "data": {
      "image/png": "[encoded data removed]",
      "text/plain": [
       "<Figure size 432x288 with 1 Axes>"
      ]
     },
     "metadata": {
      "needs_background": "light"
     },
     "output_type": "display_data"
    }
   ],
   "source": [
    "sns.boxplot(df1['MaxTemp'])"
   ]
  },
  {
   "cell_type": "code",
   "execution_count": 35,
   "id": "71ef9079",
   "metadata": {},
   "outputs": [
    {
     "data": {
      "text/plain": [
       "(31.0, 46.0)"
      ]
     },
     "execution_count": 35,
     "metadata": {},
     "output_type": "execute_result"
    }
   ],
   "source": [
    "# Finding interquartile range and detecting the outliers in WindGustSpeed\n",
    "Q1=np.percentile(df1['WindGustSpeed'],25)\n",
    "Q3=np.percentile(df1['WindGustSpeed'],75)\n",
    "Q1,Q3"
   ]
  },
  {
   "cell_type": "code",
   "execution_count": 36,
   "id": "d0a835c6",
   "metadata": {},
   "outputs": [
    {
     "data": {
      "text/plain": [
       "<AxesSubplot:xlabel='WindGustSpeed'>"
      ]
     },
     "execution_count": 36,
     "metadata": {},
     "output_type": "execute_result"
    },
    {
     "data": {
      "image/png": "[encoded data removed]",
      "text/plain": [
       "<Figure size 432x288 with 1 Axes>"
      ]
     },
     "metadata": {
      "needs_background": "light"
     },
     "output_type": "display_data"
    }
   ],
   "source": [
    "sns.boxplot(df1['WindGustSpeed'])"
   ]
  },
  {
   "cell_type": "code",
   "execution_count": 37,
   "id": "6ceb53f3",
   "metadata": {},
   "outputs": [
    {
     "data": {
      "text/plain": [
       "(8.5, 68.5)"
      ]
     },
     "execution_count": 37,
     "metadata": {},
     "output_type": "execute_result"
    }
   ],
   "source": [
    "IQR=Q3-Q1\n",
    "low_lim=Q1-1.5*IQR\n",
    "up_lim=Q3+1.5*IQR\n",
    "low_lim,up_lim"
   ]
  },
  {
   "cell_type": "code",
   "execution_count": 38,
   "id": "6bfa8ed1",
   "metadata": {},
   "outputs": [],
   "source": [
    "outliers=[]\n",
    "for x in df1['WindGustSpeed']:\n",
    "    if(x<low_lim)|(x>up_lim):\n",
    "        outliers.append(x)"
   ]
  },
  {
   "cell_type": "code",
   "execution_count": 39,
   "id": "4be3b0be",
   "metadata": {},
   "outputs": [],
   "source": [
    "df1['WindGustSpeed']=np.where(df1['WindGustSpeed']<low_lim,low_lim,np.where(df1['WindGustSpeed']>up_lim,up_lim,df1['WindGustSpeed']))"
   ]
  },
  {
   "cell_type": "code",
   "execution_count": 40,
   "id": "24d5e76e",
   "metadata": {},
   "outputs": [
    {
     "data": {
      "text/plain": [
       "<AxesSubplot:xlabel='WindGustSpeed'>"
      ]
     },
     "execution_count": 40,
     "metadata": {},
     "output_type": "execute_result"
    },
    {
     "data": {
      "image/png": "[encoded data removed]",
      "text/plain": [
       "<Figure size 432x288 with 1 Axes>"
      ]
     },
     "metadata": {
      "needs_background": "light"
     },
     "output_type": "display_data"
    }
   ],
   "source": [
    "sns.boxplot(df1['WindGustSpeed'])"
   ]
  },
  {
   "cell_type": "code",
   "execution_count": 41,
   "id": "770f7f4a",
   "metadata": {},
   "outputs": [
    {
     "data": {
      "text/plain": [
       "(1011.0, 1019.5)"
      ]
     },
     "execution_count": 41,
     "metadata": {},
     "output_type": "execute_result"
    }
   ],
   "source": [
    "# Finding interquartile range and detecting the outliers in Pressure3pm\n",
    "Q1=np.percentile(df1['Pressure3pm'],25)\n",
    "Q3=np.percentile(df1['Pressure3pm'],75)\n",
    "Q1,Q3"
   ]
  },
  {
   "cell_type": "code",
   "execution_count": 42,
   "id": "79f74a35",
   "metadata": {},
   "outputs": [
    {
     "data": {
      "text/plain": [
       "<AxesSubplot:xlabel='Pressure3pm'>"
      ]
     },
     "execution_count": 42,
     "metadata": {},
     "output_type": "execute_result"
    },
    {
     "data": {
      "image/png": "[encoded data removed]",
      "text/plain": [
       "<Figure size 432x288 with 1 Axes>"
      ]
     },
     "metadata": {
      "needs_background": "light"
     },
     "output_type": "display_data"
    }
   ],
   "source": [
    "sns.boxplot(df1['Pressure3pm'])"
   ]
  },
  {
   "cell_type": "code",
   "execution_count": 43,
   "id": "5202af85",
   "metadata": {},
   "outputs": [
    {
     "data": {
      "text/plain": [
       "(998.25, 1032.25)"
      ]
     },
     "execution_count": 43,
     "metadata": {},
     "output_type": "execute_result"
    }
   ],
   "source": [
    "IQR=Q3-Q1\n",
    "low_lim=Q1-1.5*IQR\n",
    "up_lim=Q3+1.5*IQR\n",
    "low_lim,up_lim"
   ]
  },
  {
   "cell_type": "code",
   "execution_count": 44,
   "id": "4589ddf3",
   "metadata": {},
   "outputs": [],
   "source": [
    "outliers=[]\n",
    "for x in df1['Pressure3pm']:\n",
    "    if(x<low_lim)|(x>up_lim):\n",
    "        outliers.append(x)"
   ]
  },
  {
   "cell_type": "code",
   "execution_count": 45,
   "id": "86cec378",
   "metadata": {},
   "outputs": [],
   "source": [
    "df1['Pressure3pm']=np.where(df1['Pressure3pm']<low_lim,low_lim,np.where(df1['Pressure3pm']>up_lim,up_lim,df1['Pressure3pm']))"
   ]
  },
  {
   "cell_type": "code",
   "execution_count": 46,
   "id": "b8346aaf",
   "metadata": {},
   "outputs": [
    {
     "data": {
      "text/plain": [
       "<AxesSubplot:xlabel='Pressure3pm'>"
      ]
     },
     "execution_count": 46,
     "metadata": {},
     "output_type": "execute_result"
    },
    {
     "data": {
      "image/png": "[encoded data removed]",
      "text/plain": [
       "<Figure size 432x288 with 1 Axes>"
      ]
     },
     "metadata": {
      "needs_background": "light"
     },
     "output_type": "display_data"
    }
   ],
   "source": [
    "sns.boxplot(df1['Pressure3pm'])"
   ]
  },
  {
   "cell_type": "code",
   "execution_count": 47,
   "id": "b0ba509e",
   "metadata": {},
   "outputs": [
    {
     "data": {
      "text/plain": [
       "(16.7, 26.3)"
      ]
     },
     "execution_count": 47,
     "metadata": {},
     "output_type": "execute_result"
    }
   ],
   "source": [
    "# Finding interquartile range and detecting the outliers in Temp3pm\n",
    "Q1=np.percentile(df1['Temp3pm'],25)\n",
    "Q3=np.percentile(df1['Temp3pm'],75)\n",
    "Q1,Q3"
   ]
  },
  {
   "cell_type": "code",
   "execution_count": 48,
   "id": "7cf598e9",
   "metadata": {},
   "outputs": [
    {
     "data": {
      "text/plain": [
       "(2.299999999999997, 40.7)"
      ]
     },
     "execution_count": 48,
     "metadata": {},
     "output_type": "execute_result"
    }
   ],
   "source": [
    "IQR=Q3-Q1\n",
    "low_lim=Q1-1.5*IQR\n",
    "up_lim=Q3+1.5*IQR\n",
    "low_lim,up_lim"
   ]
  },
  {
   "cell_type": "code",
   "execution_count": 49,
   "id": "1c16aad7",
   "metadata": {},
   "outputs": [],
   "source": [
    "outliers=[]\n",
    "for x in df1['Temp3pm']:\n",
    "    if(x<low_lim)|(x>up_lim):\n",
    "        outliers.append(x)"
   ]
  },
  {
   "cell_type": "code",
   "execution_count": 50,
   "id": "eb840ce2",
   "metadata": {},
   "outputs": [],
   "source": [
    "df1['Temp3pm']=np.where(df1['Temp3pm']<low_lim,low_lim,np.where(df1['Temp3pm']>up_lim,up_lim,df1['Temp3pm']))"
   ]
  },
  {
   "cell_type": "code",
   "execution_count": 51,
   "id": "ac45d1e5",
   "metadata": {},
   "outputs": [
    {
     "data": {
      "text/plain": [
       "<AxesSubplot:xlabel='Temp3pm'>"
      ]
     },
     "execution_count": 51,
     "metadata": {},
     "output_type": "execute_result"
    },
    {
     "data": {
      "image/png": "[encoded data removed]",
      "text/plain": [
       "<Figure size 432x288 with 1 Axes>"
      ]
     },
     "metadata": {
      "needs_background": "light"
     },
     "output_type": "display_data"
    }
   ],
   "source": [
    "sns.boxplot(df1['Temp3pm'])"
   ]
  },
  {
   "cell_type": "code",
   "execution_count": 52,
   "id": "33e12c13",
   "metadata": {},
   "outputs": [],
   "source": [
    "# Label Encoding Location,WindDir3pm,WindGustDir and RainToday\n",
    "from sklearn.preprocessing import LabelEncoder\n",
    "lab_enc=LabelEncoder()\n",
    "df1['Location']=lab_enc.fit_transform(df1['Location'])\n",
    "df1['WindDir3pm']=lab_enc.fit_transform(df1['WindDir3pm'])\n",
    "df1['WindGustDir']=lab_enc.fit_transform(df1['WindGustDir'])\n",
    "df1['RainToday']=lab_enc.fit_transform(df1['RainToday'])"
   ]
  },
  {
   "cell_type": "code",
   "execution_count": 53,
   "id": "3071aaff",
   "metadata": {},
   "outputs": [
    {
     "data": {
      "text/html": [
       "<div>\n",
       "<style scoped>\n",
       "    .dataframe tbody tr th:only-of-type {\n",
       "        vertical-align: middle;\n",
       "    }\n",
       "\n",
       "    .dataframe tbody tr th {\n",
       "        vertical-align: top;\n",
       "    }\n",
       "\n",
       "    .dataframe thead th {\n",
       "        text-align: right;\n",
       "    }\n",
       "</style>\n",
       "<table border=\"1\" class=\"dataframe\">\n",
       "  <thead>\n",
       "    <tr style=\"text-align: right;\">\n",
       "      <th></th>\n",
       "      <th>Location</th>\n",
       "      <th>MinTemp</th>\n",
       "      <th>MaxTemp</th>\n",
       "      <th>WindGustDir</th>\n",
       "      <th>WindGustSpeed</th>\n",
       "      <th>WindDir3pm</th>\n",
       "      <th>Humidity3pm</th>\n",
       "      <th>Pressure3pm</th>\n",
       "      <th>Cloud3pm</th>\n",
       "      <th>Temp3pm</th>\n",
       "      <th>RainToday</th>\n",
       "      <th>RainTomorrow</th>\n",
       "    </tr>\n",
       "  </thead>\n",
       "  <tbody>\n",
       "    <tr>\n",
       "      <th>0</th>\n",
       "      <td>2</td>\n",
       "      <td>13.4</td>\n",
       "      <td>22.9</td>\n",
       "      <td>13</td>\n",
       "      <td>44.0</td>\n",
       "      <td>14</td>\n",
       "      <td>22.0</td>\n",
       "      <td>1007.1</td>\n",
       "      <td>4.519122</td>\n",
       "      <td>21.8</td>\n",
       "      <td>0</td>\n",
       "      <td>0</td>\n",
       "    </tr>\n",
       "    <tr>\n",
       "      <th>1</th>\n",
       "      <td>2</td>\n",
       "      <td>7.4</td>\n",
       "      <td>25.1</td>\n",
       "      <td>14</td>\n",
       "      <td>44.0</td>\n",
       "      <td>15</td>\n",
       "      <td>25.0</td>\n",
       "      <td>1007.8</td>\n",
       "      <td>4.519122</td>\n",
       "      <td>24.3</td>\n",
       "      <td>0</td>\n",
       "      <td>0</td>\n",
       "    </tr>\n",
       "    <tr>\n",
       "      <th>2</th>\n",
       "      <td>2</td>\n",
       "      <td>17.5</td>\n",
       "      <td>32.3</td>\n",
       "      <td>13</td>\n",
       "      <td>41.0</td>\n",
       "      <td>7</td>\n",
       "      <td>33.0</td>\n",
       "      <td>1006.0</td>\n",
       "      <td>8.000000</td>\n",
       "      <td>29.7</td>\n",
       "      <td>0</td>\n",
       "      <td>0</td>\n",
       "    </tr>\n",
       "    <tr>\n",
       "      <th>3</th>\n",
       "      <td>2</td>\n",
       "      <td>14.6</td>\n",
       "      <td>29.7</td>\n",
       "      <td>14</td>\n",
       "      <td>56.0</td>\n",
       "      <td>13</td>\n",
       "      <td>23.0</td>\n",
       "      <td>1005.4</td>\n",
       "      <td>4.519122</td>\n",
       "      <td>28.9</td>\n",
       "      <td>0</td>\n",
       "      <td>0</td>\n",
       "    </tr>\n",
       "    <tr>\n",
       "      <th>4</th>\n",
       "      <td>2</td>\n",
       "      <td>7.7</td>\n",
       "      <td>26.7</td>\n",
       "      <td>13</td>\n",
       "      <td>35.0</td>\n",
       "      <td>13</td>\n",
       "      <td>19.0</td>\n",
       "      <td>1010.1</td>\n",
       "      <td>4.519122</td>\n",
       "      <td>25.5</td>\n",
       "      <td>0</td>\n",
       "      <td>0</td>\n",
       "    </tr>\n",
       "    <tr>\n",
       "      <th>...</th>\n",
       "      <td>...</td>\n",
       "      <td>...</td>\n",
       "      <td>...</td>\n",
       "      <td>...</td>\n",
       "      <td>...</td>\n",
       "      <td>...</td>\n",
       "      <td>...</td>\n",
       "      <td>...</td>\n",
       "      <td>...</td>\n",
       "      <td>...</td>\n",
       "      <td>...</td>\n",
       "      <td>...</td>\n",
       "    </tr>\n",
       "    <tr>\n",
       "      <th>98532</th>\n",
       "      <td>41</td>\n",
       "      <td>8.0</td>\n",
       "      <td>20.7</td>\n",
       "      <td>2</td>\n",
       "      <td>41.0</td>\n",
       "      <td>0</td>\n",
       "      <td>32.0</td>\n",
       "      <td>1024.3</td>\n",
       "      <td>7.000000</td>\n",
       "      <td>20.0</td>\n",
       "      <td>0</td>\n",
       "      <td>0</td>\n",
       "    </tr>\n",
       "    <tr>\n",
       "      <th>98533</th>\n",
       "      <td>41</td>\n",
       "      <td>3.5</td>\n",
       "      <td>21.8</td>\n",
       "      <td>0</td>\n",
       "      <td>31.0</td>\n",
       "      <td>0</td>\n",
       "      <td>27.0</td>\n",
       "      <td>1021.2</td>\n",
       "      <td>4.519122</td>\n",
       "      <td>20.9</td>\n",
       "      <td>0</td>\n",
       "      <td>0</td>\n",
       "    </tr>\n",
       "    <tr>\n",
       "      <th>98534</th>\n",
       "      <td>41</td>\n",
       "      <td>2.8</td>\n",
       "      <td>23.4</td>\n",
       "      <td>0</td>\n",
       "      <td>31.0</td>\n",
       "      <td>1</td>\n",
       "      <td>24.0</td>\n",
       "      <td>1020.3</td>\n",
       "      <td>4.519122</td>\n",
       "      <td>22.4</td>\n",
       "      <td>0</td>\n",
       "      <td>0</td>\n",
       "    </tr>\n",
       "    <tr>\n",
       "      <th>98535</th>\n",
       "      <td>41</td>\n",
       "      <td>3.6</td>\n",
       "      <td>25.3</td>\n",
       "      <td>6</td>\n",
       "      <td>22.0</td>\n",
       "      <td>3</td>\n",
       "      <td>21.0</td>\n",
       "      <td>1019.1</td>\n",
       "      <td>4.519122</td>\n",
       "      <td>24.5</td>\n",
       "      <td>0</td>\n",
       "      <td>0</td>\n",
       "    </tr>\n",
       "    <tr>\n",
       "      <th>98536</th>\n",
       "      <td>41</td>\n",
       "      <td>5.4</td>\n",
       "      <td>26.9</td>\n",
       "      <td>3</td>\n",
       "      <td>37.0</td>\n",
       "      <td>14</td>\n",
       "      <td>24.0</td>\n",
       "      <td>1016.8</td>\n",
       "      <td>4.519122</td>\n",
       "      <td>26.1</td>\n",
       "      <td>0</td>\n",
       "      <td>0</td>\n",
       "    </tr>\n",
       "  </tbody>\n",
       "</table>\n",
       "<p>98537 rows × 12 columns</p>\n",
       "</div>"
      ],
      "text/plain": [
       "       Location  MinTemp  MaxTemp  WindGustDir  WindGustSpeed  WindDir3pm  \\\n",
       "0             2     13.4     22.9           13           44.0          14   \n",
       "1             2      7.4     25.1           14           44.0          15   \n",
       "2             2     17.5     32.3           13           41.0           7   \n",
       "3             2     14.6     29.7           14           56.0          13   \n",
       "4             2      7.7     26.7           13           35.0          13   \n",
       "...         ...      ...      ...          ...            ...         ...   \n",
       "98532        41      8.0     20.7            2           41.0           0   \n",
       "98533        41      3.5     21.8            0           31.0           0   \n",
       "98534        41      2.8     23.4            0           31.0           1   \n",
       "98535        41      3.6     25.3            6           22.0           3   \n",
       "98536        41      5.4     26.9            3           37.0          14   \n",
       "\n",
       "       Humidity3pm  Pressure3pm  Cloud3pm  Temp3pm  RainToday  RainTomorrow  \n",
       "0             22.0       1007.1  4.519122     21.8          0             0  \n",
       "1             25.0       1007.8  4.519122     24.3          0             0  \n",
       "2             33.0       1006.0  8.000000     29.7          0             0  \n",
       "3             23.0       1005.4  4.519122     28.9          0             0  \n",
       "4             19.0       1010.1  4.519122     25.5          0             0  \n",
       "...            ...          ...       ...      ...        ...           ...  \n",
       "98532         32.0       1024.3  7.000000     20.0          0             0  \n",
       "98533         27.0       1021.2  4.519122     20.9          0             0  \n",
       "98534         24.0       1020.3  4.519122     22.4          0             0  \n",
       "98535         21.0       1019.1  4.519122     24.5          0             0  \n",
       "98536         24.0       1016.8  4.519122     26.1          0             0  \n",
       "\n",
       "[98537 rows x 12 columns]"
      ]
     },
     "execution_count": 53,
     "metadata": {},
     "output_type": "execute_result"
    }
   ],
   "source": [
    "df1"
   ]
  },
  {
   "cell_type": "code",
   "execution_count": 54,
   "id": "6d3dc946",
   "metadata": {},
   "outputs": [
    {
     "data": {
      "text/plain": [
       "<AxesSubplot:>"
      ]
     },
     "execution_count": 54,
     "metadata": {},
     "output_type": "execute_result"
    },
    {
     "data": {
      "image/png": "[encoded data removed]",
      "text/plain": [
       "<Figure size 1296x576 with 2 Axes>"
      ]
     },
     "metadata": {
      "needs_background": "light"
     },
     "output_type": "display_data"
    }
   ],
   "source": [
    "# Correlation Matrix\n",
    "corr_matrix=df1.corr()\n",
    "plt.subplots(figsize=(18,8))\n",
    "sns.heatmap(corr_matrix,annot=True,cmap='winter')"
   ]
  },
  {
   "cell_type": "code",
   "execution_count": 55,
   "id": "c5db99a7",
   "metadata": {},
   "outputs": [
    {
     "data": {
      "text/html": [
       "<div>\n",
       "<style scoped>\n",
       "    .dataframe tbody tr th:only-of-type {\n",
       "        vertical-align: middle;\n",
       "    }\n",
       "\n",
       "    .dataframe tbody tr th {\n",
       "        vertical-align: top;\n",
       "    }\n",
       "\n",
       "    .dataframe thead th {\n",
       "        text-align: right;\n",
       "    }\n",
       "</style>\n",
       "<table border=\"1\" class=\"dataframe\">\n",
       "  <thead>\n",
       "    <tr style=\"text-align: right;\">\n",
       "      <th></th>\n",
       "      <th>Location</th>\n",
       "      <th>MinTemp</th>\n",
       "      <th>MaxTemp</th>\n",
       "      <th>WindGustDir</th>\n",
       "      <th>WindGustSpeed</th>\n",
       "      <th>WindDir3pm</th>\n",
       "      <th>Humidity3pm</th>\n",
       "      <th>Pressure3pm</th>\n",
       "      <th>Cloud3pm</th>\n",
       "      <th>Temp3pm</th>\n",
       "      <th>RainToday</th>\n",
       "      <th>RainTomorrow</th>\n",
       "    </tr>\n",
       "  </thead>\n",
       "  <tbody>\n",
       "    <tr>\n",
       "      <th>0</th>\n",
       "      <td>2</td>\n",
       "      <td>13.4</td>\n",
       "      <td>22.9</td>\n",
       "      <td>13</td>\n",
       "      <td>44.0</td>\n",
       "      <td>14</td>\n",
       "      <td>22.0</td>\n",
       "      <td>1007.1</td>\n",
       "      <td>4.519122</td>\n",
       "      <td>21.8</td>\n",
       "      <td>0</td>\n",
       "      <td>0</td>\n",
       "    </tr>\n",
       "    <tr>\n",
       "      <th>1</th>\n",
       "      <td>2</td>\n",
       "      <td>7.4</td>\n",
       "      <td>25.1</td>\n",
       "      <td>14</td>\n",
       "      <td>44.0</td>\n",
       "      <td>15</td>\n",
       "      <td>25.0</td>\n",
       "      <td>1007.8</td>\n",
       "      <td>4.519122</td>\n",
       "      <td>24.3</td>\n",
       "      <td>0</td>\n",
       "      <td>0</td>\n",
       "    </tr>\n",
       "    <tr>\n",
       "      <th>2</th>\n",
       "      <td>2</td>\n",
       "      <td>17.5</td>\n",
       "      <td>32.3</td>\n",
       "      <td>13</td>\n",
       "      <td>41.0</td>\n",
       "      <td>7</td>\n",
       "      <td>33.0</td>\n",
       "      <td>1006.0</td>\n",
       "      <td>8.000000</td>\n",
       "      <td>29.7</td>\n",
       "      <td>0</td>\n",
       "      <td>0</td>\n",
       "    </tr>\n",
       "    <tr>\n",
       "      <th>3</th>\n",
       "      <td>2</td>\n",
       "      <td>14.6</td>\n",
       "      <td>29.7</td>\n",
       "      <td>14</td>\n",
       "      <td>56.0</td>\n",
       "      <td>13</td>\n",
       "      <td>23.0</td>\n",
       "      <td>1005.4</td>\n",
       "      <td>4.519122</td>\n",
       "      <td>28.9</td>\n",
       "      <td>0</td>\n",
       "      <td>0</td>\n",
       "    </tr>\n",
       "    <tr>\n",
       "      <th>4</th>\n",
       "      <td>2</td>\n",
       "      <td>7.7</td>\n",
       "      <td>26.7</td>\n",
       "      <td>13</td>\n",
       "      <td>35.0</td>\n",
       "      <td>13</td>\n",
       "      <td>19.0</td>\n",
       "      <td>1010.1</td>\n",
       "      <td>4.519122</td>\n",
       "      <td>25.5</td>\n",
       "      <td>0</td>\n",
       "      <td>0</td>\n",
       "    </tr>\n",
       "    <tr>\n",
       "      <th>...</th>\n",
       "      <td>...</td>\n",
       "      <td>...</td>\n",
       "      <td>...</td>\n",
       "      <td>...</td>\n",
       "      <td>...</td>\n",
       "      <td>...</td>\n",
       "      <td>...</td>\n",
       "      <td>...</td>\n",
       "      <td>...</td>\n",
       "      <td>...</td>\n",
       "      <td>...</td>\n",
       "      <td>...</td>\n",
       "    </tr>\n",
       "    <tr>\n",
       "      <th>98532</th>\n",
       "      <td>41</td>\n",
       "      <td>8.0</td>\n",
       "      <td>20.7</td>\n",
       "      <td>2</td>\n",
       "      <td>41.0</td>\n",
       "      <td>0</td>\n",
       "      <td>32.0</td>\n",
       "      <td>1024.3</td>\n",
       "      <td>7.000000</td>\n",
       "      <td>20.0</td>\n",
       "      <td>0</td>\n",
       "      <td>0</td>\n",
       "    </tr>\n",
       "    <tr>\n",
       "      <th>98533</th>\n",
       "      <td>41</td>\n",
       "      <td>3.5</td>\n",
       "      <td>21.8</td>\n",
       "      <td>0</td>\n",
       "      <td>31.0</td>\n",
       "      <td>0</td>\n",
       "      <td>27.0</td>\n",
       "      <td>1021.2</td>\n",
       "      <td>4.519122</td>\n",
       "      <td>20.9</td>\n",
       "      <td>0</td>\n",
       "      <td>0</td>\n",
       "    </tr>\n",
       "    <tr>\n",
       "      <th>98534</th>\n",
       "      <td>41</td>\n",
       "      <td>2.8</td>\n",
       "      <td>23.4</td>\n",
       "      <td>0</td>\n",
       "      <td>31.0</td>\n",
       "      <td>1</td>\n",
       "      <td>24.0</td>\n",
       "      <td>1020.3</td>\n",
       "      <td>4.519122</td>\n",
       "      <td>22.4</td>\n",
       "      <td>0</td>\n",
       "      <td>0</td>\n",
       "    </tr>\n",
       "    <tr>\n",
       "      <th>98535</th>\n",
       "      <td>41</td>\n",
       "      <td>3.6</td>\n",
       "      <td>25.3</td>\n",
       "      <td>6</td>\n",
       "      <td>22.0</td>\n",
       "      <td>3</td>\n",
       "      <td>21.0</td>\n",
       "      <td>1019.1</td>\n",
       "      <td>4.519122</td>\n",
       "      <td>24.5</td>\n",
       "      <td>0</td>\n",
       "      <td>0</td>\n",
       "    </tr>\n",
       "    <tr>\n",
       "      <th>98536</th>\n",
       "      <td>41</td>\n",
       "      <td>5.4</td>\n",
       "      <td>26.9</td>\n",
       "      <td>3</td>\n",
       "      <td>37.0</td>\n",
       "      <td>14</td>\n",
       "      <td>24.0</td>\n",
       "      <td>1016.8</td>\n",
       "      <td>4.519122</td>\n",
       "      <td>26.1</td>\n",
       "      <td>0</td>\n",
       "      <td>0</td>\n",
       "    </tr>\n",
       "  </tbody>\n",
       "</table>\n",
       "<p>98537 rows × 12 columns</p>\n",
       "</div>"
      ],
      "text/plain": [
       "       Location  MinTemp  MaxTemp  WindGustDir  WindGustSpeed  WindDir3pm  \\\n",
       "0             2     13.4     22.9           13           44.0          14   \n",
       "1             2      7.4     25.1           14           44.0          15   \n",
       "2             2     17.5     32.3           13           41.0           7   \n",
       "3             2     14.6     29.7           14           56.0          13   \n",
       "4             2      7.7     26.7           13           35.0          13   \n",
       "...         ...      ...      ...          ...            ...         ...   \n",
       "98532        41      8.0     20.7            2           41.0           0   \n",
       "98533        41      3.5     21.8            0           31.0           0   \n",
       "98534        41      2.8     23.4            0           31.0           1   \n",
       "98535        41      3.6     25.3            6           22.0           3   \n",
       "98536        41      5.4     26.9            3           37.0          14   \n",
       "\n",
       "       Humidity3pm  Pressure3pm  Cloud3pm  Temp3pm  RainToday  RainTomorrow  \n",
       "0             22.0       1007.1  4.519122     21.8          0             0  \n",
       "1             25.0       1007.8  4.519122     24.3          0             0  \n",
       "2             33.0       1006.0  8.000000     29.7          0             0  \n",
       "3             23.0       1005.4  4.519122     28.9          0             0  \n",
       "4             19.0       1010.1  4.519122     25.5          0             0  \n",
       "...            ...          ...       ...      ...        ...           ...  \n",
       "98532         32.0       1024.3  7.000000     20.0          0             0  \n",
       "98533         27.0       1021.2  4.519122     20.9          0             0  \n",
       "98534         24.0       1020.3  4.519122     22.4          0             0  \n",
       "98535         21.0       1019.1  4.519122     24.5          0             0  \n",
       "98536         24.0       1016.8  4.519122     26.1          0             0  \n",
       "\n",
       "[98537 rows x 12 columns]"
      ]
     },
     "execution_count": 55,
     "metadata": {},
     "output_type": "execute_result"
    }
   ],
   "source": [
    "df1"
   ]
  },
  {
   "cell_type": "code",
   "execution_count": null,
   "id": "ee8d4657",
   "metadata": {},
   "outputs": [],
   "source": [
    "# Recursive Feature Elimination"
   ]
  },
  {
   "cell_type": "code",
   "execution_count": 58,
   "id": "9da1b25a",
   "metadata": {},
   "outputs": [],
   "source": [
    "from sklearn.feature_selection import RFE\n",
    "from sklearn.tree import DecisionTreeClassifier"
   ]
  },
  {
   "cell_type": "code",
   "execution_count": 59,
   "id": "8dea41cf",
   "metadata": {},
   "outputs": [],
   "source": [
    "X=df1.drop('RainTomorrow',axis=1)\n",
    "y=df1['RainTomorrow']"
   ]
  },
  {
   "cell_type": "code",
   "execution_count": 60,
   "id": "068270e6",
   "metadata": {},
   "outputs": [
    {
     "data": {
      "text/plain": [
       "RFE(estimator=DecisionTreeClassifier(), n_features_to_select=10)"
      ]
     },
     "execution_count": 60,
     "metadata": {},
     "output_type": "execute_result"
    }
   ],
   "source": [
    "rfe=RFE(estimator=DecisionTreeClassifier(),n_features_to_select=10)\n",
    "rfe.fit(X,y)"
   ]
  },
  {
   "cell_type": "code",
   "execution_count": 61,
   "id": "c34e5d74",
   "metadata": {},
   "outputs": [
    {
     "name": "stdout",
     "output_type": "stream",
     "text": [
      "Location selected=True rank=1\n",
      "MinTemp selected=True rank=1\n",
      "MaxTemp selected=True rank=1\n",
      "WindGustDir selected=True rank=1\n",
      "WindGustSpeed selected=True rank=1\n",
      "WindDir3pm selected=True rank=1\n",
      "Humidity3pm selected=True rank=1\n",
      "Pressure3pm selected=True rank=1\n",
      "Cloud3pm selected=True rank=1\n",
      "Temp3pm selected=True rank=1\n",
      "RainToday selected=False rank=2\n"
     ]
    }
   ],
   "source": [
    "for i,col in zip(range(X.shape[1]),X.columns):\n",
    "    print(f'{col} selected={rfe.support_[i]} rank={rfe.ranking_[i]}')"
   ]
  },
  {
   "cell_type": "code",
   "execution_count": 62,
   "id": "56636956",
   "metadata": {},
   "outputs": [],
   "source": [
    "X=df1.drop(['RainToday','RainTomorrow'],axis=1)\n",
    "y=df1['RainTomorrow']"
   ]
  },
  {
   "cell_type": "code",
   "execution_count": 63,
   "id": "8f658338",
   "metadata": {},
   "outputs": [],
   "source": [
    "#Standard Scaling \n",
    "from sklearn.preprocessing import StandardScaler\n",
    "std_scl=StandardScaler()"
   ]
  },
  {
   "cell_type": "code",
   "execution_count": 65,
   "id": "0cf17c6f",
   "metadata": {},
   "outputs": [],
   "source": [
    "X1=X.drop(['Location','WindDir3pm','WindGustDir'],axis=1)"
   ]
  },
  {
   "cell_type": "code",
   "execution_count": 66,
   "id": "780f96f2",
   "metadata": {},
   "outputs": [],
   "source": [
    "X1=std_scl.fit_transform(X1)"
   ]
  },
  {
   "cell_type": "code",
   "execution_count": 67,
   "id": "338060b4",
   "metadata": {},
   "outputs": [],
   "source": [
    "X1=pd.DataFrame(X1,columns=['MinTemp','MaxTemp','WindGustSpeed','Humidity3pm','Pressure3pm','Cloud3pm','Temp3pm'])"
   ]
  },
  {
   "cell_type": "code",
   "execution_count": 68,
   "id": "a19153d8",
   "metadata": {},
   "outputs": [],
   "source": [
    "X=X.drop(['MinTemp','MaxTemp','WindGustSpeed','Humidity3pm','Pressure3pm','Cloud3pm','Temp3pm'],axis=1)"
   ]
  },
  {
   "cell_type": "code",
   "execution_count": 134,
   "id": "32267df6",
   "metadata": {},
   "outputs": [],
   "source": [
    "X=pd.concat([X,X1],axis=1)"
   ]
  },
  {
   "cell_type": "code",
   "execution_count": 135,
   "id": "d940f18a",
   "metadata": {},
   "outputs": [
    {
     "data": {
      "text/html": [
       "<div>\n",
       "<style scoped>\n",
       "    .dataframe tbody tr th:only-of-type {\n",
       "        vertical-align: middle;\n",
       "    }\n",
       "\n",
       "    .dataframe tbody tr th {\n",
       "        vertical-align: top;\n",
       "    }\n",
       "\n",
       "    .dataframe thead th {\n",
       "        text-align: right;\n",
       "    }\n",
       "</style>\n",
       "<table border=\"1\" class=\"dataframe\">\n",
       "  <thead>\n",
       "    <tr style=\"text-align: right;\">\n",
       "      <th></th>\n",
       "      <th>Location</th>\n",
       "      <th>WindGustDir</th>\n",
       "      <th>WindDir3pm</th>\n",
       "      <th>MinTemp</th>\n",
       "      <th>MaxTemp</th>\n",
       "      <th>WindGustSpeed</th>\n",
       "      <th>Humidity3pm</th>\n",
       "      <th>Pressure3pm</th>\n",
       "      <th>Cloud3pm</th>\n",
       "      <th>Temp3pm</th>\n",
       "    </tr>\n",
       "  </thead>\n",
       "  <tbody>\n",
       "    <tr>\n",
       "      <th>0</th>\n",
       "      <td>2</td>\n",
       "      <td>13</td>\n",
       "      <td>14</td>\n",
       "      <td>0.192313</td>\n",
       "      <td>-0.046285</td>\n",
       "      <td>0.361178</td>\n",
       "      <td>-1.432427</td>\n",
       "      <td>-1.248508</td>\n",
       "      <td>0.001161</td>\n",
       "      <td>0.017915</td>\n",
       "    </tr>\n",
       "    <tr>\n",
       "      <th>1</th>\n",
       "      <td>2</td>\n",
       "      <td>14</td>\n",
       "      <td>15</td>\n",
       "      <td>-0.748349</td>\n",
       "      <td>0.264175</td>\n",
       "      <td>0.361178</td>\n",
       "      <td>-1.286268</td>\n",
       "      <td>-1.141987</td>\n",
       "      <td>0.001161</td>\n",
       "      <td>0.383655</td>\n",
       "    </tr>\n",
       "    <tr>\n",
       "      <th>2</th>\n",
       "      <td>2</td>\n",
       "      <td>13</td>\n",
       "      <td>7</td>\n",
       "      <td>0.835100</td>\n",
       "      <td>1.280228</td>\n",
       "      <td>0.115368</td>\n",
       "      <td>-0.896513</td>\n",
       "      <td>-1.415900</td>\n",
       "      <td>1.654688</td>\n",
       "      <td>1.173653</td>\n",
       "    </tr>\n",
       "    <tr>\n",
       "      <th>3</th>\n",
       "      <td>2</td>\n",
       "      <td>14</td>\n",
       "      <td>13</td>\n",
       "      <td>0.380446</td>\n",
       "      <td>0.913320</td>\n",
       "      <td>1.344418</td>\n",
       "      <td>-1.383707</td>\n",
       "      <td>-1.507204</td>\n",
       "      <td>0.001161</td>\n",
       "      <td>1.056616</td>\n",
       "    </tr>\n",
       "    <tr>\n",
       "      <th>4</th>\n",
       "      <td>2</td>\n",
       "      <td>13</td>\n",
       "      <td>13</td>\n",
       "      <td>-0.701316</td>\n",
       "      <td>0.489965</td>\n",
       "      <td>-0.376253</td>\n",
       "      <td>-1.578585</td>\n",
       "      <td>-0.791986</td>\n",
       "      <td>0.001161</td>\n",
       "      <td>0.559210</td>\n",
       "    </tr>\n",
       "    <tr>\n",
       "      <th>...</th>\n",
       "      <td>...</td>\n",
       "      <td>...</td>\n",
       "      <td>...</td>\n",
       "      <td>...</td>\n",
       "      <td>...</td>\n",
       "      <td>...</td>\n",
       "      <td>...</td>\n",
       "      <td>...</td>\n",
       "      <td>...</td>\n",
       "      <td>...</td>\n",
       "    </tr>\n",
       "    <tr>\n",
       "      <th>98532</th>\n",
       "      <td>41</td>\n",
       "      <td>2</td>\n",
       "      <td>0</td>\n",
       "      <td>-0.654283</td>\n",
       "      <td>-0.356746</td>\n",
       "      <td>0.115368</td>\n",
       "      <td>-0.945232</td>\n",
       "      <td>1.368885</td>\n",
       "      <td>1.179656</td>\n",
       "      <td>-0.245418</td>\n",
       "    </tr>\n",
       "    <tr>\n",
       "      <th>98533</th>\n",
       "      <td>41</td>\n",
       "      <td>0</td>\n",
       "      <td>0</td>\n",
       "      <td>-1.359780</td>\n",
       "      <td>-0.201516</td>\n",
       "      <td>-0.704000</td>\n",
       "      <td>-1.188829</td>\n",
       "      <td>0.897145</td>\n",
       "      <td>0.001161</td>\n",
       "      <td>-0.113751</td>\n",
       "    </tr>\n",
       "    <tr>\n",
       "      <th>98534</th>\n",
       "      <td>41</td>\n",
       "      <td>0</td>\n",
       "      <td>1</td>\n",
       "      <td>-1.469524</td>\n",
       "      <td>0.024274</td>\n",
       "      <td>-0.704000</td>\n",
       "      <td>-1.334988</td>\n",
       "      <td>0.760189</td>\n",
       "      <td>0.001161</td>\n",
       "      <td>0.105692</td>\n",
       "    </tr>\n",
       "    <tr>\n",
       "      <th>98535</th>\n",
       "      <td>41</td>\n",
       "      <td>6</td>\n",
       "      <td>3</td>\n",
       "      <td>-1.344102</td>\n",
       "      <td>0.292399</td>\n",
       "      <td>-1.441430</td>\n",
       "      <td>-1.481146</td>\n",
       "      <td>0.577580</td>\n",
       "      <td>0.001161</td>\n",
       "      <td>0.412914</td>\n",
       "    </tr>\n",
       "    <tr>\n",
       "      <th>98536</th>\n",
       "      <td>41</td>\n",
       "      <td>3</td>\n",
       "      <td>14</td>\n",
       "      <td>-1.061903</td>\n",
       "      <td>0.518189</td>\n",
       "      <td>-0.212379</td>\n",
       "      <td>-1.334988</td>\n",
       "      <td>0.227580</td>\n",
       "      <td>0.001161</td>\n",
       "      <td>0.646987</td>\n",
       "    </tr>\n",
       "  </tbody>\n",
       "</table>\n",
       "<p>98537 rows × 10 columns</p>\n",
       "</div>"
      ],
      "text/plain": [
       "       Location  WindGustDir  WindDir3pm   MinTemp   MaxTemp  WindGustSpeed  \\\n",
       "0             2           13          14  0.192313 -0.046285       0.361178   \n",
       "1             2           14          15 -0.748349  0.264175       0.361178   \n",
       "2             2           13           7  0.835100  1.280228       0.115368   \n",
       "3             2           14          13  0.380446  0.913320       1.344418   \n",
       "4             2           13          13 -0.701316  0.489965      -0.376253   \n",
       "...         ...          ...         ...       ...       ...            ...   \n",
       "98532        41            2           0 -0.654283 -0.356746       0.115368   \n",
       "98533        41            0           0 -1.359780 -0.201516      -0.704000   \n",
       "98534        41            0           1 -1.469524  0.024274      -0.704000   \n",
       "98535        41            6           3 -1.344102  0.292399      -1.441430   \n",
       "98536        41            3          14 -1.061903  0.518189      -0.212379   \n",
       "\n",
       "       Humidity3pm  Pressure3pm  Cloud3pm   Temp3pm  \n",
       "0        -1.432427    -1.248508  0.001161  0.017915  \n",
       "1        -1.286268    -1.141987  0.001161  0.383655  \n",
       "2        -0.896513    -1.415900  1.654688  1.173653  \n",
       "3        -1.383707    -1.507204  0.001161  1.056616  \n",
       "4        -1.578585    -0.791986  0.001161  0.559210  \n",
       "...            ...          ...       ...       ...  \n",
       "98532    -0.945232     1.368885  1.179656 -0.245418  \n",
       "98533    -1.188829     0.897145  0.001161 -0.113751  \n",
       "98534    -1.334988     0.760189  0.001161  0.105692  \n",
       "98535    -1.481146     0.577580  0.001161  0.412914  \n",
       "98536    -1.334988     0.227580  0.001161  0.646987  \n",
       "\n",
       "[98537 rows x 10 columns]"
      ]
     },
     "execution_count": 135,
     "metadata": {},
     "output_type": "execute_result"
    }
   ],
   "source": [
    "X"
   ]
  }
 ],
 "metadata": {
  "kernelspec": {
   "display_name": "Python 3 (ipykernel)",
   "language": "python",
   "name": "python3"
  },
  "language_info": {
   "codemirror_mode": {
    "name": "ipython",
    "version": 3
   },
   "file_extension": ".py",
   "mimetype": "text/x-python",
   "name": "python",
   "nbconvert_exporter": "python",
   "pygments_lexer": "ipython3",
   "version": "3.9.12"
  }
 },
 "nbformat": 4,
 "nbformat_minor": 5
}
