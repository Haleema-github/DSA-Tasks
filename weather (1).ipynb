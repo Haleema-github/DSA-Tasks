{
 "cells": [
  {
   "cell_type": "code",
   "execution_count": 136,
   "id": "8e0b8d82",
   "metadata": {},
   "outputs": [],
   "source": [
    "# Importing libraries\n",
    "import numpy as np\n",
    "import pandas as pd\n",
    "import matplotlib.pyplot as plt\n",
    "import seaborn as sns"
   ]
  },
  {
   "cell_type": "code",
   "execution_count": 137,
   "id": "d8d2e527",
   "metadata": {},
   "outputs": [
    {
     "data": {
      "text/html": [
       "<div>\n",
       "<style scoped>\n",
       "    .dataframe tbody tr th:only-of-type {\n",
       "        vertical-align: middle;\n",
       "    }\n",
       "\n",
       "    .dataframe tbody tr th {\n",
       "        vertical-align: top;\n",
       "    }\n",
       "\n",
       "    .dataframe thead th {\n",
       "        text-align: right;\n",
       "    }\n",
       "</style>\n",
       "<table border=\"1\" class=\"dataframe\">\n",
       "  <thead>\n",
       "    <tr style=\"text-align: right;\">\n",
       "      <th></th>\n",
       "      <th>row ID</th>\n",
       "      <th>Location</th>\n",
       "      <th>MinTemp</th>\n",
       "      <th>MaxTemp</th>\n",
       "      <th>Rainfall</th>\n",
       "      <th>Evaporation</th>\n",
       "      <th>Sunshine</th>\n",
       "      <th>WindGustDir</th>\n",
       "      <th>WindGustSpeed</th>\n",
       "      <th>WindDir9am</th>\n",
       "      <th>...</th>\n",
       "      <th>Humidity9am</th>\n",
       "      <th>Humidity3pm</th>\n",
       "      <th>Pressure9am</th>\n",
       "      <th>Pressure3pm</th>\n",
       "      <th>Cloud9am</th>\n",
       "      <th>Cloud3pm</th>\n",
       "      <th>Temp9am</th>\n",
       "      <th>Temp3pm</th>\n",
       "      <th>RainToday</th>\n",
       "      <th>RainTomorrow</th>\n",
       "    </tr>\n",
       "  </thead>\n",
       "  <tbody>\n",
       "    <tr>\n",
       "      <th>0</th>\n",
       "      <td>Row0</td>\n",
       "      <td>Albury</td>\n",
       "      <td>13.4</td>\n",
       "      <td>22.9</td>\n",
       "      <td>0.6</td>\n",
       "      <td>NaN</td>\n",
       "      <td>NaN</td>\n",
       "      <td>W</td>\n",
       "      <td>44.0</td>\n",
       "      <td>W</td>\n",
       "      <td>...</td>\n",
       "      <td>71.0</td>\n",
       "      <td>22.0</td>\n",
       "      <td>1007.7</td>\n",
       "      <td>1007.1</td>\n",
       "      <td>8.0</td>\n",
       "      <td>NaN</td>\n",
       "      <td>16.9</td>\n",
       "      <td>21.8</td>\n",
       "      <td>No</td>\n",
       "      <td>0</td>\n",
       "    </tr>\n",
       "    <tr>\n",
       "      <th>1</th>\n",
       "      <td>Row1</td>\n",
       "      <td>Albury</td>\n",
       "      <td>7.4</td>\n",
       "      <td>25.1</td>\n",
       "      <td>0.0</td>\n",
       "      <td>NaN</td>\n",
       "      <td>NaN</td>\n",
       "      <td>WNW</td>\n",
       "      <td>44.0</td>\n",
       "      <td>NNW</td>\n",
       "      <td>...</td>\n",
       "      <td>44.0</td>\n",
       "      <td>25.0</td>\n",
       "      <td>1010.6</td>\n",
       "      <td>1007.8</td>\n",
       "      <td>NaN</td>\n",
       "      <td>NaN</td>\n",
       "      <td>17.2</td>\n",
       "      <td>24.3</td>\n",
       "      <td>No</td>\n",
       "      <td>0</td>\n",
       "    </tr>\n",
       "    <tr>\n",
       "      <th>2</th>\n",
       "      <td>Row2</td>\n",
       "      <td>Albury</td>\n",
       "      <td>17.5</td>\n",
       "      <td>32.3</td>\n",
       "      <td>1.0</td>\n",
       "      <td>NaN</td>\n",
       "      <td>NaN</td>\n",
       "      <td>W</td>\n",
       "      <td>41.0</td>\n",
       "      <td>ENE</td>\n",
       "      <td>...</td>\n",
       "      <td>82.0</td>\n",
       "      <td>33.0</td>\n",
       "      <td>1010.8</td>\n",
       "      <td>1006.0</td>\n",
       "      <td>7.0</td>\n",
       "      <td>8.0</td>\n",
       "      <td>17.8</td>\n",
       "      <td>29.7</td>\n",
       "      <td>No</td>\n",
       "      <td>0</td>\n",
       "    </tr>\n",
       "    <tr>\n",
       "      <th>3</th>\n",
       "      <td>Row3</td>\n",
       "      <td>Albury</td>\n",
       "      <td>14.6</td>\n",
       "      <td>29.7</td>\n",
       "      <td>0.2</td>\n",
       "      <td>NaN</td>\n",
       "      <td>NaN</td>\n",
       "      <td>WNW</td>\n",
       "      <td>56.0</td>\n",
       "      <td>W</td>\n",
       "      <td>...</td>\n",
       "      <td>55.0</td>\n",
       "      <td>23.0</td>\n",
       "      <td>1009.2</td>\n",
       "      <td>1005.4</td>\n",
       "      <td>NaN</td>\n",
       "      <td>NaN</td>\n",
       "      <td>20.6</td>\n",
       "      <td>28.9</td>\n",
       "      <td>No</td>\n",
       "      <td>0</td>\n",
       "    </tr>\n",
       "    <tr>\n",
       "      <th>4</th>\n",
       "      <td>Row4</td>\n",
       "      <td>Albury</td>\n",
       "      <td>7.7</td>\n",
       "      <td>26.7</td>\n",
       "      <td>0.0</td>\n",
       "      <td>NaN</td>\n",
       "      <td>NaN</td>\n",
       "      <td>W</td>\n",
       "      <td>35.0</td>\n",
       "      <td>SSE</td>\n",
       "      <td>...</td>\n",
       "      <td>48.0</td>\n",
       "      <td>19.0</td>\n",
       "      <td>1013.4</td>\n",
       "      <td>1010.1</td>\n",
       "      <td>NaN</td>\n",
       "      <td>NaN</td>\n",
       "      <td>16.3</td>\n",
       "      <td>25.5</td>\n",
       "      <td>No</td>\n",
       "      <td>0</td>\n",
       "    </tr>\n",
       "    <tr>\n",
       "      <th>...</th>\n",
       "      <td>...</td>\n",
       "      <td>...</td>\n",
       "      <td>...</td>\n",
       "      <td>...</td>\n",
       "      <td>...</td>\n",
       "      <td>...</td>\n",
       "      <td>...</td>\n",
       "      <td>...</td>\n",
       "      <td>...</td>\n",
       "      <td>...</td>\n",
       "      <td>...</td>\n",
       "      <td>...</td>\n",
       "      <td>...</td>\n",
       "      <td>...</td>\n",
       "      <td>...</td>\n",
       "      <td>...</td>\n",
       "      <td>...</td>\n",
       "      <td>...</td>\n",
       "      <td>...</td>\n",
       "      <td>...</td>\n",
       "      <td>...</td>\n",
       "    </tr>\n",
       "    <tr>\n",
       "      <th>99511</th>\n",
       "      <td>Row101816</td>\n",
       "      <td>Uluru</td>\n",
       "      <td>8.0</td>\n",
       "      <td>20.7</td>\n",
       "      <td>0.0</td>\n",
       "      <td>NaN</td>\n",
       "      <td>NaN</td>\n",
       "      <td>ESE</td>\n",
       "      <td>41.0</td>\n",
       "      <td>SE</td>\n",
       "      <td>...</td>\n",
       "      <td>56.0</td>\n",
       "      <td>32.0</td>\n",
       "      <td>1028.1</td>\n",
       "      <td>1024.3</td>\n",
       "      <td>NaN</td>\n",
       "      <td>7.0</td>\n",
       "      <td>11.6</td>\n",
       "      <td>20.0</td>\n",
       "      <td>No</td>\n",
       "      <td>0</td>\n",
       "    </tr>\n",
       "    <tr>\n",
       "      <th>99512</th>\n",
       "      <td>Row101817</td>\n",
       "      <td>Uluru</td>\n",
       "      <td>3.5</td>\n",
       "      <td>21.8</td>\n",
       "      <td>0.0</td>\n",
       "      <td>NaN</td>\n",
       "      <td>NaN</td>\n",
       "      <td>E</td>\n",
       "      <td>31.0</td>\n",
       "      <td>ESE</td>\n",
       "      <td>...</td>\n",
       "      <td>59.0</td>\n",
       "      <td>27.0</td>\n",
       "      <td>1024.7</td>\n",
       "      <td>1021.2</td>\n",
       "      <td>NaN</td>\n",
       "      <td>NaN</td>\n",
       "      <td>9.4</td>\n",
       "      <td>20.9</td>\n",
       "      <td>No</td>\n",
       "      <td>0</td>\n",
       "    </tr>\n",
       "    <tr>\n",
       "      <th>99513</th>\n",
       "      <td>Row101818</td>\n",
       "      <td>Uluru</td>\n",
       "      <td>2.8</td>\n",
       "      <td>23.4</td>\n",
       "      <td>0.0</td>\n",
       "      <td>NaN</td>\n",
       "      <td>NaN</td>\n",
       "      <td>E</td>\n",
       "      <td>31.0</td>\n",
       "      <td>SE</td>\n",
       "      <td>...</td>\n",
       "      <td>51.0</td>\n",
       "      <td>24.0</td>\n",
       "      <td>1024.6</td>\n",
       "      <td>1020.3</td>\n",
       "      <td>NaN</td>\n",
       "      <td>NaN</td>\n",
       "      <td>10.1</td>\n",
       "      <td>22.4</td>\n",
       "      <td>No</td>\n",
       "      <td>0</td>\n",
       "    </tr>\n",
       "    <tr>\n",
       "      <th>99514</th>\n",
       "      <td>Row101819</td>\n",
       "      <td>Uluru</td>\n",
       "      <td>3.6</td>\n",
       "      <td>25.3</td>\n",
       "      <td>0.0</td>\n",
       "      <td>NaN</td>\n",
       "      <td>NaN</td>\n",
       "      <td>NNW</td>\n",
       "      <td>22.0</td>\n",
       "      <td>SE</td>\n",
       "      <td>...</td>\n",
       "      <td>56.0</td>\n",
       "      <td>21.0</td>\n",
       "      <td>1023.5</td>\n",
       "      <td>1019.1</td>\n",
       "      <td>NaN</td>\n",
       "      <td>NaN</td>\n",
       "      <td>10.9</td>\n",
       "      <td>24.5</td>\n",
       "      <td>No</td>\n",
       "      <td>0</td>\n",
       "    </tr>\n",
       "    <tr>\n",
       "      <th>99515</th>\n",
       "      <td>Row101820</td>\n",
       "      <td>Uluru</td>\n",
       "      <td>5.4</td>\n",
       "      <td>26.9</td>\n",
       "      <td>0.0</td>\n",
       "      <td>NaN</td>\n",
       "      <td>NaN</td>\n",
       "      <td>N</td>\n",
       "      <td>37.0</td>\n",
       "      <td>SE</td>\n",
       "      <td>...</td>\n",
       "      <td>53.0</td>\n",
       "      <td>24.0</td>\n",
       "      <td>1021.0</td>\n",
       "      <td>1016.8</td>\n",
       "      <td>NaN</td>\n",
       "      <td>NaN</td>\n",
       "      <td>12.5</td>\n",
       "      <td>26.1</td>\n",
       "      <td>No</td>\n",
       "      <td>0</td>\n",
       "    </tr>\n",
       "  </tbody>\n",
       "</table>\n",
       "<p>99516 rows × 23 columns</p>\n",
       "</div>"
      ],
      "text/plain": [
       "          row ID Location  MinTemp  MaxTemp  Rainfall  Evaporation  Sunshine  \\\n",
       "0           Row0   Albury     13.4     22.9       0.6          NaN       NaN   \n",
       "1           Row1   Albury      7.4     25.1       0.0          NaN       NaN   \n",
       "2           Row2   Albury     17.5     32.3       1.0          NaN       NaN   \n",
       "3           Row3   Albury     14.6     29.7       0.2          NaN       NaN   \n",
       "4           Row4   Albury      7.7     26.7       0.0          NaN       NaN   \n",
       "...          ...      ...      ...      ...       ...          ...       ...   \n",
       "99511  Row101816    Uluru      8.0     20.7       0.0          NaN       NaN   \n",
       "99512  Row101817    Uluru      3.5     21.8       0.0          NaN       NaN   \n",
       "99513  Row101818    Uluru      2.8     23.4       0.0          NaN       NaN   \n",
       "99514  Row101819    Uluru      3.6     25.3       0.0          NaN       NaN   \n",
       "99515  Row101820    Uluru      5.4     26.9       0.0          NaN       NaN   \n",
       "\n",
       "      WindGustDir  WindGustSpeed WindDir9am  ... Humidity9am  Humidity3pm  \\\n",
       "0               W           44.0          W  ...        71.0         22.0   \n",
       "1             WNW           44.0        NNW  ...        44.0         25.0   \n",
       "2               W           41.0        ENE  ...        82.0         33.0   \n",
       "3             WNW           56.0          W  ...        55.0         23.0   \n",
       "4               W           35.0        SSE  ...        48.0         19.0   \n",
       "...           ...            ...        ...  ...         ...          ...   \n",
       "99511         ESE           41.0         SE  ...        56.0         32.0   \n",
       "99512           E           31.0        ESE  ...        59.0         27.0   \n",
       "99513           E           31.0         SE  ...        51.0         24.0   \n",
       "99514         NNW           22.0         SE  ...        56.0         21.0   \n",
       "99515           N           37.0         SE  ...        53.0         24.0   \n",
       "\n",
       "       Pressure9am  Pressure3pm  Cloud9am  Cloud3pm  Temp9am  Temp3pm  \\\n",
       "0           1007.7       1007.1       8.0       NaN     16.9     21.8   \n",
       "1           1010.6       1007.8       NaN       NaN     17.2     24.3   \n",
       "2           1010.8       1006.0       7.0       8.0     17.8     29.7   \n",
       "3           1009.2       1005.4       NaN       NaN     20.6     28.9   \n",
       "4           1013.4       1010.1       NaN       NaN     16.3     25.5   \n",
       "...            ...          ...       ...       ...      ...      ...   \n",
       "99511       1028.1       1024.3       NaN       7.0     11.6     20.0   \n",
       "99512       1024.7       1021.2       NaN       NaN      9.4     20.9   \n",
       "99513       1024.6       1020.3       NaN       NaN     10.1     22.4   \n",
       "99514       1023.5       1019.1       NaN       NaN     10.9     24.5   \n",
       "99515       1021.0       1016.8       NaN       NaN     12.5     26.1   \n",
       "\n",
       "       RainToday  RainTomorrow  \n",
       "0             No             0  \n",
       "1             No             0  \n",
       "2             No             0  \n",
       "3             No             0  \n",
       "4             No             0  \n",
       "...          ...           ...  \n",
       "99511         No             0  \n",
       "99512         No             0  \n",
       "99513         No             0  \n",
       "99514         No             0  \n",
       "99515         No             0  \n",
       "\n",
       "[99516 rows x 23 columns]"
      ]
     },
     "execution_count": 137,
     "metadata": {},
     "output_type": "execute_result"
    }
   ],
   "source": [
    "# Reading data into Python environment\n",
    "df=pd.read_csv('Weather_Data.csv')\n",
    "df"
   ]
  },
  {
   "cell_type": "code",
   "execution_count": 138,
   "id": "0a905baa",
   "metadata": {
    "scrolled": true
   },
   "outputs": [
    {
     "data": {
      "text/plain": [
       "<AxesSubplot:>"
      ]
     },
     "execution_count": 138,
     "metadata": {},
     "output_type": "execute_result"
    },
    {
     "data": {
      "image/png": "[encoded data removed]",
      "text/plain": [
       "<Figure size 1296x576 with 2 Axes>"
      ]
     },
     "metadata": {
      "needs_background": "light"
     },
     "output_type": "display_data"
    }
   ],
   "source": [
    "# Correlation Matrix\n",
    "corr_matrix=df.corr()\n",
    "plt.subplots(figsize=(18,8))\n",
    "sns.heatmap(corr_matrix,annot=True,cmap='winter')"
   ]
  },
  {
   "cell_type": "markdown",
   "id": "56bd44ec",
   "metadata": {},
   "source": [
    "Highly positive correlated : MinTemp and MaxTemp , MinTemp and Temp9am , MinTemp and Temp3pm MaxTemp and Temp9am , MaxTemp and Temp3pm , Pressure9am and Pressure 3pm, Temp9am and Temp 3pm\n",
    "\n",
    "Negatively correlated : Sunshine and Cloud9am , Sunshine and Cloud3pm\n",
    "\n",
    "The columns MaxTemp,Evaporation,Sunshine,Pressure9am,Pressure3pm,Temp9am and Temp3pm have less negative correlation with the Target variable,'RainTomorrow'."
   ]
  },
  {
   "cell_type": "code",
   "execution_count": 139,
   "id": "a49308f0",
   "metadata": {},
   "outputs": [],
   "source": [
    "# Dropping the unnecessary features\n",
    "df1=df.drop(['row ID','Rainfall','Evaporation','Sunshine','WindSpeed9am','WindSpeed3pm','Humidity9am','Pressure9am','Cloud9am','Cloud3pm','Temp9am','Temp3pm'],axis=1)"
   ]
  },
  {
   "cell_type": "code",
   "execution_count": 140,
   "id": "93d58bdc",
   "metadata": {},
   "outputs": [
    {
     "name": "stdout",
     "output_type": "stream",
     "text": [
      "<class 'pandas.core.frame.DataFrame'>\n",
      "RangeIndex: 99516 entries, 0 to 99515\n",
      "Data columns (total 11 columns):\n",
      " #   Column         Non-Null Count  Dtype  \n",
      "---  ------         --------------  -----  \n",
      " 0   Location       99516 non-null  object \n",
      " 1   MinTemp        99073 non-null  float64\n",
      " 2   MaxTemp        99286 non-null  float64\n",
      " 3   WindGustDir    92995 non-null  object \n",
      " 4   WindGustSpeed  93036 non-null  float64\n",
      " 5   WindDir9am     92510 non-null  object \n",
      " 6   WindDir3pm     96868 non-null  object \n",
      " 7   Humidity3pm    97010 non-null  float64\n",
      " 8   Pressure3pm    89780 non-null  float64\n",
      " 9   RainToday      98537 non-null  object \n",
      " 10  RainTomorrow   99516 non-null  int64  \n",
      "dtypes: float64(5), int64(1), object(5)\n",
      "memory usage: 8.4+ MB\n"
     ]
    }
   ],
   "source": [
    "df1.info()"
   ]
  },
  {
   "cell_type": "code",
   "execution_count": 141,
   "id": "fa584fdd",
   "metadata": {},
   "outputs": [
    {
     "data": {
      "text/plain": [
       "Location            0\n",
       "MinTemp           443\n",
       "MaxTemp           230\n",
       "WindGustDir      6521\n",
       "WindGustSpeed    6480\n",
       "WindDir9am       7006\n",
       "WindDir3pm       2648\n",
       "Humidity3pm      2506\n",
       "Pressure3pm      9736\n",
       "RainToday         979\n",
       "RainTomorrow        0\n",
       "dtype: int64"
      ]
     },
     "execution_count": 141,
     "metadata": {},
     "output_type": "execute_result"
    }
   ],
   "source": [
    "df1.isna().sum()"
   ]
  },
  {
   "cell_type": "code",
   "execution_count": 142,
   "id": "5ac414f6",
   "metadata": {},
   "outputs": [
    {
     "data": {
      "text/plain": [
       "<AxesSubplot:>"
      ]
     },
     "execution_count": 142,
     "metadata": {},
     "output_type": "execute_result"
    },
    {
     "data": {
      "image/png": "[encoded data removed]",
      "text/plain": [
       "<Figure size 1080x432 with 1 Axes>"
      ]
     },
     "metadata": {
      "needs_background": "light"
     },
     "output_type": "display_data"
    }
   ],
   "source": [
    "df1.boxplot(column=['MinTemp','MaxTemp','WindGustSpeed','Humidity3pm','Pressure3pm'],figsize=(15,6))"
   ]
  },
  {
   "cell_type": "code",
   "execution_count": 143,
   "id": "4924e6f3",
   "metadata": {},
   "outputs": [
    {
     "data": {
      "image/png": "[encoded data removed]",
      "text/plain": [
       "<Figure size 1008x504 with 1 Axes>"
      ]
     },
     "metadata": {
      "needs_background": "light"
     },
     "output_type": "display_data"
    }
   ],
   "source": [
    "# Box plot\n",
    "plt.rcParams['figure.figsize']=14,7\n",
    "sns.boxplot(data=df1[['MinTemp','MaxTemp','WindGustSpeed','Humidity3pm','Pressure3pm']])\n",
    "plt.title('Box plot of MinTemp,MaxTemp,WindGustSpeed,Humidity3pm and Pressure3pm')\n",
    "plt.show()"
   ]
  },
  {
   "cell_type": "code",
   "execution_count": 144,
   "id": "4e148533",
   "metadata": {},
   "outputs": [],
   "source": [
    "# Filling the missing values with median\n",
    "df1['MinTemp']=df1['MinTemp'].fillna(df1['MinTemp'].median())\n",
    "df1['MaxTemp']=df1['MaxTemp'].fillna(df1['MaxTemp'].median())\n",
    "df1['WindGustSpeed']=df1['WindGustSpeed'].fillna(df1['WindGustSpeed'].median())\n",
    "df1['Pressure3pm']=df1['Pressure3pm'].fillna(df1['Pressure3pm'].median())"
   ]
  },
  {
   "cell_type": "code",
   "execution_count": 145,
   "id": "948682c0",
   "metadata": {},
   "outputs": [],
   "source": [
    "# Filling missing values in Humidity3pm' with mean\n",
    "df1['Humidity3pm']=df1['Humidity3pm'].fillna(df1['Humidity3pm'].mean())"
   ]
  },
  {
   "cell_type": "code",
   "execution_count": 146,
   "id": "02e7a837",
   "metadata": {},
   "outputs": [
    {
     "data": {
      "text/plain": [
       "Location            0\n",
       "MinTemp             0\n",
       "MaxTemp             0\n",
       "WindGustDir      6521\n",
       "WindGustSpeed       0\n",
       "WindDir9am       7006\n",
       "WindDir3pm       2648\n",
       "Humidity3pm         0\n",
       "Pressure3pm         0\n",
       "RainToday         979\n",
       "RainTomorrow        0\n",
       "dtype: int64"
      ]
     },
     "execution_count": 146,
     "metadata": {},
     "output_type": "execute_result"
    }
   ],
   "source": [
    "df1.isna().sum()"
   ]
  },
  {
   "cell_type": "code",
   "execution_count": 147,
   "id": "8c4f9eee",
   "metadata": {},
   "outputs": [
    {
     "data": {
      "text/plain": [
       "0    W\n",
       "Name: WindGustDir, dtype: object"
      ]
     },
     "execution_count": 147,
     "metadata": {},
     "output_type": "execute_result"
    }
   ],
   "source": [
    "df1['WindGustDir'].mode()"
   ]
  },
  {
   "cell_type": "code",
   "execution_count": 148,
   "id": "b11108c1",
   "metadata": {},
   "outputs": [
    {
     "data": {
      "text/plain": [
       "0    SE\n",
       "Name: WindDir3pm, dtype: object"
      ]
     },
     "execution_count": 148,
     "metadata": {},
     "output_type": "execute_result"
    }
   ],
   "source": [
    "df1['WindDir3pm'].mode()"
   ]
  },
  {
   "cell_type": "code",
   "execution_count": 149,
   "id": "027fcc42",
   "metadata": {},
   "outputs": [
    {
     "data": {
      "text/plain": [
       "0    N\n",
       "Name: WindDir9am, dtype: object"
      ]
     },
     "execution_count": 149,
     "metadata": {},
     "output_type": "execute_result"
    }
   ],
   "source": [
    "df1['WindDir9am'].mode()"
   ]
  },
  {
   "cell_type": "code",
   "execution_count": 150,
   "id": "d7fa9924",
   "metadata": {},
   "outputs": [],
   "source": [
    "# Filling missing values with mode\n",
    "df1['WindGustDir']=df1['WindGustDir'].fillna(df1['WindGustDir'].mode()[0])\n",
    "df1['WindDir3pm']=df1['WindDir3pm'].fillna(df1['WindDir3pm'].mode()[0])\n",
    "df1['WindDir9am']=df1['WindDir9am'].fillna(df1['WindDir9am'].mode()[0])"
   ]
  },
  {
   "cell_type": "code",
   "execution_count": 151,
   "id": "2dea846e",
   "metadata": {},
   "outputs": [],
   "source": [
    "# When we fill the missing values in RainToday with mode, this might mislead our model.Hence\n",
    "# dropping these rows\n",
    "df1=df1.dropna(subset=['RainToday'])"
   ]
  },
  {
   "cell_type": "code",
   "execution_count": 152,
   "id": "8530b6a6",
   "metadata": {},
   "outputs": [],
   "source": [
    "df1=df1.reset_index(drop=True)"
   ]
  },
  {
   "cell_type": "code",
   "execution_count": 153,
   "id": "651224d5",
   "metadata": {},
   "outputs": [
    {
     "data": {
      "text/plain": [
       "Location         0\n",
       "MinTemp          0\n",
       "MaxTemp          0\n",
       "WindGustDir      0\n",
       "WindGustSpeed    0\n",
       "WindDir9am       0\n",
       "WindDir3pm       0\n",
       "Humidity3pm      0\n",
       "Pressure3pm      0\n",
       "RainToday        0\n",
       "RainTomorrow     0\n",
       "dtype: int64"
      ]
     },
     "execution_count": 153,
     "metadata": {},
     "output_type": "execute_result"
    }
   ],
   "source": [
    "df1.isna().sum()"
   ]
  },
  {
   "cell_type": "code",
   "execution_count": 154,
   "id": "3ea834d0",
   "metadata": {},
   "outputs": [
    {
     "data": {
      "text/html": [
       "<div>\n",
       "<style scoped>\n",
       "    .dataframe tbody tr th:only-of-type {\n",
       "        vertical-align: middle;\n",
       "    }\n",
       "\n",
       "    .dataframe tbody tr th {\n",
       "        vertical-align: top;\n",
       "    }\n",
       "\n",
       "    .dataframe thead th {\n",
       "        text-align: right;\n",
       "    }\n",
       "</style>\n",
       "<table border=\"1\" class=\"dataframe\">\n",
       "  <thead>\n",
       "    <tr style=\"text-align: right;\">\n",
       "      <th></th>\n",
       "      <th>Location</th>\n",
       "      <th>MinTemp</th>\n",
       "      <th>MaxTemp</th>\n",
       "      <th>WindGustDir</th>\n",
       "      <th>WindGustSpeed</th>\n",
       "      <th>WindDir9am</th>\n",
       "      <th>WindDir3pm</th>\n",
       "      <th>Humidity3pm</th>\n",
       "      <th>Pressure3pm</th>\n",
       "      <th>RainToday</th>\n",
       "      <th>RainTomorrow</th>\n",
       "    </tr>\n",
       "  </thead>\n",
       "  <tbody>\n",
       "    <tr>\n",
       "      <th>72569</th>\n",
       "      <td>Woomera</td>\n",
       "      <td>19.4</td>\n",
       "      <td>40.0</td>\n",
       "      <td>NNW</td>\n",
       "      <td>61.0</td>\n",
       "      <td>N</td>\n",
       "      <td>N</td>\n",
       "      <td>0.0</td>\n",
       "      <td>1007.6</td>\n",
       "      <td>No</td>\n",
       "      <td>0</td>\n",
       "    </tr>\n",
       "    <tr>\n",
       "      <th>72843</th>\n",
       "      <td>Woomera</td>\n",
       "      <td>23.4</td>\n",
       "      <td>41.6</td>\n",
       "      <td>SSW</td>\n",
       "      <td>69.0</td>\n",
       "      <td>NNE</td>\n",
       "      <td>NNW</td>\n",
       "      <td>0.0</td>\n",
       "      <td>1006.5</td>\n",
       "      <td>No</td>\n",
       "      <td>0</td>\n",
       "    </tr>\n",
       "    <tr>\n",
       "      <th>73060</th>\n",
       "      <td>Woomera</td>\n",
       "      <td>17.3</td>\n",
       "      <td>37.1</td>\n",
       "      <td>NNW</td>\n",
       "      <td>70.0</td>\n",
       "      <td>N</td>\n",
       "      <td>NNW</td>\n",
       "      <td>0.0</td>\n",
       "      <td>1016.6</td>\n",
       "      <td>No</td>\n",
       "      <td>0</td>\n",
       "    </tr>\n",
       "    <tr>\n",
       "      <th>73068</th>\n",
       "      <td>Woomera</td>\n",
       "      <td>17.7</td>\n",
       "      <td>38.1</td>\n",
       "      <td>N</td>\n",
       "      <td>50.0</td>\n",
       "      <td>N</td>\n",
       "      <td>NNW</td>\n",
       "      <td>0.0</td>\n",
       "      <td>1013.5</td>\n",
       "      <td>No</td>\n",
       "      <td>0</td>\n",
       "    </tr>\n",
       "  </tbody>\n",
       "</table>\n",
       "</div>"
      ],
      "text/plain": [
       "      Location  MinTemp  MaxTemp WindGustDir  WindGustSpeed WindDir9am  \\\n",
       "72569  Woomera     19.4     40.0         NNW           61.0          N   \n",
       "72843  Woomera     23.4     41.6         SSW           69.0        NNE   \n",
       "73060  Woomera     17.3     37.1         NNW           70.0          N   \n",
       "73068  Woomera     17.7     38.1           N           50.0          N   \n",
       "\n",
       "      WindDir3pm  Humidity3pm  Pressure3pm RainToday  RainTomorrow  \n",
       "72569          N          0.0       1007.6        No             0  \n",
       "72843        NNW          0.0       1006.5        No             0  \n",
       "73060        NNW          0.0       1016.6        No             0  \n",
       "73068        NNW          0.0       1013.5        No             0  "
      ]
     },
     "execution_count": 154,
     "metadata": {},
     "output_type": "execute_result"
    }
   ],
   "source": [
    "# In the column Humidity3pm, there is 0% Humidity. That is impossible\n",
    "df1[df1['Humidity3pm']==0]"
   ]
  },
  {
   "cell_type": "code",
   "execution_count": 155,
   "id": "357c37fb",
   "metadata": {},
   "outputs": [],
   "source": [
    "# Replacing 0% Humidity with 1%\n",
    "df1['Humidity3pm']=df1['Humidity3pm'].replace(0,1)"
   ]
  },
  {
   "cell_type": "code",
   "execution_count": null,
   "id": "09f567cf",
   "metadata": {},
   "outputs": [],
   "source": [
    "# Handling outliers"
   ]
  },
  {
   "cell_type": "code",
   "execution_count": 156,
   "id": "d6a6b0b4",
   "metadata": {},
   "outputs": [],
   "source": [
    "# Finding interquartile range,detecting the outliers and handling them\n",
    "features_with_outliers=['MinTemp','MaxTemp','WindGustSpeed','Pressure3pm']\n",
    "for feature in features_with_outliers:\n",
    "    Q1=np.percentile(df1[feature],25)\n",
    "    Q3=np.percentile(df1[feature],75)\n",
    "    IQR=Q3-Q1\n",
    "    low_lim=Q1-1.5*IQR\n",
    "    up_lim=Q3+1.5*IQR\n",
    "    df1[feature]=np.where(df1[feature]<low_lim,low_lim,np.where(df1[feature]>up_lim,up_lim,df1[feature]))"
   ]
  },
  {
   "cell_type": "code",
   "execution_count": 157,
   "id": "a2a81764",
   "metadata": {},
   "outputs": [
    {
     "data": {
      "text/plain": [
       "<AxesSubplot:>"
      ]
     },
     "execution_count": 157,
     "metadata": {},
     "output_type": "execute_result"
    },
    {
     "data": {
      "image/png": "[encoded data removed]",
      "text/plain": [
       "<Figure size 1080x432 with 1 Axes>"
      ]
     },
     "metadata": {
      "needs_background": "light"
     },
     "output_type": "display_data"
    }
   ],
   "source": [
    "df1.boxplot(column=['MinTemp','MaxTemp','WindGustSpeed','Pressure3pm'],figsize=(15,6))"
   ]
  },
  {
   "cell_type": "code",
   "execution_count": 24,
   "id": "a73c4763",
   "metadata": {},
   "outputs": [
    {
     "data": {
      "image/png": "[encoded data removed]",
      "text/plain": [
       "<Figure size 1008x504 with 1 Axes>"
      ]
     },
     "metadata": {
      "needs_background": "light"
     },
     "output_type": "display_data"
    }
   ],
   "source": [
    "# Box plot after handling outliers\n",
    "plt.rcParams['figure.figsize']=14,7\n",
    "sns.boxplot(data=df1[['MinTemp','MaxTemp','WindGustSpeed','Pressure3pm']])\n",
    "plt.title('Box plot of MinTemp,MaxTemp,WindGustSpeed and Pressure3pm after handling outliers')\n",
    "plt.show()"
   ]
  },
  {
   "cell_type": "code",
   "execution_count": 158,
   "id": "a19b8e2d",
   "metadata": {},
   "outputs": [],
   "source": [
    "# Label Encoding Location,WindDir3pm,WindGustDir and RainToday\n",
    "from sklearn.preprocessing import LabelEncoder\n",
    "lab_enc=LabelEncoder()\n",
    "df1['Location']=lab_enc.fit_transform(df1['Location'])\n",
    "df1['WindDir3pm']=lab_enc.fit_transform(df1['WindDir3pm'])\n",
    "df1['WindDir9am']=lab_enc.fit_transform(df1['WindDir9am'])\n",
    "df1['WindGustDir']=lab_enc.fit_transform(df1['WindGustDir'])\n",
    "df1['RainToday']=lab_enc.fit_transform(df1['RainToday'])"
   ]
  },
  {
   "cell_type": "code",
   "execution_count": 159,
   "id": "7bff86c8",
   "metadata": {},
   "outputs": [
    {
     "data": {
      "text/html": [
       "<div>\n",
       "<style scoped>\n",
       "    .dataframe tbody tr th:only-of-type {\n",
       "        vertical-align: middle;\n",
       "    }\n",
       "\n",
       "    .dataframe tbody tr th {\n",
       "        vertical-align: top;\n",
       "    }\n",
       "\n",
       "    .dataframe thead th {\n",
       "        text-align: right;\n",
       "    }\n",
       "</style>\n",
       "<table border=\"1\" class=\"dataframe\">\n",
       "  <thead>\n",
       "    <tr style=\"text-align: right;\">\n",
       "      <th></th>\n",
       "      <th>Location</th>\n",
       "      <th>MinTemp</th>\n",
       "      <th>MaxTemp</th>\n",
       "      <th>WindGustDir</th>\n",
       "      <th>WindGustSpeed</th>\n",
       "      <th>WindDir9am</th>\n",
       "      <th>WindDir3pm</th>\n",
       "      <th>Humidity3pm</th>\n",
       "      <th>Pressure3pm</th>\n",
       "      <th>RainToday</th>\n",
       "      <th>RainTomorrow</th>\n",
       "    </tr>\n",
       "  </thead>\n",
       "  <tbody>\n",
       "    <tr>\n",
       "      <th>0</th>\n",
       "      <td>2</td>\n",
       "      <td>13.4</td>\n",
       "      <td>22.9</td>\n",
       "      <td>13</td>\n",
       "      <td>44.0</td>\n",
       "      <td>13</td>\n",
       "      <td>14</td>\n",
       "      <td>22.0</td>\n",
       "      <td>1007.1</td>\n",
       "      <td>0</td>\n",
       "      <td>0</td>\n",
       "    </tr>\n",
       "    <tr>\n",
       "      <th>1</th>\n",
       "      <td>2</td>\n",
       "      <td>7.4</td>\n",
       "      <td>25.1</td>\n",
       "      <td>14</td>\n",
       "      <td>44.0</td>\n",
       "      <td>6</td>\n",
       "      <td>15</td>\n",
       "      <td>25.0</td>\n",
       "      <td>1007.8</td>\n",
       "      <td>0</td>\n",
       "      <td>0</td>\n",
       "    </tr>\n",
       "    <tr>\n",
       "      <th>2</th>\n",
       "      <td>2</td>\n",
       "      <td>17.5</td>\n",
       "      <td>32.3</td>\n",
       "      <td>13</td>\n",
       "      <td>41.0</td>\n",
       "      <td>1</td>\n",
       "      <td>7</td>\n",
       "      <td>33.0</td>\n",
       "      <td>1006.0</td>\n",
       "      <td>0</td>\n",
       "      <td>0</td>\n",
       "    </tr>\n",
       "    <tr>\n",
       "      <th>3</th>\n",
       "      <td>2</td>\n",
       "      <td>14.6</td>\n",
       "      <td>29.7</td>\n",
       "      <td>14</td>\n",
       "      <td>56.0</td>\n",
       "      <td>13</td>\n",
       "      <td>13</td>\n",
       "      <td>23.0</td>\n",
       "      <td>1005.4</td>\n",
       "      <td>0</td>\n",
       "      <td>0</td>\n",
       "    </tr>\n",
       "    <tr>\n",
       "      <th>4</th>\n",
       "      <td>2</td>\n",
       "      <td>7.7</td>\n",
       "      <td>26.7</td>\n",
       "      <td>13</td>\n",
       "      <td>35.0</td>\n",
       "      <td>10</td>\n",
       "      <td>13</td>\n",
       "      <td>19.0</td>\n",
       "      <td>1010.1</td>\n",
       "      <td>0</td>\n",
       "      <td>0</td>\n",
       "    </tr>\n",
       "    <tr>\n",
       "      <th>...</th>\n",
       "      <td>...</td>\n",
       "      <td>...</td>\n",
       "      <td>...</td>\n",
       "      <td>...</td>\n",
       "      <td>...</td>\n",
       "      <td>...</td>\n",
       "      <td>...</td>\n",
       "      <td>...</td>\n",
       "      <td>...</td>\n",
       "      <td>...</td>\n",
       "      <td>...</td>\n",
       "    </tr>\n",
       "    <tr>\n",
       "      <th>98532</th>\n",
       "      <td>41</td>\n",
       "      <td>8.0</td>\n",
       "      <td>20.7</td>\n",
       "      <td>2</td>\n",
       "      <td>41.0</td>\n",
       "      <td>9</td>\n",
       "      <td>0</td>\n",
       "      <td>32.0</td>\n",
       "      <td>1024.3</td>\n",
       "      <td>0</td>\n",
       "      <td>0</td>\n",
       "    </tr>\n",
       "    <tr>\n",
       "      <th>98533</th>\n",
       "      <td>41</td>\n",
       "      <td>3.5</td>\n",
       "      <td>21.8</td>\n",
       "      <td>0</td>\n",
       "      <td>31.0</td>\n",
       "      <td>2</td>\n",
       "      <td>0</td>\n",
       "      <td>27.0</td>\n",
       "      <td>1021.2</td>\n",
       "      <td>0</td>\n",
       "      <td>0</td>\n",
       "    </tr>\n",
       "    <tr>\n",
       "      <th>98534</th>\n",
       "      <td>41</td>\n",
       "      <td>2.8</td>\n",
       "      <td>23.4</td>\n",
       "      <td>0</td>\n",
       "      <td>31.0</td>\n",
       "      <td>9</td>\n",
       "      <td>1</td>\n",
       "      <td>24.0</td>\n",
       "      <td>1020.3</td>\n",
       "      <td>0</td>\n",
       "      <td>0</td>\n",
       "    </tr>\n",
       "    <tr>\n",
       "      <th>98535</th>\n",
       "      <td>41</td>\n",
       "      <td>3.6</td>\n",
       "      <td>25.3</td>\n",
       "      <td>6</td>\n",
       "      <td>22.0</td>\n",
       "      <td>9</td>\n",
       "      <td>3</td>\n",
       "      <td>21.0</td>\n",
       "      <td>1019.1</td>\n",
       "      <td>0</td>\n",
       "      <td>0</td>\n",
       "    </tr>\n",
       "    <tr>\n",
       "      <th>98536</th>\n",
       "      <td>41</td>\n",
       "      <td>5.4</td>\n",
       "      <td>26.9</td>\n",
       "      <td>3</td>\n",
       "      <td>37.0</td>\n",
       "      <td>9</td>\n",
       "      <td>14</td>\n",
       "      <td>24.0</td>\n",
       "      <td>1016.8</td>\n",
       "      <td>0</td>\n",
       "      <td>0</td>\n",
       "    </tr>\n",
       "  </tbody>\n",
       "</table>\n",
       "<p>98537 rows × 11 columns</p>\n",
       "</div>"
      ],
      "text/plain": [
       "       Location  MinTemp  MaxTemp  WindGustDir  WindGustSpeed  WindDir9am  \\\n",
       "0             2     13.4     22.9           13           44.0          13   \n",
       "1             2      7.4     25.1           14           44.0           6   \n",
       "2             2     17.5     32.3           13           41.0           1   \n",
       "3             2     14.6     29.7           14           56.0          13   \n",
       "4             2      7.7     26.7           13           35.0          10   \n",
       "...         ...      ...      ...          ...            ...         ...   \n",
       "98532        41      8.0     20.7            2           41.0           9   \n",
       "98533        41      3.5     21.8            0           31.0           2   \n",
       "98534        41      2.8     23.4            0           31.0           9   \n",
       "98535        41      3.6     25.3            6           22.0           9   \n",
       "98536        41      5.4     26.9            3           37.0           9   \n",
       "\n",
       "       WindDir3pm  Humidity3pm  Pressure3pm  RainToday  RainTomorrow  \n",
       "0              14         22.0       1007.1          0             0  \n",
       "1              15         25.0       1007.8          0             0  \n",
       "2               7         33.0       1006.0          0             0  \n",
       "3              13         23.0       1005.4          0             0  \n",
       "4              13         19.0       1010.1          0             0  \n",
       "...           ...          ...          ...        ...           ...  \n",
       "98532           0         32.0       1024.3          0             0  \n",
       "98533           0         27.0       1021.2          0             0  \n",
       "98534           1         24.0       1020.3          0             0  \n",
       "98535           3         21.0       1019.1          0             0  \n",
       "98536          14         24.0       1016.8          0             0  \n",
       "\n",
       "[98537 rows x 11 columns]"
      ]
     },
     "execution_count": 159,
     "metadata": {},
     "output_type": "execute_result"
    }
   ],
   "source": [
    "df1"
   ]
  },
  {
   "cell_type": "code",
   "execution_count": 160,
   "id": "2c24c3e6",
   "metadata": {},
   "outputs": [
    {
     "data": {
      "text/plain": [
       "<AxesSubplot:>"
      ]
     },
     "execution_count": 160,
     "metadata": {},
     "output_type": "execute_result"
    },
    {
     "data": {
      "image/png": "[encoded data removed]",
      "text/plain": [
       "<Figure size 1296x576 with 2 Axes>"
      ]
     },
     "metadata": {
      "needs_background": "light"
     },
     "output_type": "display_data"
    }
   ],
   "source": [
    "# Correlation Matrix after Label Encoding\n",
    "corr_matrix=df1.corr()\n",
    "plt.subplots(figsize=(18,8))\n",
    "sns.heatmap(corr_matrix,annot=True,cmap='winter')"
   ]
  },
  {
   "cell_type": "code",
   "execution_count": 161,
   "id": "74707cb8",
   "metadata": {},
   "outputs": [],
   "source": [
    "df1['AvgTemp']=df1[['MinTemp','MaxTemp']].mean(axis=1)"
   ]
  },
  {
   "cell_type": "code",
   "execution_count": 162,
   "id": "53c6b180",
   "metadata": {},
   "outputs": [],
   "source": [
    "df1.drop(['MinTemp','MaxTemp'],axis=1,inplace=True)"
   ]
  },
  {
   "cell_type": "code",
   "execution_count": 163,
   "id": "7bd1c391",
   "metadata": {},
   "outputs": [
    {
     "data": {
      "text/html": [
       "<div>\n",
       "<style scoped>\n",
       "    .dataframe tbody tr th:only-of-type {\n",
       "        vertical-align: middle;\n",
       "    }\n",
       "\n",
       "    .dataframe tbody tr th {\n",
       "        vertical-align: top;\n",
       "    }\n",
       "\n",
       "    .dataframe thead th {\n",
       "        text-align: right;\n",
       "    }\n",
       "</style>\n",
       "<table border=\"1\" class=\"dataframe\">\n",
       "  <thead>\n",
       "    <tr style=\"text-align: right;\">\n",
       "      <th></th>\n",
       "      <th>Location</th>\n",
       "      <th>WindGustDir</th>\n",
       "      <th>WindGustSpeed</th>\n",
       "      <th>WindDir9am</th>\n",
       "      <th>WindDir3pm</th>\n",
       "      <th>Humidity3pm</th>\n",
       "      <th>Pressure3pm</th>\n",
       "      <th>RainToday</th>\n",
       "      <th>RainTomorrow</th>\n",
       "      <th>AvgTemp</th>\n",
       "    </tr>\n",
       "  </thead>\n",
       "  <tbody>\n",
       "    <tr>\n",
       "      <th>0</th>\n",
       "      <td>2</td>\n",
       "      <td>13</td>\n",
       "      <td>44.0</td>\n",
       "      <td>13</td>\n",
       "      <td>14</td>\n",
       "      <td>22.0</td>\n",
       "      <td>1007.1</td>\n",
       "      <td>0</td>\n",
       "      <td>0</td>\n",
       "      <td>18.15</td>\n",
       "    </tr>\n",
       "    <tr>\n",
       "      <th>1</th>\n",
       "      <td>2</td>\n",
       "      <td>14</td>\n",
       "      <td>44.0</td>\n",
       "      <td>6</td>\n",
       "      <td>15</td>\n",
       "      <td>25.0</td>\n",
       "      <td>1007.8</td>\n",
       "      <td>0</td>\n",
       "      <td>0</td>\n",
       "      <td>16.25</td>\n",
       "    </tr>\n",
       "    <tr>\n",
       "      <th>2</th>\n",
       "      <td>2</td>\n",
       "      <td>13</td>\n",
       "      <td>41.0</td>\n",
       "      <td>1</td>\n",
       "      <td>7</td>\n",
       "      <td>33.0</td>\n",
       "      <td>1006.0</td>\n",
       "      <td>0</td>\n",
       "      <td>0</td>\n",
       "      <td>24.90</td>\n",
       "    </tr>\n",
       "    <tr>\n",
       "      <th>3</th>\n",
       "      <td>2</td>\n",
       "      <td>14</td>\n",
       "      <td>56.0</td>\n",
       "      <td>13</td>\n",
       "      <td>13</td>\n",
       "      <td>23.0</td>\n",
       "      <td>1005.4</td>\n",
       "      <td>0</td>\n",
       "      <td>0</td>\n",
       "      <td>22.15</td>\n",
       "    </tr>\n",
       "    <tr>\n",
       "      <th>4</th>\n",
       "      <td>2</td>\n",
       "      <td>13</td>\n",
       "      <td>35.0</td>\n",
       "      <td>10</td>\n",
       "      <td>13</td>\n",
       "      <td>19.0</td>\n",
       "      <td>1010.1</td>\n",
       "      <td>0</td>\n",
       "      <td>0</td>\n",
       "      <td>17.20</td>\n",
       "    </tr>\n",
       "    <tr>\n",
       "      <th>...</th>\n",
       "      <td>...</td>\n",
       "      <td>...</td>\n",
       "      <td>...</td>\n",
       "      <td>...</td>\n",
       "      <td>...</td>\n",
       "      <td>...</td>\n",
       "      <td>...</td>\n",
       "      <td>...</td>\n",
       "      <td>...</td>\n",
       "      <td>...</td>\n",
       "    </tr>\n",
       "    <tr>\n",
       "      <th>98532</th>\n",
       "      <td>41</td>\n",
       "      <td>2</td>\n",
       "      <td>41.0</td>\n",
       "      <td>9</td>\n",
       "      <td>0</td>\n",
       "      <td>32.0</td>\n",
       "      <td>1024.3</td>\n",
       "      <td>0</td>\n",
       "      <td>0</td>\n",
       "      <td>14.35</td>\n",
       "    </tr>\n",
       "    <tr>\n",
       "      <th>98533</th>\n",
       "      <td>41</td>\n",
       "      <td>0</td>\n",
       "      <td>31.0</td>\n",
       "      <td>2</td>\n",
       "      <td>0</td>\n",
       "      <td>27.0</td>\n",
       "      <td>1021.2</td>\n",
       "      <td>0</td>\n",
       "      <td>0</td>\n",
       "      <td>12.65</td>\n",
       "    </tr>\n",
       "    <tr>\n",
       "      <th>98534</th>\n",
       "      <td>41</td>\n",
       "      <td>0</td>\n",
       "      <td>31.0</td>\n",
       "      <td>9</td>\n",
       "      <td>1</td>\n",
       "      <td>24.0</td>\n",
       "      <td>1020.3</td>\n",
       "      <td>0</td>\n",
       "      <td>0</td>\n",
       "      <td>13.10</td>\n",
       "    </tr>\n",
       "    <tr>\n",
       "      <th>98535</th>\n",
       "      <td>41</td>\n",
       "      <td>6</td>\n",
       "      <td>22.0</td>\n",
       "      <td>9</td>\n",
       "      <td>3</td>\n",
       "      <td>21.0</td>\n",
       "      <td>1019.1</td>\n",
       "      <td>0</td>\n",
       "      <td>0</td>\n",
       "      <td>14.45</td>\n",
       "    </tr>\n",
       "    <tr>\n",
       "      <th>98536</th>\n",
       "      <td>41</td>\n",
       "      <td>3</td>\n",
       "      <td>37.0</td>\n",
       "      <td>9</td>\n",
       "      <td>14</td>\n",
       "      <td>24.0</td>\n",
       "      <td>1016.8</td>\n",
       "      <td>0</td>\n",
       "      <td>0</td>\n",
       "      <td>16.15</td>\n",
       "    </tr>\n",
       "  </tbody>\n",
       "</table>\n",
       "<p>98537 rows × 10 columns</p>\n",
       "</div>"
      ],
      "text/plain": [
       "       Location  WindGustDir  WindGustSpeed  WindDir9am  WindDir3pm  \\\n",
       "0             2           13           44.0          13          14   \n",
       "1             2           14           44.0           6          15   \n",
       "2             2           13           41.0           1           7   \n",
       "3             2           14           56.0          13          13   \n",
       "4             2           13           35.0          10          13   \n",
       "...         ...          ...            ...         ...         ...   \n",
       "98532        41            2           41.0           9           0   \n",
       "98533        41            0           31.0           2           0   \n",
       "98534        41            0           31.0           9           1   \n",
       "98535        41            6           22.0           9           3   \n",
       "98536        41            3           37.0           9          14   \n",
       "\n",
       "       Humidity3pm  Pressure3pm  RainToday  RainTomorrow  AvgTemp  \n",
       "0             22.0       1007.1          0             0    18.15  \n",
       "1             25.0       1007.8          0             0    16.25  \n",
       "2             33.0       1006.0          0             0    24.90  \n",
       "3             23.0       1005.4          0             0    22.15  \n",
       "4             19.0       1010.1          0             0    17.20  \n",
       "...            ...          ...        ...           ...      ...  \n",
       "98532         32.0       1024.3          0             0    14.35  \n",
       "98533         27.0       1021.2          0             0    12.65  \n",
       "98534         24.0       1020.3          0             0    13.10  \n",
       "98535         21.0       1019.1          0             0    14.45  \n",
       "98536         24.0       1016.8          0             0    16.15  \n",
       "\n",
       "[98537 rows x 10 columns]"
      ]
     },
     "execution_count": 163,
     "metadata": {},
     "output_type": "execute_result"
    }
   ],
   "source": [
    "df1"
   ]
  },
  {
   "cell_type": "code",
   "execution_count": 164,
   "id": "ce7ab6ef",
   "metadata": {},
   "outputs": [],
   "source": [
    "X=df1.drop(['RainTomorrow'],axis=1)\n",
    "y=df1['RainTomorrow']"
   ]
  },
  {
   "cell_type": "code",
   "execution_count": 165,
   "id": "70dc91fa",
   "metadata": {},
   "outputs": [],
   "source": [
    "#Standard Scaling \n",
    "from sklearn.preprocessing import StandardScaler\n",
    "std_scl=StandardScaler()"
   ]
  },
  {
   "cell_type": "code",
   "execution_count": 166,
   "id": "d4eceffc",
   "metadata": {},
   "outputs": [],
   "source": [
    "X1=X.drop(['Location','WindDir9am','WindDir3pm','WindGustDir','RainToday'],axis=1)"
   ]
  },
  {
   "cell_type": "code",
   "execution_count": 167,
   "id": "e0e88598",
   "metadata": {},
   "outputs": [],
   "source": [
    "X1=std_scl.fit_transform(X1)"
   ]
  },
  {
   "cell_type": "code",
   "execution_count": 168,
   "id": "119c2fbe",
   "metadata": {},
   "outputs": [],
   "source": [
    "X1=pd.DataFrame(X1,columns=['AvgTemp','WindGustSpeed','Humidity3pm','Pressure3pm'])"
   ]
  },
  {
   "cell_type": "code",
   "execution_count": 169,
   "id": "df8b9c33",
   "metadata": {},
   "outputs": [],
   "source": [
    "X=X.drop(['AvgTemp','WindGustSpeed','Humidity3pm','Pressure3pm'],axis=1)"
   ]
  },
  {
   "cell_type": "code",
   "execution_count": 170,
   "id": "057e5df5",
   "metadata": {},
   "outputs": [],
   "source": [
    "X=pd.concat([X,X1],axis=1)"
   ]
  },
  {
   "cell_type": "code",
   "execution_count": 171,
   "id": "a2c7fd5a",
   "metadata": {},
   "outputs": [
    {
     "data": {
      "text/html": [
       "<div>\n",
       "<style scoped>\n",
       "    .dataframe tbody tr th:only-of-type {\n",
       "        vertical-align: middle;\n",
       "    }\n",
       "\n",
       "    .dataframe tbody tr th {\n",
       "        vertical-align: top;\n",
       "    }\n",
       "\n",
       "    .dataframe thead th {\n",
       "        text-align: right;\n",
       "    }\n",
       "</style>\n",
       "<table border=\"1\" class=\"dataframe\">\n",
       "  <thead>\n",
       "    <tr style=\"text-align: right;\">\n",
       "      <th></th>\n",
       "      <th>Location</th>\n",
       "      <th>WindGustDir</th>\n",
       "      <th>WindDir9am</th>\n",
       "      <th>WindDir3pm</th>\n",
       "      <th>RainToday</th>\n",
       "      <th>AvgTemp</th>\n",
       "      <th>WindGustSpeed</th>\n",
       "      <th>Humidity3pm</th>\n",
       "      <th>Pressure3pm</th>\n",
       "    </tr>\n",
       "  </thead>\n",
       "  <tbody>\n",
       "    <tr>\n",
       "      <th>0</th>\n",
       "      <td>2</td>\n",
       "      <td>13</td>\n",
       "      <td>13</td>\n",
       "      <td>14</td>\n",
       "      <td>0</td>\n",
       "      <td>0.361178</td>\n",
       "      <td>-1.432427</td>\n",
       "      <td>-1.248508</td>\n",
       "      <td>0.071648</td>\n",
       "    </tr>\n",
       "    <tr>\n",
       "      <th>1</th>\n",
       "      <td>2</td>\n",
       "      <td>14</td>\n",
       "      <td>6</td>\n",
       "      <td>15</td>\n",
       "      <td>0</td>\n",
       "      <td>0.361178</td>\n",
       "      <td>-1.286268</td>\n",
       "      <td>-1.141987</td>\n",
       "      <td>-0.231310</td>\n",
       "    </tr>\n",
       "    <tr>\n",
       "      <th>2</th>\n",
       "      <td>2</td>\n",
       "      <td>13</td>\n",
       "      <td>1</td>\n",
       "      <td>7</td>\n",
       "      <td>0</td>\n",
       "      <td>0.115368</td>\n",
       "      <td>-0.896513</td>\n",
       "      <td>-1.415900</td>\n",
       "      <td>1.147944</td>\n",
       "    </tr>\n",
       "    <tr>\n",
       "      <th>3</th>\n",
       "      <td>2</td>\n",
       "      <td>14</td>\n",
       "      <td>13</td>\n",
       "      <td>13</td>\n",
       "      <td>0</td>\n",
       "      <td>1.344418</td>\n",
       "      <td>-1.383707</td>\n",
       "      <td>-1.507204</td>\n",
       "      <td>0.709453</td>\n",
       "    </tr>\n",
       "    <tr>\n",
       "      <th>4</th>\n",
       "      <td>2</td>\n",
       "      <td>13</td>\n",
       "      <td>10</td>\n",
       "      <td>13</td>\n",
       "      <td>0</td>\n",
       "      <td>-0.376253</td>\n",
       "      <td>-1.578585</td>\n",
       "      <td>-0.791986</td>\n",
       "      <td>-0.079831</td>\n",
       "    </tr>\n",
       "    <tr>\n",
       "      <th>...</th>\n",
       "      <td>...</td>\n",
       "      <td>...</td>\n",
       "      <td>...</td>\n",
       "      <td>...</td>\n",
       "      <td>...</td>\n",
       "      <td>...</td>\n",
       "      <td>...</td>\n",
       "      <td>...</td>\n",
       "      <td>...</td>\n",
       "    </tr>\n",
       "    <tr>\n",
       "      <th>98532</th>\n",
       "      <td>41</td>\n",
       "      <td>2</td>\n",
       "      <td>9</td>\n",
       "      <td>0</td>\n",
       "      <td>0</td>\n",
       "      <td>0.115368</td>\n",
       "      <td>-0.945232</td>\n",
       "      <td>1.368885</td>\n",
       "      <td>-0.534267</td>\n",
       "    </tr>\n",
       "    <tr>\n",
       "      <th>98533</th>\n",
       "      <td>41</td>\n",
       "      <td>0</td>\n",
       "      <td>2</td>\n",
       "      <td>0</td>\n",
       "      <td>0</td>\n",
       "      <td>-0.704000</td>\n",
       "      <td>-1.188829</td>\n",
       "      <td>0.897145</td>\n",
       "      <td>-0.805334</td>\n",
       "    </tr>\n",
       "    <tr>\n",
       "      <th>98534</th>\n",
       "      <td>41</td>\n",
       "      <td>0</td>\n",
       "      <td>9</td>\n",
       "      <td>1</td>\n",
       "      <td>0</td>\n",
       "      <td>-0.704000</td>\n",
       "      <td>-1.334988</td>\n",
       "      <td>0.760189</td>\n",
       "      <td>-0.733581</td>\n",
       "    </tr>\n",
       "    <tr>\n",
       "      <th>98535</th>\n",
       "      <td>41</td>\n",
       "      <td>6</td>\n",
       "      <td>9</td>\n",
       "      <td>3</td>\n",
       "      <td>0</td>\n",
       "      <td>-1.441430</td>\n",
       "      <td>-1.481146</td>\n",
       "      <td>0.577580</td>\n",
       "      <td>-0.518322</td>\n",
       "    </tr>\n",
       "    <tr>\n",
       "      <th>98536</th>\n",
       "      <td>41</td>\n",
       "      <td>3</td>\n",
       "      <td>9</td>\n",
       "      <td>14</td>\n",
       "      <td>0</td>\n",
       "      <td>-0.212379</td>\n",
       "      <td>-1.334988</td>\n",
       "      <td>0.227580</td>\n",
       "      <td>-0.247255</td>\n",
       "    </tr>\n",
       "  </tbody>\n",
       "</table>\n",
       "<p>98537 rows × 9 columns</p>\n",
       "</div>"
      ],
      "text/plain": [
       "       Location  WindGustDir  WindDir9am  WindDir3pm  RainToday   AvgTemp  \\\n",
       "0             2           13          13          14          0  0.361178   \n",
       "1             2           14           6          15          0  0.361178   \n",
       "2             2           13           1           7          0  0.115368   \n",
       "3             2           14          13          13          0  1.344418   \n",
       "4             2           13          10          13          0 -0.376253   \n",
       "...         ...          ...         ...         ...        ...       ...   \n",
       "98532        41            2           9           0          0  0.115368   \n",
       "98533        41            0           2           0          0 -0.704000   \n",
       "98534        41            0           9           1          0 -0.704000   \n",
       "98535        41            6           9           3          0 -1.441430   \n",
       "98536        41            3           9          14          0 -0.212379   \n",
       "\n",
       "       WindGustSpeed  Humidity3pm  Pressure3pm  \n",
       "0          -1.432427    -1.248508     0.071648  \n",
       "1          -1.286268    -1.141987    -0.231310  \n",
       "2          -0.896513    -1.415900     1.147944  \n",
       "3          -1.383707    -1.507204     0.709453  \n",
       "4          -1.578585    -0.791986    -0.079831  \n",
       "...              ...          ...          ...  \n",
       "98532      -0.945232     1.368885    -0.534267  \n",
       "98533      -1.188829     0.897145    -0.805334  \n",
       "98534      -1.334988     0.760189    -0.733581  \n",
       "98535      -1.481146     0.577580    -0.518322  \n",
       "98536      -1.334988     0.227580    -0.247255  \n",
       "\n",
       "[98537 rows x 9 columns]"
      ]
     },
     "execution_count": 171,
     "metadata": {},
     "output_type": "execute_result"
    }
   ],
   "source": [
    "X"
   ]
  },
  {
   "cell_type": "markdown",
   "id": "d3fc84d1",
   "metadata": {},
   "source": [
    "# Model"
   ]
  },
  {
   "cell_type": "code",
   "execution_count": 172,
   "id": "24055047",
   "metadata": {},
   "outputs": [],
   "source": [
    "# Splitting into train and test data\n",
    "from sklearn.model_selection import train_test_split\n",
    "X_train,X_test,y_train,y_test=train_test_split(X,y,random_state=42,test_size=.2)"
   ]
  },
  {
   "cell_type": "markdown",
   "id": "9f8623d2",
   "metadata": {},
   "source": [
    "# Creating Logistic Regression Model"
   ]
  },
  {
   "cell_type": "code",
   "execution_count": 173,
   "id": "1b9ed362",
   "metadata": {},
   "outputs": [],
   "source": [
    "from sklearn.linear_model import LogisticRegression"
   ]
  },
  {
   "cell_type": "code",
   "execution_count": 175,
   "id": "5a86c9f3",
   "metadata": {
    "scrolled": true
   },
   "outputs": [],
   "source": [
    "lr_model=LogisticRegression().fit(X_train,y_train)\n",
    "y_pred_log=lr_model.predict(X_test)"
   ]
  },
  {
   "cell_type": "code",
   "execution_count": 176,
   "id": "33e2072a",
   "metadata": {},
   "outputs": [],
   "source": [
    "from sklearn.metrics import accuracy_score,confusion_matrix,precision_score,recall_score,f1_score"
   ]
  },
  {
   "cell_type": "code",
   "execution_count": 177,
   "id": "7ae95b92",
   "metadata": {},
   "outputs": [
    {
     "data": {
      "text/plain": [
       "array([[14474,   826],\n",
       "       [ 2367,  2041]], dtype=int64)"
      ]
     },
     "execution_count": 177,
     "metadata": {},
     "output_type": "execute_result"
    }
   ],
   "source": [
    "confusion_matrix(y_test,y_pred_log)"
   ]
  },
  {
   "cell_type": "code",
   "execution_count": 178,
   "id": "10d8eca8",
   "metadata": {},
   "outputs": [
    {
     "name": "stdout",
     "output_type": "stream",
     "text": [
      "Accuracy score is : 0.8379845747919626\n"
     ]
    }
   ],
   "source": [
    "print('Accuracy score is :',accuracy_score(y_test,y_pred_log))"
   ]
  },
  {
   "cell_type": "code",
   "execution_count": 179,
   "id": "ebb43944",
   "metadata": {},
   "outputs": [
    {
     "data": {
      "text/plain": [
       "0.7118939658179282"
      ]
     },
     "execution_count": 179,
     "metadata": {},
     "output_type": "execute_result"
    }
   ],
   "source": [
    "precision_score(y_test,y_pred_log)"
   ]
  },
  {
   "cell_type": "code",
   "execution_count": 180,
   "id": "8134b1fc",
   "metadata": {},
   "outputs": [
    {
     "data": {
      "text/plain": [
       "0.46302177858439203"
      ]
     },
     "execution_count": 180,
     "metadata": {},
     "output_type": "execute_result"
    }
   ],
   "source": [
    "recall_score(y_test,y_pred_log)"
   ]
  },
  {
   "cell_type": "code",
   "execution_count": 181,
   "id": "dc01cd96",
   "metadata": {},
   "outputs": [
    {
     "data": {
      "text/plain": [
       "0.5610996563573883"
      ]
     },
     "execution_count": 181,
     "metadata": {},
     "output_type": "execute_result"
    }
   ],
   "source": [
    "f1_score(y_test,y_pred_log)"
   ]
  },
  {
   "cell_type": "code",
   "execution_count": 182,
   "id": "26c816a2",
   "metadata": {},
   "outputs": [
    {
     "name": "stdout",
     "output_type": "stream",
     "text": [
      "classification_report :\n",
      "               precision    recall  f1-score   support\n",
      "\n",
      "           0       0.86      0.95      0.90     15300\n",
      "           1       0.71      0.46      0.56      4408\n",
      "\n",
      "    accuracy                           0.84     19708\n",
      "   macro avg       0.79      0.70      0.73     19708\n",
      "weighted avg       0.83      0.84      0.82     19708\n",
      "\n"
     ]
    }
   ],
   "source": [
    "from sklearn.metrics import classification_report\n",
    "print('classification_report :\\n',classification_report(y_test,y_pred_log))"
   ]
  },
  {
   "cell_type": "markdown",
   "id": "b897ece9",
   "metadata": {},
   "source": [
    "# Creating KNN Model"
   ]
  },
  {
   "cell_type": "code",
   "execution_count": 183,
   "id": "687d53c3",
   "metadata": {},
   "outputs": [],
   "source": [
    "from sklearn.neighbors import KNeighborsClassifier"
   ]
  },
  {
   "cell_type": "code",
   "execution_count": 184,
   "id": "33c7398e",
   "metadata": {},
   "outputs": [],
   "source": [
    "metric_k=[]\n",
    "neighbors=range(3,15)\n",
    "\n",
    "for k in neighbors:\n",
    "     classifier=KNeighborsClassifier(n_neighbors=k)\n",
    "     kNN_model=classifier.fit(X_train,y_train)\n",
    "     y_pred_kNN=kNN_model.predict(X_test)\n",
    "     acc=accuracy_score(y_test,y_pred_kNN)\n",
    "     metric_k.append(acc)"
   ]
  },
  {
   "cell_type": "code",
   "execution_count": 185,
   "id": "c05ec24a",
   "metadata": {},
   "outputs": [
    {
     "data": {
      "text/plain": [
       "[0.8164197280292267,\n",
       " 0.8194134361680536,\n",
       " 0.8245382585751979,\n",
       " 0.822813070834179,\n",
       " 0.8295108585346053,\n",
       " 0.8255023340775319,\n",
       " 0.8286482646640958,\n",
       " 0.8251471483661458,\n",
       " 0.8279378932413233,\n",
       " 0.8245889993911102,\n",
       " 0.8271260401867262,\n",
       " 0.8237264055206007]"
      ]
     },
     "execution_count": 185,
     "metadata": {},
     "output_type": "execute_result"
    }
   ],
   "source": [
    "metric_k"
   ]
  },
  {
   "cell_type": "code",
   "execution_count": 186,
   "id": "fae80b73",
   "metadata": {},
   "outputs": [
    {
     "data": {
      "image/png": "[encoded data removed]",
      "text/plain": [
       "<Figure size 1008x504 with 1 Axes>"
      ]
     },
     "metadata": {
      "needs_background": "light"
     },
     "output_type": "display_data"
    }
   ],
   "source": [
    "plt.plot(neighbors,metric_k,'o-')\n",
    "plt.xlabel('k values')\n",
    "plt.ylabel('Accuracies')\n",
    "plt.grid()"
   ]
  },
  {
   "cell_type": "code",
   "execution_count": 187,
   "id": "2f855b9d",
   "metadata": {},
   "outputs": [
    {
     "data": {
      "text/plain": [
       "0.8237264055206007"
      ]
     },
     "execution_count": 187,
     "metadata": {},
     "output_type": "execute_result"
    }
   ],
   "source": [
    "accuracy_score(y_test,y_pred_kNN)"
   ]
  },
  {
   "cell_type": "code",
   "execution_count": 188,
   "id": "b2928afc",
   "metadata": {},
   "outputs": [],
   "source": [
    "classifier=KNeighborsClassifier(n_neighbors=7)\n",
    "kNN_model=classifier.fit(X_train,y_train)\n",
    "y_pred_kNN=kNN_model.predict(X_test)"
   ]
  },
  {
   "cell_type": "code",
   "execution_count": 189,
   "id": "40c3e96e",
   "metadata": {},
   "outputs": [
    {
     "data": {
      "text/plain": [
       "array([[14625,   675],\n",
       "       [ 2685,  1723]], dtype=int64)"
      ]
     },
     "execution_count": 189,
     "metadata": {},
     "output_type": "execute_result"
    }
   ],
   "source": [
    "confusion_matrix(y_test,y_pred_kNN)"
   ]
  },
  {
   "cell_type": "code",
   "execution_count": 190,
   "id": "e50068a9",
   "metadata": {},
   "outputs": [
    {
     "data": {
      "text/plain": [
       "0.8295108585346053"
      ]
     },
     "execution_count": 190,
     "metadata": {},
     "output_type": "execute_result"
    }
   ],
   "source": [
    "accuracy_score(y_test,y_pred_kNN)"
   ]
  },
  {
   "cell_type": "code",
   "execution_count": 191,
   "id": "6293ecdd",
   "metadata": {},
   "outputs": [
    {
     "data": {
      "text/plain": [
       "0.7185154295246038"
      ]
     },
     "execution_count": 191,
     "metadata": {},
     "output_type": "execute_result"
    }
   ],
   "source": [
    "precision_score(y_test,y_pred_kNN)"
   ]
  },
  {
   "cell_type": "code",
   "execution_count": 192,
   "id": "cb8804b9",
   "metadata": {},
   "outputs": [
    {
     "data": {
      "text/plain": [
       "0.3908802177858439"
      ]
     },
     "execution_count": 192,
     "metadata": {},
     "output_type": "execute_result"
    }
   ],
   "source": [
    "recall_score(y_test,y_pred_kNN)"
   ]
  },
  {
   "cell_type": "code",
   "execution_count": 193,
   "id": "332a5db1",
   "metadata": {},
   "outputs": [
    {
     "data": {
      "text/plain": [
       "0.5063179547458125"
      ]
     },
     "execution_count": 193,
     "metadata": {},
     "output_type": "execute_result"
    }
   ],
   "source": [
    "f1_score(y_test,y_pred_kNN)"
   ]
  },
  {
   "cell_type": "code",
   "execution_count": 194,
   "id": "d4651352",
   "metadata": {},
   "outputs": [
    {
     "name": "stdout",
     "output_type": "stream",
     "text": [
      "classification_report :\n",
      "               precision    recall  f1-score   support\n",
      "\n",
      "           0       0.84      0.96      0.90     15300\n",
      "           1       0.72      0.39      0.51      4408\n",
      "\n",
      "    accuracy                           0.83     19708\n",
      "   macro avg       0.78      0.67      0.70     19708\n",
      "weighted avg       0.82      0.83      0.81     19708\n",
      "\n"
     ]
    }
   ],
   "source": [
    "print('classification_report :\\n',classification_report(y_test,y_pred_kNN))"
   ]
  },
  {
   "cell_type": "markdown",
   "id": "64c90d67",
   "metadata": {},
   "source": [
    "# Creating SVM(Kernel='Linear')Model"
   ]
  },
  {
   "cell_type": "code",
   "execution_count": null,
   "id": "94d1f8d5",
   "metadata": {},
   "outputs": [],
   "source": [
    "accuracy_score(y_test,y_pred_svm)"
   ]
  },
  {
   "cell_type": "markdown",
   "id": "fde06de1",
   "metadata": {},
   "source": [
    "# Creating SVM(Kernel='rbf')Model"
   ]
  },
  {
   "cell_type": "code",
   "execution_count": null,
   "id": "758d1746",
   "metadata": {},
   "outputs": [],
   "source": [
    "accuracy_score(y_test,y_pred_svm1)"
   ]
  },
  {
   "cell_type": "markdown",
   "id": "477ab52a",
   "metadata": {},
   "source": [
    "# Creating DecisionTreeClassifier Model"
   ]
  },
  {
   "cell_type": "code",
   "execution_count": 195,
   "id": "2cb1649f",
   "metadata": {},
   "outputs": [],
   "source": [
    "X=df1.drop(['RainTomorrow'],axis=1)\n",
    "y=df1['RainTomorrow']"
   ]
  },
  {
   "cell_type": "code",
   "execution_count": 196,
   "id": "f49ab27d",
   "metadata": {},
   "outputs": [],
   "source": [
    "# Splitting into train and test data\n",
    "X_train,X_test,y_train,y_test=train_test_split(X,y,random_state=42,test_size=.2)"
   ]
  },
  {
   "cell_type": "code",
   "execution_count": 197,
   "id": "3208c6b2",
   "metadata": {},
   "outputs": [],
   "source": [
    "from sklearn.tree import DecisionTreeClassifier"
   ]
  },
  {
   "cell_type": "code",
   "execution_count": 198,
   "id": "d7a6c321",
   "metadata": {},
   "outputs": [],
   "source": [
    "dec_tree_model=DecisionTreeClassifier().fit(X_train,y_train)\n",
    "y_pred_tree=dec_tree_model.predict(X_test)"
   ]
  },
  {
   "cell_type": "code",
   "execution_count": 199,
   "id": "a5719d3a",
   "metadata": {},
   "outputs": [
    {
     "data": {
      "text/plain": [
       "array([[13086,  2214],\n",
       "       [ 2127,  2281]], dtype=int64)"
      ]
     },
     "execution_count": 199,
     "metadata": {},
     "output_type": "execute_result"
    }
   ],
   "source": [
    "confusion_matrix(y_test,y_pred_tree)"
   ]
  },
  {
   "cell_type": "code",
   "execution_count": 200,
   "id": "673689f2",
   "metadata": {},
   "outputs": [
    {
     "data": {
      "text/plain": [
       "0.7797341181246195"
      ]
     },
     "execution_count": 200,
     "metadata": {},
     "output_type": "execute_result"
    }
   ],
   "source": [
    "accuracy_score(y_test,y_pred_tree)"
   ]
  },
  {
   "cell_type": "code",
   "execution_count": 201,
   "id": "c651c583",
   "metadata": {},
   "outputs": [
    {
     "data": {
      "text/plain": [
       "0.5074527252502781"
      ]
     },
     "execution_count": 201,
     "metadata": {},
     "output_type": "execute_result"
    }
   ],
   "source": [
    "precision_score(y_test,y_pred_tree)"
   ]
  },
  {
   "cell_type": "code",
   "execution_count": 202,
   "id": "4ce1323e",
   "metadata": {},
   "outputs": [
    {
     "data": {
      "text/plain": [
       "0.5174682395644283"
      ]
     },
     "execution_count": 202,
     "metadata": {},
     "output_type": "execute_result"
    }
   ],
   "source": [
    "recall_score(y_test,y_pred_tree)"
   ]
  },
  {
   "cell_type": "code",
   "execution_count": 203,
   "id": "d8e254c2",
   "metadata": {},
   "outputs": [
    {
     "data": {
      "text/plain": [
       "0.5124115466696619"
      ]
     },
     "execution_count": 203,
     "metadata": {},
     "output_type": "execute_result"
    }
   ],
   "source": [
    "f1_score(y_test,y_pred_tree)"
   ]
  },
  {
   "cell_type": "code",
   "execution_count": 204,
   "id": "490d8f4b",
   "metadata": {},
   "outputs": [
    {
     "name": "stdout",
     "output_type": "stream",
     "text": [
      "classification_report :\n",
      "               precision    recall  f1-score   support\n",
      "\n",
      "           0       0.86      0.86      0.86     15300\n",
      "           1       0.51      0.52      0.51      4408\n",
      "\n",
      "    accuracy                           0.78     19708\n",
      "   macro avg       0.68      0.69      0.69     19708\n",
      "weighted avg       0.78      0.78      0.78     19708\n",
      "\n"
     ]
    }
   ],
   "source": [
    "print('classification_report :\\n',classification_report(y_test,y_pred_tree))"
   ]
  },
  {
   "cell_type": "markdown",
   "id": "e63234aa",
   "metadata": {},
   "source": [
    "# Creating RandomForestClassifier Model"
   ]
  },
  {
   "cell_type": "code",
   "execution_count": 205,
   "id": "c5f0dd2b",
   "metadata": {},
   "outputs": [],
   "source": [
    "from sklearn.ensemble import RandomForestClassifier"
   ]
  },
  {
   "cell_type": "code",
   "execution_count": 206,
   "id": "d68fda38",
   "metadata": {},
   "outputs": [],
   "source": [
    "rand_for_model=RandomForestClassifier().fit(X_train,y_train)\n",
    "y_pred_rand=rand_for_model.predict(X_test)"
   ]
  },
  {
   "cell_type": "code",
   "execution_count": 207,
   "id": "3f5fa72f",
   "metadata": {},
   "outputs": [
    {
     "data": {
      "text/plain": [
       "array([[14511,   789],\n",
       "       [ 2207,  2201]], dtype=int64)"
      ]
     },
     "execution_count": 207,
     "metadata": {},
     "output_type": "execute_result"
    }
   ],
   "source": [
    "confusion_matrix(y_test,y_pred_rand)"
   ]
  },
  {
   "cell_type": "code",
   "execution_count": 208,
   "id": "f2ba9fd5",
   "metadata": {},
   "outputs": [
    {
     "data": {
      "text/plain": [
       "0.8479805155266896"
      ]
     },
     "execution_count": 208,
     "metadata": {},
     "output_type": "execute_result"
    }
   ],
   "source": [
    "accuracy_score(y_test,y_pred_rand)"
   ]
  },
  {
   "cell_type": "code",
   "execution_count": 209,
   "id": "afe3428a",
   "metadata": {},
   "outputs": [
    {
     "data": {
      "text/plain": [
       "0.7361204013377927"
      ]
     },
     "execution_count": 209,
     "metadata": {},
     "output_type": "execute_result"
    }
   ],
   "source": [
    "precision_score(y_test,y_pred_rand)"
   ]
  },
  {
   "cell_type": "code",
   "execution_count": 210,
   "id": "e21e5fc7",
   "metadata": {},
   "outputs": [
    {
     "data": {
      "text/plain": [
       "0.49931941923774953"
      ]
     },
     "execution_count": 210,
     "metadata": {},
     "output_type": "execute_result"
    }
   ],
   "source": [
    "recall_score(y_test,y_pred_rand)"
   ]
  },
  {
   "cell_type": "code",
   "execution_count": 211,
   "id": "511e9bbb",
   "metadata": {},
   "outputs": [
    {
     "data": {
      "text/plain": [
       "0.5950256826169235"
      ]
     },
     "execution_count": 211,
     "metadata": {},
     "output_type": "execute_result"
    }
   ],
   "source": [
    "f1_score(y_test,y_pred_rand)"
   ]
  },
  {
   "cell_type": "code",
   "execution_count": 212,
   "id": "28093bb8",
   "metadata": {},
   "outputs": [
    {
     "name": "stdout",
     "output_type": "stream",
     "text": [
      "classification_report :\n",
      "               precision    recall  f1-score   support\n",
      "\n",
      "           0       0.87      0.95      0.91     15300\n",
      "           1       0.74      0.50      0.60      4408\n",
      "\n",
      "    accuracy                           0.85     19708\n",
      "   macro avg       0.80      0.72      0.75     19708\n",
      "weighted avg       0.84      0.85      0.84     19708\n",
      "\n"
     ]
    }
   ],
   "source": [
    "print('classification_report :\\n',classification_report(y_test,y_pred_rand))"
   ]
  },
  {
   "cell_type": "markdown",
   "id": "86129d8f",
   "metadata": {},
   "source": [
    "# Creating GradientBoostingClassifier Model"
   ]
  },
  {
   "cell_type": "code",
   "execution_count": 213,
   "id": "22aba6bd",
   "metadata": {},
   "outputs": [],
   "source": [
    "from sklearn.ensemble import GradientBoostingClassifier"
   ]
  },
  {
   "cell_type": "code",
   "execution_count": 214,
   "id": "c9dad638",
   "metadata": {},
   "outputs": [],
   "source": [
    "grad_boost_model=GradientBoostingClassifier().fit(X_train,y_train)\n",
    "y_pred_grad=grad_boost_model.predict(X_test)"
   ]
  },
  {
   "cell_type": "code",
   "execution_count": 215,
   "id": "5a6795ac",
   "metadata": {},
   "outputs": [
    {
     "data": {
      "text/plain": [
       "array([[14595,   705],\n",
       "       [ 2321,  2087]], dtype=int64)"
      ]
     },
     "execution_count": 215,
     "metadata": {},
     "output_type": "execute_result"
    }
   ],
   "source": [
    "confusion_matrix(y_test,y_pred_grad)"
   ]
  },
  {
   "cell_type": "code",
   "execution_count": 216,
   "id": "75ae3001",
   "metadata": {},
   "outputs": [
    {
     "data": {
      "text/plain": [
       "0.84645829104932"
      ]
     },
     "execution_count": 216,
     "metadata": {},
     "output_type": "execute_result"
    }
   ],
   "source": [
    "accuracy_score(y_test,y_pred_grad)"
   ]
  },
  {
   "cell_type": "code",
   "execution_count": 217,
   "id": "2ac0c438",
   "metadata": {},
   "outputs": [
    {
     "data": {
      "text/plain": [
       "0.7474928366762178"
      ]
     },
     "execution_count": 217,
     "metadata": {},
     "output_type": "execute_result"
    }
   ],
   "source": [
    "precision_score(y_test,y_pred_grad)"
   ]
  },
  {
   "cell_type": "code",
   "execution_count": 218,
   "id": "12c9ce42",
   "metadata": {},
   "outputs": [
    {
     "data": {
      "text/plain": [
       "0.4734573502722323"
      ]
     },
     "execution_count": 218,
     "metadata": {},
     "output_type": "execute_result"
    }
   ],
   "source": [
    "recall_score(y_test,y_pred_grad)"
   ]
  },
  {
   "cell_type": "code",
   "execution_count": 219,
   "id": "dc2008a0",
   "metadata": {},
   "outputs": [
    {
     "data": {
      "text/plain": [
       "0.5797222222222222"
      ]
     },
     "execution_count": 219,
     "metadata": {},
     "output_type": "execute_result"
    }
   ],
   "source": [
    "f1_score(y_test,y_pred_grad)"
   ]
  },
  {
   "cell_type": "code",
   "execution_count": 220,
   "id": "ba143ab8",
   "metadata": {},
   "outputs": [
    {
     "name": "stdout",
     "output_type": "stream",
     "text": [
      "classification_report :\n",
      "               precision    recall  f1-score   support\n",
      "\n",
      "           0       0.86      0.95      0.91     15300\n",
      "           1       0.75      0.47      0.58      4408\n",
      "\n",
      "    accuracy                           0.85     19708\n",
      "   macro avg       0.81      0.71      0.74     19708\n",
      "weighted avg       0.84      0.85      0.83     19708\n",
      "\n"
     ]
    }
   ],
   "source": [
    "print('classification_report :\\n',classification_report(y_test,y_pred_grad))"
   ]
  },
  {
   "cell_type": "markdown",
   "id": "249e5909",
   "metadata": {},
   "source": [
    "# Creating Naive Bayes Classification Model"
   ]
  },
  {
   "cell_type": "code",
   "execution_count": 221,
   "id": "cb66b803",
   "metadata": {},
   "outputs": [],
   "source": [
    "from sklearn.naive_bayes import GaussianNB"
   ]
  },
  {
   "cell_type": "code",
   "execution_count": 222,
   "id": "58549292",
   "metadata": {},
   "outputs": [],
   "source": [
    "gaus_nb_model=GaussianNB().fit(X_train,y_train)\n",
    "y_pred_gaus=gaus_nb_model.predict(X_test)"
   ]
  },
  {
   "cell_type": "code",
   "execution_count": 223,
   "id": "c4c55141",
   "metadata": {},
   "outputs": [
    {
     "data": {
      "text/plain": [
       "0.8095189770651512"
      ]
     },
     "execution_count": 223,
     "metadata": {},
     "output_type": "execute_result"
    }
   ],
   "source": [
    "accuracy_score(y_test,y_pred_gaus)"
   ]
  },
  {
   "cell_type": "code",
   "execution_count": 224,
   "id": "b3e53838",
   "metadata": {},
   "outputs": [
    {
     "data": {
      "text/plain": [
       "0.5789473684210527"
      ]
     },
     "execution_count": 224,
     "metadata": {},
     "output_type": "execute_result"
    }
   ],
   "source": [
    "precision_score(y_test,y_pred_gaus)"
   ]
  },
  {
   "cell_type": "code",
   "execution_count": 225,
   "id": "52ce1d88",
   "metadata": {},
   "outputs": [
    {
     "data": {
      "text/plain": [
       "0.544010889292196"
      ]
     },
     "execution_count": 225,
     "metadata": {},
     "output_type": "execute_result"
    }
   ],
   "source": [
    "recall_score(y_test,y_pred_gaus)"
   ]
  },
  {
   "cell_type": "code",
   "execution_count": 226,
   "id": "fb38a3b3",
   "metadata": {},
   "outputs": [
    {
     "data": {
      "text/plain": [
       "0.5609356725146198"
      ]
     },
     "execution_count": 226,
     "metadata": {},
     "output_type": "execute_result"
    }
   ],
   "source": [
    "f1_score(y_test,y_pred_gaus)"
   ]
  },
  {
   "cell_type": "code",
   "execution_count": 227,
   "id": "23094490",
   "metadata": {},
   "outputs": [],
   "source": [
    "# Fine Tuning RandomForestClassifier Model\n",
    "from sklearn.model_selection import GridSearchCV,RandomizedSearchCV"
   ]
  },
  {
   "cell_type": "code",
   "execution_count": 228,
   "id": "8349ebff",
   "metadata": {},
   "outputs": [],
   "source": [
    "parameters={'n_estimators':[50,100,150,250],'max_depth':[3,6,9,None]}"
   ]
  },
  {
   "cell_type": "code",
   "execution_count": 230,
   "id": "17ee9005",
   "metadata": {},
   "outputs": [
    {
     "name": "stdout",
     "output_type": "stream",
     "text": [
      "{'max_depth': None, 'n_estimators': 250}\n"
     ]
    }
   ],
   "source": [
    "cv=GridSearchCV(RandomForestClassifier(),parameters,scoring='f1')\n",
    "cv.fit(X_train,y_train)\n",
    "print(cv.best_params_)"
   ]
  },
  {
   "cell_type": "code",
   "execution_count": 231,
   "id": "ef248842",
   "metadata": {},
   "outputs": [],
   "source": [
    "model_grid=RandomForestClassifier(n_estimators=250,max_depth=None)\n",
    "model1=model_grid.fit(X_train,y_train)\n",
    "y_pred_grid=model1.predict(X_test)"
   ]
  },
  {
   "cell_type": "code",
   "execution_count": 232,
   "id": "64c82d85",
   "metadata": {},
   "outputs": [
    {
     "name": "stdout",
     "output_type": "stream",
     "text": [
      "classification_report :\n",
      "               precision    recall  f1-score   support\n",
      "\n",
      "           0       0.87      0.95      0.91     15300\n",
      "           1       0.74      0.50      0.60      4408\n",
      "\n",
      "    accuracy                           0.85     19708\n",
      "   macro avg       0.80      0.72      0.75     19708\n",
      "weighted avg       0.84      0.85      0.84     19708\n",
      "\n"
     ]
    }
   ],
   "source": [
    "print('classification_report :\\n',classification_report(y_test,y_pred_grid))"
   ]
  },
  {
   "cell_type": "code",
   "execution_count": 233,
   "id": "b80435e6",
   "metadata": {},
   "outputs": [
    {
     "data": {
      "text/plain": [
       "0.8482849604221636"
      ]
     },
     "execution_count": 233,
     "metadata": {},
     "output_type": "execute_result"
    }
   ],
   "source": [
    "accuracy_score(y_test,y_pred_grid)"
   ]
  },
  {
   "cell_type": "code",
   "execution_count": 234,
   "id": "20ab7162",
   "metadata": {},
   "outputs": [
    {
     "name": "stdout",
     "output_type": "stream",
     "text": [
      "{'n_estimators': 250, 'max_depth': None}\n"
     ]
    }
   ],
   "source": [
    "cv1=RandomizedSearchCV(RandomForestClassifier(),parameters,scoring='f1')\n",
    "cv1.fit(X_train,y_train)\n",
    "print(cv1.best_params_)"
   ]
  },
  {
   "cell_type": "code",
   "execution_count": 235,
   "id": "11efb1e5",
   "metadata": {},
   "outputs": [],
   "source": [
    "model_random=RandomForestClassifier(n_estimators=250,max_depth=None)\n",
    "model2=model_random.fit(X_train,y_train)\n",
    "y_pred_random=model2.predict(X_test)"
   ]
  },
  {
   "cell_type": "code",
   "execution_count": 236,
   "id": "0cfcd013",
   "metadata": {},
   "outputs": [
    {
     "name": "stdout",
     "output_type": "stream",
     "text": [
      "classification_report :\n",
      "               precision    recall  f1-score   support\n",
      "\n",
      "           0       0.87      0.95      0.91     15300\n",
      "           1       0.74      0.50      0.60      4408\n",
      "\n",
      "    accuracy                           0.85     19708\n",
      "   macro avg       0.80      0.72      0.75     19708\n",
      "weighted avg       0.84      0.85      0.84     19708\n",
      "\n"
     ]
    }
   ],
   "source": [
    "print('classification_report :\\n',classification_report(y_test,y_pred_random))"
   ]
  },
  {
   "cell_type": "code",
   "execution_count": 237,
   "id": "7fc3977b",
   "metadata": {},
   "outputs": [
    {
     "data": {
      "text/plain": [
       "0.8480819971585143"
      ]
     },
     "execution_count": 237,
     "metadata": {},
     "output_type": "execute_result"
    }
   ],
   "source": [
    "accuracy_score(y_test,y_pred_random)"
   ]
  }
 ],
 "metadata": {
  "kernelspec": {
   "display_name": "Python 3 (ipykernel)",
   "language": "python",
   "name": "python3"
  },
  "language_info": {
   "codemirror_mode": {
    "name": "ipython",
    "version": 3
   },
   "file_extension": ".py",
   "mimetype": "text/x-python",
   "name": "python",
   "nbconvert_exporter": "python",
   "pygments_lexer": "ipython3",
   "version": "3.9.12"
  }
 },
 "nbformat": 4,
 "nbformat_minor": 5
}
