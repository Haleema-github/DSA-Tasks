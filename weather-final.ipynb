{
 "cells": [
  {
   "cell_type": "code",
   "execution_count": 1,
   "id": "8e0b8d82",
   "metadata": {},
   "outputs": [],
   "source": [
    "# Importing libraries\n",
    "import numpy as np\n",
    "import pandas as pd\n",
    "import matplotlib.pyplot as plt\n",
    "import seaborn as sns"
   ]
  },
  {
   "cell_type": "code",
   "execution_count": 2,
   "id": "d8d2e527",
   "metadata": {},
   "outputs": [
    {
     "data": {
      "text/html": [
       "<div>\n",
       "<style scoped>\n",
       "    .dataframe tbody tr th:only-of-type {\n",
       "        vertical-align: middle;\n",
       "    }\n",
       "\n",
       "    .dataframe tbody tr th {\n",
       "        vertical-align: top;\n",
       "    }\n",
       "\n",
       "    .dataframe thead th {\n",
       "        text-align: right;\n",
       "    }\n",
       "</style>\n",
       "<table border=\"1\" class=\"dataframe\">\n",
       "  <thead>\n",
       "    <tr style=\"text-align: right;\">\n",
       "      <th></th>\n",
       "      <th>row ID</th>\n",
       "      <th>Location</th>\n",
       "      <th>MinTemp</th>\n",
       "      <th>MaxTemp</th>\n",
       "      <th>Rainfall</th>\n",
       "      <th>Evaporation</th>\n",
       "      <th>Sunshine</th>\n",
       "      <th>WindGustDir</th>\n",
       "      <th>WindGustSpeed</th>\n",
       "      <th>WindDir9am</th>\n",
       "      <th>...</th>\n",
       "      <th>Humidity9am</th>\n",
       "      <th>Humidity3pm</th>\n",
       "      <th>Pressure9am</th>\n",
       "      <th>Pressure3pm</th>\n",
       "      <th>Cloud9am</th>\n",
       "      <th>Cloud3pm</th>\n",
       "      <th>Temp9am</th>\n",
       "      <th>Temp3pm</th>\n",
       "      <th>RainToday</th>\n",
       "      <th>RainTomorrow</th>\n",
       "    </tr>\n",
       "  </thead>\n",
       "  <tbody>\n",
       "    <tr>\n",
       "      <th>0</th>\n",
       "      <td>Row0</td>\n",
       "      <td>Albury</td>\n",
       "      <td>13.4</td>\n",
       "      <td>22.9</td>\n",
       "      <td>0.6</td>\n",
       "      <td>NaN</td>\n",
       "      <td>NaN</td>\n",
       "      <td>W</td>\n",
       "      <td>44.0</td>\n",
       "      <td>W</td>\n",
       "      <td>...</td>\n",
       "      <td>71.0</td>\n",
       "      <td>22.0</td>\n",
       "      <td>1007.7</td>\n",
       "      <td>1007.1</td>\n",
       "      <td>8.0</td>\n",
       "      <td>NaN</td>\n",
       "      <td>16.9</td>\n",
       "      <td>21.8</td>\n",
       "      <td>No</td>\n",
       "      <td>0</td>\n",
       "    </tr>\n",
       "    <tr>\n",
       "      <th>1</th>\n",
       "      <td>Row1</td>\n",
       "      <td>Albury</td>\n",
       "      <td>7.4</td>\n",
       "      <td>25.1</td>\n",
       "      <td>0.0</td>\n",
       "      <td>NaN</td>\n",
       "      <td>NaN</td>\n",
       "      <td>WNW</td>\n",
       "      <td>44.0</td>\n",
       "      <td>NNW</td>\n",
       "      <td>...</td>\n",
       "      <td>44.0</td>\n",
       "      <td>25.0</td>\n",
       "      <td>1010.6</td>\n",
       "      <td>1007.8</td>\n",
       "      <td>NaN</td>\n",
       "      <td>NaN</td>\n",
       "      <td>17.2</td>\n",
       "      <td>24.3</td>\n",
       "      <td>No</td>\n",
       "      <td>0</td>\n",
       "    </tr>\n",
       "    <tr>\n",
       "      <th>2</th>\n",
       "      <td>Row2</td>\n",
       "      <td>Albury</td>\n",
       "      <td>17.5</td>\n",
       "      <td>32.3</td>\n",
       "      <td>1.0</td>\n",
       "      <td>NaN</td>\n",
       "      <td>NaN</td>\n",
       "      <td>W</td>\n",
       "      <td>41.0</td>\n",
       "      <td>ENE</td>\n",
       "      <td>...</td>\n",
       "      <td>82.0</td>\n",
       "      <td>33.0</td>\n",
       "      <td>1010.8</td>\n",
       "      <td>1006.0</td>\n",
       "      <td>7.0</td>\n",
       "      <td>8.0</td>\n",
       "      <td>17.8</td>\n",
       "      <td>29.7</td>\n",
       "      <td>No</td>\n",
       "      <td>0</td>\n",
       "    </tr>\n",
       "    <tr>\n",
       "      <th>3</th>\n",
       "      <td>Row3</td>\n",
       "      <td>Albury</td>\n",
       "      <td>14.6</td>\n",
       "      <td>29.7</td>\n",
       "      <td>0.2</td>\n",
       "      <td>NaN</td>\n",
       "      <td>NaN</td>\n",
       "      <td>WNW</td>\n",
       "      <td>56.0</td>\n",
       "      <td>W</td>\n",
       "      <td>...</td>\n",
       "      <td>55.0</td>\n",
       "      <td>23.0</td>\n",
       "      <td>1009.2</td>\n",
       "      <td>1005.4</td>\n",
       "      <td>NaN</td>\n",
       "      <td>NaN</td>\n",
       "      <td>20.6</td>\n",
       "      <td>28.9</td>\n",
       "      <td>No</td>\n",
       "      <td>0</td>\n",
       "    </tr>\n",
       "    <tr>\n",
       "      <th>4</th>\n",
       "      <td>Row4</td>\n",
       "      <td>Albury</td>\n",
       "      <td>7.7</td>\n",
       "      <td>26.7</td>\n",
       "      <td>0.0</td>\n",
       "      <td>NaN</td>\n",
       "      <td>NaN</td>\n",
       "      <td>W</td>\n",
       "      <td>35.0</td>\n",
       "      <td>SSE</td>\n",
       "      <td>...</td>\n",
       "      <td>48.0</td>\n",
       "      <td>19.0</td>\n",
       "      <td>1013.4</td>\n",
       "      <td>1010.1</td>\n",
       "      <td>NaN</td>\n",
       "      <td>NaN</td>\n",
       "      <td>16.3</td>\n",
       "      <td>25.5</td>\n",
       "      <td>No</td>\n",
       "      <td>0</td>\n",
       "    </tr>\n",
       "    <tr>\n",
       "      <th>...</th>\n",
       "      <td>...</td>\n",
       "      <td>...</td>\n",
       "      <td>...</td>\n",
       "      <td>...</td>\n",
       "      <td>...</td>\n",
       "      <td>...</td>\n",
       "      <td>...</td>\n",
       "      <td>...</td>\n",
       "      <td>...</td>\n",
       "      <td>...</td>\n",
       "      <td>...</td>\n",
       "      <td>...</td>\n",
       "      <td>...</td>\n",
       "      <td>...</td>\n",
       "      <td>...</td>\n",
       "      <td>...</td>\n",
       "      <td>...</td>\n",
       "      <td>...</td>\n",
       "      <td>...</td>\n",
       "      <td>...</td>\n",
       "      <td>...</td>\n",
       "    </tr>\n",
       "    <tr>\n",
       "      <th>99511</th>\n",
       "      <td>Row101816</td>\n",
       "      <td>Uluru</td>\n",
       "      <td>8.0</td>\n",
       "      <td>20.7</td>\n",
       "      <td>0.0</td>\n",
       "      <td>NaN</td>\n",
       "      <td>NaN</td>\n",
       "      <td>ESE</td>\n",
       "      <td>41.0</td>\n",
       "      <td>SE</td>\n",
       "      <td>...</td>\n",
       "      <td>56.0</td>\n",
       "      <td>32.0</td>\n",
       "      <td>1028.1</td>\n",
       "      <td>1024.3</td>\n",
       "      <td>NaN</td>\n",
       "      <td>7.0</td>\n",
       "      <td>11.6</td>\n",
       "      <td>20.0</td>\n",
       "      <td>No</td>\n",
       "      <td>0</td>\n",
       "    </tr>\n",
       "    <tr>\n",
       "      <th>99512</th>\n",
       "      <td>Row101817</td>\n",
       "      <td>Uluru</td>\n",
       "      <td>3.5</td>\n",
       "      <td>21.8</td>\n",
       "      <td>0.0</td>\n",
       "      <td>NaN</td>\n",
       "      <td>NaN</td>\n",
       "      <td>E</td>\n",
       "      <td>31.0</td>\n",
       "      <td>ESE</td>\n",
       "      <td>...</td>\n",
       "      <td>59.0</td>\n",
       "      <td>27.0</td>\n",
       "      <td>1024.7</td>\n",
       "      <td>1021.2</td>\n",
       "      <td>NaN</td>\n",
       "      <td>NaN</td>\n",
       "      <td>9.4</td>\n",
       "      <td>20.9</td>\n",
       "      <td>No</td>\n",
       "      <td>0</td>\n",
       "    </tr>\n",
       "    <tr>\n",
       "      <th>99513</th>\n",
       "      <td>Row101818</td>\n",
       "      <td>Uluru</td>\n",
       "      <td>2.8</td>\n",
       "      <td>23.4</td>\n",
       "      <td>0.0</td>\n",
       "      <td>NaN</td>\n",
       "      <td>NaN</td>\n",
       "      <td>E</td>\n",
       "      <td>31.0</td>\n",
       "      <td>SE</td>\n",
       "      <td>...</td>\n",
       "      <td>51.0</td>\n",
       "      <td>24.0</td>\n",
       "      <td>1024.6</td>\n",
       "      <td>1020.3</td>\n",
       "      <td>NaN</td>\n",
       "      <td>NaN</td>\n",
       "      <td>10.1</td>\n",
       "      <td>22.4</td>\n",
       "      <td>No</td>\n",
       "      <td>0</td>\n",
       "    </tr>\n",
       "    <tr>\n",
       "      <th>99514</th>\n",
       "      <td>Row101819</td>\n",
       "      <td>Uluru</td>\n",
       "      <td>3.6</td>\n",
       "      <td>25.3</td>\n",
       "      <td>0.0</td>\n",
       "      <td>NaN</td>\n",
       "      <td>NaN</td>\n",
       "      <td>NNW</td>\n",
       "      <td>22.0</td>\n",
       "      <td>SE</td>\n",
       "      <td>...</td>\n",
       "      <td>56.0</td>\n",
       "      <td>21.0</td>\n",
       "      <td>1023.5</td>\n",
       "      <td>1019.1</td>\n",
       "      <td>NaN</td>\n",
       "      <td>NaN</td>\n",
       "      <td>10.9</td>\n",
       "      <td>24.5</td>\n",
       "      <td>No</td>\n",
       "      <td>0</td>\n",
       "    </tr>\n",
       "    <tr>\n",
       "      <th>99515</th>\n",
       "      <td>Row101820</td>\n",
       "      <td>Uluru</td>\n",
       "      <td>5.4</td>\n",
       "      <td>26.9</td>\n",
       "      <td>0.0</td>\n",
       "      <td>NaN</td>\n",
       "      <td>NaN</td>\n",
       "      <td>N</td>\n",
       "      <td>37.0</td>\n",
       "      <td>SE</td>\n",
       "      <td>...</td>\n",
       "      <td>53.0</td>\n",
       "      <td>24.0</td>\n",
       "      <td>1021.0</td>\n",
       "      <td>1016.8</td>\n",
       "      <td>NaN</td>\n",
       "      <td>NaN</td>\n",
       "      <td>12.5</td>\n",
       "      <td>26.1</td>\n",
       "      <td>No</td>\n",
       "      <td>0</td>\n",
       "    </tr>\n",
       "  </tbody>\n",
       "</table>\n",
       "<p>99516 rows × 23 columns</p>\n",
       "</div>"
      ],
      "text/plain": [
       "          row ID Location  MinTemp  MaxTemp  Rainfall  Evaporation  Sunshine  \\\n",
       "0           Row0   Albury     13.4     22.9       0.6          NaN       NaN   \n",
       "1           Row1   Albury      7.4     25.1       0.0          NaN       NaN   \n",
       "2           Row2   Albury     17.5     32.3       1.0          NaN       NaN   \n",
       "3           Row3   Albury     14.6     29.7       0.2          NaN       NaN   \n",
       "4           Row4   Albury      7.7     26.7       0.0          NaN       NaN   \n",
       "...          ...      ...      ...      ...       ...          ...       ...   \n",
       "99511  Row101816    Uluru      8.0     20.7       0.0          NaN       NaN   \n",
       "99512  Row101817    Uluru      3.5     21.8       0.0          NaN       NaN   \n",
       "99513  Row101818    Uluru      2.8     23.4       0.0          NaN       NaN   \n",
       "99514  Row101819    Uluru      3.6     25.3       0.0          NaN       NaN   \n",
       "99515  Row101820    Uluru      5.4     26.9       0.0          NaN       NaN   \n",
       "\n",
       "      WindGustDir  WindGustSpeed WindDir9am  ... Humidity9am  Humidity3pm  \\\n",
       "0               W           44.0          W  ...        71.0         22.0   \n",
       "1             WNW           44.0        NNW  ...        44.0         25.0   \n",
       "2               W           41.0        ENE  ...        82.0         33.0   \n",
       "3             WNW           56.0          W  ...        55.0         23.0   \n",
       "4               W           35.0        SSE  ...        48.0         19.0   \n",
       "...           ...            ...        ...  ...         ...          ...   \n",
       "99511         ESE           41.0         SE  ...        56.0         32.0   \n",
       "99512           E           31.0        ESE  ...        59.0         27.0   \n",
       "99513           E           31.0         SE  ...        51.0         24.0   \n",
       "99514         NNW           22.0         SE  ...        56.0         21.0   \n",
       "99515           N           37.0         SE  ...        53.0         24.0   \n",
       "\n",
       "       Pressure9am  Pressure3pm  Cloud9am  Cloud3pm  Temp9am  Temp3pm  \\\n",
       "0           1007.7       1007.1       8.0       NaN     16.9     21.8   \n",
       "1           1010.6       1007.8       NaN       NaN     17.2     24.3   \n",
       "2           1010.8       1006.0       7.0       8.0     17.8     29.7   \n",
       "3           1009.2       1005.4       NaN       NaN     20.6     28.9   \n",
       "4           1013.4       1010.1       NaN       NaN     16.3     25.5   \n",
       "...            ...          ...       ...       ...      ...      ...   \n",
       "99511       1028.1       1024.3       NaN       7.0     11.6     20.0   \n",
       "99512       1024.7       1021.2       NaN       NaN      9.4     20.9   \n",
       "99513       1024.6       1020.3       NaN       NaN     10.1     22.4   \n",
       "99514       1023.5       1019.1       NaN       NaN     10.9     24.5   \n",
       "99515       1021.0       1016.8       NaN       NaN     12.5     26.1   \n",
       "\n",
       "       RainToday  RainTomorrow  \n",
       "0             No             0  \n",
       "1             No             0  \n",
       "2             No             0  \n",
       "3             No             0  \n",
       "4             No             0  \n",
       "...          ...           ...  \n",
       "99511         No             0  \n",
       "99512         No             0  \n",
       "99513         No             0  \n",
       "99514         No             0  \n",
       "99515         No             0  \n",
       "\n",
       "[99516 rows x 23 columns]"
      ]
     },
     "execution_count": 2,
     "metadata": {},
     "output_type": "execute_result"
    }
   ],
   "source": [
    "# Reading data into Python environment\n",
    "df=pd.read_csv('Weather_Data.csv')\n",
    "df"
   ]
  },
  {
   "cell_type": "code",
   "execution_count": 3,
   "id": "0a905baa",
   "metadata": {
    "scrolled": true
   },
   "outputs": [
    {
     "data": {
      "text/plain": [
       "<AxesSubplot:>"
      ]
     },
     "execution_count": 3,
     "metadata": {},
     "output_type": "execute_result"
    },
    {
     "data": {
      "image/png": "[encoded data removed]",
      "text/plain": [
       "<Figure size 1296x576 with 2 Axes>"
      ]
     },
     "metadata": {
      "needs_background": "light"
     },
     "output_type": "display_data"
    }
   ],
   "source": [
    "# Correlation Matrix\n",
    "corr_matrix=df.corr()\n",
    "plt.subplots(figsize=(18,8))\n",
    "sns.heatmap(corr_matrix,annot=True,cmap='winter')"
   ]
  },
  {
   "cell_type": "markdown",
   "id": "56bd44ec",
   "metadata": {},
   "source": [
    "Highly positive correlated : MinTemp and MaxTemp , MinTemp and Temp9am , MinTemp and Temp3pm MaxTemp and Temp9am , MaxTemp and Temp3pm , Pressure9am and Pressure 3pm, Temp9am and Temp 3pm\n",
    "\n",
    "Negatively correlated : Sunshine and Cloud9am , Sunshine and Cloud3pm\n",
    "\n",
    "The columns MaxTemp,Evaporation,Sunshine,Pressure9am,Pressure3pm,Temp9am and Temp3pm have less negative correlation with the Target variable,'RainTomorrow'."
   ]
  },
  {
   "cell_type": "code",
   "execution_count": 4,
   "id": "a49308f0",
   "metadata": {},
   "outputs": [],
   "source": [
    "# Dropping the unnecessary features\n",
    "df1=df.drop(['row ID','Rainfall','MinTemp','Evaporation','Sunshine','WindSpeed9am','WindSpeed3pm','Humidity9am','Pressure9am','Cloud9am','Cloud3pm','Temp9am','Temp3pm'],axis=1)"
   ]
  },
  {
   "cell_type": "code",
   "execution_count": 5,
   "id": "93d58bdc",
   "metadata": {},
   "outputs": [
    {
     "name": "stdout",
     "output_type": "stream",
     "text": [
      "<class 'pandas.core.frame.DataFrame'>\n",
      "RangeIndex: 99516 entries, 0 to 99515\n",
      "Data columns (total 10 columns):\n",
      " #   Column         Non-Null Count  Dtype  \n",
      "---  ------         --------------  -----  \n",
      " 0   Location       99516 non-null  object \n",
      " 1   MaxTemp        99286 non-null  float64\n",
      " 2   WindGustDir    92995 non-null  object \n",
      " 3   WindGustSpeed  93036 non-null  float64\n",
      " 4   WindDir9am     92510 non-null  object \n",
      " 5   WindDir3pm     96868 non-null  object \n",
      " 6   Humidity3pm    97010 non-null  float64\n",
      " 7   Pressure3pm    89780 non-null  float64\n",
      " 8   RainToday      98537 non-null  object \n",
      " 9   RainTomorrow   99516 non-null  int64  \n",
      "dtypes: float64(4), int64(1), object(5)\n",
      "memory usage: 7.6+ MB\n"
     ]
    }
   ],
   "source": [
    "df1.info()"
   ]
  },
  {
   "cell_type": "code",
   "execution_count": 6,
   "id": "fa584fdd",
   "metadata": {},
   "outputs": [
    {
     "data": {
      "text/plain": [
       "Location            0\n",
       "MaxTemp           230\n",
       "WindGustDir      6521\n",
       "WindGustSpeed    6480\n",
       "WindDir9am       7006\n",
       "WindDir3pm       2648\n",
       "Humidity3pm      2506\n",
       "Pressure3pm      9736\n",
       "RainToday         979\n",
       "RainTomorrow        0\n",
       "dtype: int64"
      ]
     },
     "execution_count": 6,
     "metadata": {},
     "output_type": "execute_result"
    }
   ],
   "source": [
    "df1.isna().sum()"
   ]
  },
  {
   "cell_type": "code",
   "execution_count": 7,
   "id": "5ac414f6",
   "metadata": {},
   "outputs": [
    {
     "data": {
      "text/plain": [
       "<AxesSubplot:>"
      ]
     },
     "execution_count": 7,
     "metadata": {},
     "output_type": "execute_result"
    },
    {
     "data": {
      "image/png": "[encoded data removed]",
      "text/plain": [
       "<Figure size 1080x432 with 1 Axes>"
      ]
     },
     "metadata": {
      "needs_background": "light"
     },
     "output_type": "display_data"
    }
   ],
   "source": [
    "df1.boxplot(column=['MaxTemp','WindGustSpeed','Humidity3pm','Pressure3pm'],figsize=(15,6))"
   ]
  },
  {
   "cell_type": "code",
   "execution_count": 8,
   "id": "4e148533",
   "metadata": {},
   "outputs": [],
   "source": [
    "# Filling the missing values with median\n",
    "df1['MaxTemp']=df1['MaxTemp'].fillna(df1['MaxTemp'].median())\n",
    "df1['WindGustSpeed']=df1['WindGustSpeed'].fillna(df1['WindGustSpeed'].median())\n",
    "df1['Pressure3pm']=df1['Pressure3pm'].fillna(df1['Pressure3pm'].median())"
   ]
  },
  {
   "cell_type": "code",
   "execution_count": 9,
   "id": "948682c0",
   "metadata": {},
   "outputs": [],
   "source": [
    "# Filling missing values in Humidity3pm' with mean\n",
    "df1['Humidity3pm']=df1['Humidity3pm'].fillna(df1['Humidity3pm'].mean())"
   ]
  },
  {
   "cell_type": "code",
   "execution_count": 10,
   "id": "02e7a837",
   "metadata": {},
   "outputs": [
    {
     "data": {
      "text/plain": [
       "Location            0\n",
       "MaxTemp             0\n",
       "WindGustDir      6521\n",
       "WindGustSpeed       0\n",
       "WindDir9am       7006\n",
       "WindDir3pm       2648\n",
       "Humidity3pm         0\n",
       "Pressure3pm         0\n",
       "RainToday         979\n",
       "RainTomorrow        0\n",
       "dtype: int64"
      ]
     },
     "execution_count": 10,
     "metadata": {},
     "output_type": "execute_result"
    }
   ],
   "source": [
    "df1.isna().sum()"
   ]
  },
  {
   "cell_type": "code",
   "execution_count": 11,
   "id": "8c4f9eee",
   "metadata": {},
   "outputs": [
    {
     "data": {
      "text/plain": [
       "0    W\n",
       "Name: WindGustDir, dtype: object"
      ]
     },
     "execution_count": 11,
     "metadata": {},
     "output_type": "execute_result"
    }
   ],
   "source": [
    "df1['WindGustDir'].mode()"
   ]
  },
  {
   "cell_type": "code",
   "execution_count": 12,
   "id": "b11108c1",
   "metadata": {},
   "outputs": [
    {
     "data": {
      "text/plain": [
       "0    SE\n",
       "Name: WindDir3pm, dtype: object"
      ]
     },
     "execution_count": 12,
     "metadata": {},
     "output_type": "execute_result"
    }
   ],
   "source": [
    "df1['WindDir3pm'].mode()"
   ]
  },
  {
   "cell_type": "code",
   "execution_count": 13,
   "id": "027fcc42",
   "metadata": {},
   "outputs": [
    {
     "data": {
      "text/plain": [
       "0    N\n",
       "Name: WindDir9am, dtype: object"
      ]
     },
     "execution_count": 13,
     "metadata": {},
     "output_type": "execute_result"
    }
   ],
   "source": [
    "df1['WindDir9am'].mode()"
   ]
  },
  {
   "cell_type": "code",
   "execution_count": 14,
   "id": "d7fa9924",
   "metadata": {},
   "outputs": [],
   "source": [
    "# Filling missing values with mode\n",
    "df1['WindGustDir']=df1['WindGustDir'].fillna(df1['WindGustDir'].mode()[0])\n",
    "df1['WindDir3pm']=df1['WindDir3pm'].fillna(df1['WindDir3pm'].mode()[0])\n",
    "df1['WindDir9am']=df1['WindDir9am'].fillna(df1['WindDir9am'].mode()[0])"
   ]
  },
  {
   "cell_type": "code",
   "execution_count": 15,
   "id": "2dea846e",
   "metadata": {},
   "outputs": [],
   "source": [
    "# When we fill the missing values in RainToday with mode, this might mislead our model.Hence\n",
    "# dropping these rows\n",
    "df1=df1.dropna(subset=['RainToday'])"
   ]
  },
  {
   "cell_type": "code",
   "execution_count": 16,
   "id": "8530b6a6",
   "metadata": {},
   "outputs": [],
   "source": [
    "df1=df1.reset_index(drop=True)"
   ]
  },
  {
   "cell_type": "code",
   "execution_count": 17,
   "id": "651224d5",
   "metadata": {},
   "outputs": [
    {
     "data": {
      "text/plain": [
       "Location         0\n",
       "MaxTemp          0\n",
       "WindGustDir      0\n",
       "WindGustSpeed    0\n",
       "WindDir9am       0\n",
       "WindDir3pm       0\n",
       "Humidity3pm      0\n",
       "Pressure3pm      0\n",
       "RainToday        0\n",
       "RainTomorrow     0\n",
       "dtype: int64"
      ]
     },
     "execution_count": 17,
     "metadata": {},
     "output_type": "execute_result"
    }
   ],
   "source": [
    "df1.isna().sum()"
   ]
  },
  {
   "cell_type": "code",
   "execution_count": 18,
   "id": "3ea834d0",
   "metadata": {},
   "outputs": [
    {
     "data": {
      "text/html": [
       "<div>\n",
       "<style scoped>\n",
       "    .dataframe tbody tr th:only-of-type {\n",
       "        vertical-align: middle;\n",
       "    }\n",
       "\n",
       "    .dataframe tbody tr th {\n",
       "        vertical-align: top;\n",
       "    }\n",
       "\n",
       "    .dataframe thead th {\n",
       "        text-align: right;\n",
       "    }\n",
       "</style>\n",
       "<table border=\"1\" class=\"dataframe\">\n",
       "  <thead>\n",
       "    <tr style=\"text-align: right;\">\n",
       "      <th></th>\n",
       "      <th>Location</th>\n",
       "      <th>MaxTemp</th>\n",
       "      <th>WindGustDir</th>\n",
       "      <th>WindGustSpeed</th>\n",
       "      <th>WindDir9am</th>\n",
       "      <th>WindDir3pm</th>\n",
       "      <th>Humidity3pm</th>\n",
       "      <th>Pressure3pm</th>\n",
       "      <th>RainToday</th>\n",
       "      <th>RainTomorrow</th>\n",
       "    </tr>\n",
       "  </thead>\n",
       "  <tbody>\n",
       "    <tr>\n",
       "      <th>72569</th>\n",
       "      <td>Woomera</td>\n",
       "      <td>40.0</td>\n",
       "      <td>NNW</td>\n",
       "      <td>61.0</td>\n",
       "      <td>N</td>\n",
       "      <td>N</td>\n",
       "      <td>0.0</td>\n",
       "      <td>1007.6</td>\n",
       "      <td>No</td>\n",
       "      <td>0</td>\n",
       "    </tr>\n",
       "    <tr>\n",
       "      <th>72843</th>\n",
       "      <td>Woomera</td>\n",
       "      <td>41.6</td>\n",
       "      <td>SSW</td>\n",
       "      <td>69.0</td>\n",
       "      <td>NNE</td>\n",
       "      <td>NNW</td>\n",
       "      <td>0.0</td>\n",
       "      <td>1006.5</td>\n",
       "      <td>No</td>\n",
       "      <td>0</td>\n",
       "    </tr>\n",
       "    <tr>\n",
       "      <th>73060</th>\n",
       "      <td>Woomera</td>\n",
       "      <td>37.1</td>\n",
       "      <td>NNW</td>\n",
       "      <td>70.0</td>\n",
       "      <td>N</td>\n",
       "      <td>NNW</td>\n",
       "      <td>0.0</td>\n",
       "      <td>1016.6</td>\n",
       "      <td>No</td>\n",
       "      <td>0</td>\n",
       "    </tr>\n",
       "    <tr>\n",
       "      <th>73068</th>\n",
       "      <td>Woomera</td>\n",
       "      <td>38.1</td>\n",
       "      <td>N</td>\n",
       "      <td>50.0</td>\n",
       "      <td>N</td>\n",
       "      <td>NNW</td>\n",
       "      <td>0.0</td>\n",
       "      <td>1013.5</td>\n",
       "      <td>No</td>\n",
       "      <td>0</td>\n",
       "    </tr>\n",
       "  </tbody>\n",
       "</table>\n",
       "</div>"
      ],
      "text/plain": [
       "      Location  MaxTemp WindGustDir  WindGustSpeed WindDir9am WindDir3pm  \\\n",
       "72569  Woomera     40.0         NNW           61.0          N          N   \n",
       "72843  Woomera     41.6         SSW           69.0        NNE        NNW   \n",
       "73060  Woomera     37.1         NNW           70.0          N        NNW   \n",
       "73068  Woomera     38.1           N           50.0          N        NNW   \n",
       "\n",
       "       Humidity3pm  Pressure3pm RainToday  RainTomorrow  \n",
       "72569          0.0       1007.6        No             0  \n",
       "72843          0.0       1006.5        No             0  \n",
       "73060          0.0       1016.6        No             0  \n",
       "73068          0.0       1013.5        No             0  "
      ]
     },
     "execution_count": 18,
     "metadata": {},
     "output_type": "execute_result"
    }
   ],
   "source": [
    "# In the column Humidity3pm, there is 0% Humidity. That is impossible\n",
    "df1[df1['Humidity3pm']==0]"
   ]
  },
  {
   "cell_type": "code",
   "execution_count": 19,
   "id": "357c37fb",
   "metadata": {},
   "outputs": [],
   "source": [
    "# Replacing 0% Humidity with 1%\n",
    "df1['Humidity3pm']=df1['Humidity3pm'].replace(0,1)"
   ]
  },
  {
   "cell_type": "code",
   "execution_count": null,
   "id": "39962ad6",
   "metadata": {},
   "outputs": [],
   "source": [
    "# Handling outliers"
   ]
  },
  {
   "cell_type": "code",
   "execution_count": 20,
   "id": "d6a6b0b4",
   "metadata": {},
   "outputs": [],
   "source": [
    "# Finding interquartile range,detecting the outliers and handling them\n",
    "features_with_outliers=['MaxTemp','WindGustSpeed','Pressure3pm']\n",
    "for feature in features_with_outliers:\n",
    "    Q1=np.percentile(df1[feature],25)\n",
    "    Q3=np.percentile(df1[feature],75)\n",
    "    IQR=Q3-Q1\n",
    "    low_lim=Q1-1.5*IQR\n",
    "    up_lim=Q3+1.5*IQR\n",
    "    df1[feature]=np.where(df1[feature]<low_lim,low_lim,np.where(df1[feature]>up_lim,up_lim,df1[feature]))"
   ]
  },
  {
   "cell_type": "code",
   "execution_count": 21,
   "id": "a2a81764",
   "metadata": {},
   "outputs": [
    {
     "data": {
      "text/plain": [
       "<AxesSubplot:>"
      ]
     },
     "execution_count": 21,
     "metadata": {},
     "output_type": "execute_result"
    },
    {
     "data": {
      "image/png": "[encoded data removed]",
      "text/plain": [
       "<Figure size 1080x432 with 1 Axes>"
      ]
     },
     "metadata": {
      "needs_background": "light"
     },
     "output_type": "display_data"
    }
   ],
   "source": [
    "df1.boxplot(column=['MaxTemp','WindGustSpeed','Pressure3pm'],figsize=(15,6))"
   ]
  },
  {
   "cell_type": "code",
   "execution_count": 22,
   "id": "a19b8e2d",
   "metadata": {},
   "outputs": [],
   "source": [
    "# Label Encoding Location,WindDir3pm,WindGustDir and RainToday\n",
    "from sklearn.preprocessing import LabelEncoder\n",
    "lab_enc=LabelEncoder()\n",
    "df1['Location']=lab_enc.fit_transform(df1['Location'])\n",
    "df1['WindDir3pm']=lab_enc.fit_transform(df1['WindDir3pm'])\n",
    "df1['WindDir9am']=lab_enc.fit_transform(df1['WindDir9am'])\n",
    "df1['WindGustDir']=lab_enc.fit_transform(df1['WindGustDir'])\n",
    "df1['RainToday']=lab_enc.fit_transform(df1['RainToday'])"
   ]
  },
  {
   "cell_type": "code",
   "execution_count": 23,
   "id": "7bff86c8",
   "metadata": {},
   "outputs": [
    {
     "data": {
      "text/html": [
       "<div>\n",
       "<style scoped>\n",
       "    .dataframe tbody tr th:only-of-type {\n",
       "        vertical-align: middle;\n",
       "    }\n",
       "\n",
       "    .dataframe tbody tr th {\n",
       "        vertical-align: top;\n",
       "    }\n",
       "\n",
       "    .dataframe thead th {\n",
       "        text-align: right;\n",
       "    }\n",
       "</style>\n",
       "<table border=\"1\" class=\"dataframe\">\n",
       "  <thead>\n",
       "    <tr style=\"text-align: right;\">\n",
       "      <th></th>\n",
       "      <th>Location</th>\n",
       "      <th>MaxTemp</th>\n",
       "      <th>WindGustDir</th>\n",
       "      <th>WindGustSpeed</th>\n",
       "      <th>WindDir9am</th>\n",
       "      <th>WindDir3pm</th>\n",
       "      <th>Humidity3pm</th>\n",
       "      <th>Pressure3pm</th>\n",
       "      <th>RainToday</th>\n",
       "      <th>RainTomorrow</th>\n",
       "    </tr>\n",
       "  </thead>\n",
       "  <tbody>\n",
       "    <tr>\n",
       "      <th>0</th>\n",
       "      <td>2</td>\n",
       "      <td>22.9</td>\n",
       "      <td>13</td>\n",
       "      <td>44.0</td>\n",
       "      <td>13</td>\n",
       "      <td>14</td>\n",
       "      <td>22.0</td>\n",
       "      <td>1007.1</td>\n",
       "      <td>0</td>\n",
       "      <td>0</td>\n",
       "    </tr>\n",
       "    <tr>\n",
       "      <th>1</th>\n",
       "      <td>2</td>\n",
       "      <td>25.1</td>\n",
       "      <td>14</td>\n",
       "      <td>44.0</td>\n",
       "      <td>6</td>\n",
       "      <td>15</td>\n",
       "      <td>25.0</td>\n",
       "      <td>1007.8</td>\n",
       "      <td>0</td>\n",
       "      <td>0</td>\n",
       "    </tr>\n",
       "    <tr>\n",
       "      <th>2</th>\n",
       "      <td>2</td>\n",
       "      <td>32.3</td>\n",
       "      <td>13</td>\n",
       "      <td>41.0</td>\n",
       "      <td>1</td>\n",
       "      <td>7</td>\n",
       "      <td>33.0</td>\n",
       "      <td>1006.0</td>\n",
       "      <td>0</td>\n",
       "      <td>0</td>\n",
       "    </tr>\n",
       "    <tr>\n",
       "      <th>3</th>\n",
       "      <td>2</td>\n",
       "      <td>29.7</td>\n",
       "      <td>14</td>\n",
       "      <td>56.0</td>\n",
       "      <td>13</td>\n",
       "      <td>13</td>\n",
       "      <td>23.0</td>\n",
       "      <td>1005.4</td>\n",
       "      <td>0</td>\n",
       "      <td>0</td>\n",
       "    </tr>\n",
       "    <tr>\n",
       "      <th>4</th>\n",
       "      <td>2</td>\n",
       "      <td>26.7</td>\n",
       "      <td>13</td>\n",
       "      <td>35.0</td>\n",
       "      <td>10</td>\n",
       "      <td>13</td>\n",
       "      <td>19.0</td>\n",
       "      <td>1010.1</td>\n",
       "      <td>0</td>\n",
       "      <td>0</td>\n",
       "    </tr>\n",
       "    <tr>\n",
       "      <th>...</th>\n",
       "      <td>...</td>\n",
       "      <td>...</td>\n",
       "      <td>...</td>\n",
       "      <td>...</td>\n",
       "      <td>...</td>\n",
       "      <td>...</td>\n",
       "      <td>...</td>\n",
       "      <td>...</td>\n",
       "      <td>...</td>\n",
       "      <td>...</td>\n",
       "    </tr>\n",
       "    <tr>\n",
       "      <th>98532</th>\n",
       "      <td>41</td>\n",
       "      <td>20.7</td>\n",
       "      <td>2</td>\n",
       "      <td>41.0</td>\n",
       "      <td>9</td>\n",
       "      <td>0</td>\n",
       "      <td>32.0</td>\n",
       "      <td>1024.3</td>\n",
       "      <td>0</td>\n",
       "      <td>0</td>\n",
       "    </tr>\n",
       "    <tr>\n",
       "      <th>98533</th>\n",
       "      <td>41</td>\n",
       "      <td>21.8</td>\n",
       "      <td>0</td>\n",
       "      <td>31.0</td>\n",
       "      <td>2</td>\n",
       "      <td>0</td>\n",
       "      <td>27.0</td>\n",
       "      <td>1021.2</td>\n",
       "      <td>0</td>\n",
       "      <td>0</td>\n",
       "    </tr>\n",
       "    <tr>\n",
       "      <th>98534</th>\n",
       "      <td>41</td>\n",
       "      <td>23.4</td>\n",
       "      <td>0</td>\n",
       "      <td>31.0</td>\n",
       "      <td>9</td>\n",
       "      <td>1</td>\n",
       "      <td>24.0</td>\n",
       "      <td>1020.3</td>\n",
       "      <td>0</td>\n",
       "      <td>0</td>\n",
       "    </tr>\n",
       "    <tr>\n",
       "      <th>98535</th>\n",
       "      <td>41</td>\n",
       "      <td>25.3</td>\n",
       "      <td>6</td>\n",
       "      <td>22.0</td>\n",
       "      <td>9</td>\n",
       "      <td>3</td>\n",
       "      <td>21.0</td>\n",
       "      <td>1019.1</td>\n",
       "      <td>0</td>\n",
       "      <td>0</td>\n",
       "    </tr>\n",
       "    <tr>\n",
       "      <th>98536</th>\n",
       "      <td>41</td>\n",
       "      <td>26.9</td>\n",
       "      <td>3</td>\n",
       "      <td>37.0</td>\n",
       "      <td>9</td>\n",
       "      <td>14</td>\n",
       "      <td>24.0</td>\n",
       "      <td>1016.8</td>\n",
       "      <td>0</td>\n",
       "      <td>0</td>\n",
       "    </tr>\n",
       "  </tbody>\n",
       "</table>\n",
       "<p>98537 rows × 10 columns</p>\n",
       "</div>"
      ],
      "text/plain": [
       "       Location  MaxTemp  WindGustDir  WindGustSpeed  WindDir9am  WindDir3pm  \\\n",
       "0             2     22.9           13           44.0          13          14   \n",
       "1             2     25.1           14           44.0           6          15   \n",
       "2             2     32.3           13           41.0           1           7   \n",
       "3             2     29.7           14           56.0          13          13   \n",
       "4             2     26.7           13           35.0          10          13   \n",
       "...         ...      ...          ...            ...         ...         ...   \n",
       "98532        41     20.7            2           41.0           9           0   \n",
       "98533        41     21.8            0           31.0           2           0   \n",
       "98534        41     23.4            0           31.0           9           1   \n",
       "98535        41     25.3            6           22.0           9           3   \n",
       "98536        41     26.9            3           37.0           9          14   \n",
       "\n",
       "       Humidity3pm  Pressure3pm  RainToday  RainTomorrow  \n",
       "0             22.0       1007.1          0             0  \n",
       "1             25.0       1007.8          0             0  \n",
       "2             33.0       1006.0          0             0  \n",
       "3             23.0       1005.4          0             0  \n",
       "4             19.0       1010.1          0             0  \n",
       "...            ...          ...        ...           ...  \n",
       "98532         32.0       1024.3          0             0  \n",
       "98533         27.0       1021.2          0             0  \n",
       "98534         24.0       1020.3          0             0  \n",
       "98535         21.0       1019.1          0             0  \n",
       "98536         24.0       1016.8          0             0  \n",
       "\n",
       "[98537 rows x 10 columns]"
      ]
     },
     "execution_count": 23,
     "metadata": {},
     "output_type": "execute_result"
    }
   ],
   "source": [
    "df1"
   ]
  },
  {
   "cell_type": "code",
   "execution_count": 24,
   "id": "2c24c3e6",
   "metadata": {},
   "outputs": [
    {
     "data": {
      "text/plain": [
       "<AxesSubplot:>"
      ]
     },
     "execution_count": 24,
     "metadata": {},
     "output_type": "execute_result"
    },
    {
     "data": {
      "image/png": "[encoded data removed]",
      "text/plain": [
       "<Figure size 1296x576 with 2 Axes>"
      ]
     },
     "metadata": {
      "needs_background": "light"
     },
     "output_type": "display_data"
    }
   ],
   "source": [
    "# Correlation Matrix after Label Encoding\n",
    "corr_matrix=df1.corr()\n",
    "plt.subplots(figsize=(18,8))\n",
    "sns.heatmap(corr_matrix,annot=True,cmap='winter')"
   ]
  },
  {
   "cell_type": "code",
   "execution_count": 25,
   "id": "7bd1c391",
   "metadata": {},
   "outputs": [
    {
     "data": {
      "text/html": [
       "<div>\n",
       "<style scoped>\n",
       "    .dataframe tbody tr th:only-of-type {\n",
       "        vertical-align: middle;\n",
       "    }\n",
       "\n",
       "    .dataframe tbody tr th {\n",
       "        vertical-align: top;\n",
       "    }\n",
       "\n",
       "    .dataframe thead th {\n",
       "        text-align: right;\n",
       "    }\n",
       "</style>\n",
       "<table border=\"1\" class=\"dataframe\">\n",
       "  <thead>\n",
       "    <tr style=\"text-align: right;\">\n",
       "      <th></th>\n",
       "      <th>Location</th>\n",
       "      <th>MaxTemp</th>\n",
       "      <th>WindGustDir</th>\n",
       "      <th>WindGustSpeed</th>\n",
       "      <th>WindDir9am</th>\n",
       "      <th>WindDir3pm</th>\n",
       "      <th>Humidity3pm</th>\n",
       "      <th>Pressure3pm</th>\n",
       "      <th>RainToday</th>\n",
       "      <th>RainTomorrow</th>\n",
       "    </tr>\n",
       "  </thead>\n",
       "  <tbody>\n",
       "    <tr>\n",
       "      <th>0</th>\n",
       "      <td>2</td>\n",
       "      <td>22.9</td>\n",
       "      <td>13</td>\n",
       "      <td>44.0</td>\n",
       "      <td>13</td>\n",
       "      <td>14</td>\n",
       "      <td>22.0</td>\n",
       "      <td>1007.1</td>\n",
       "      <td>0</td>\n",
       "      <td>0</td>\n",
       "    </tr>\n",
       "    <tr>\n",
       "      <th>1</th>\n",
       "      <td>2</td>\n",
       "      <td>25.1</td>\n",
       "      <td>14</td>\n",
       "      <td>44.0</td>\n",
       "      <td>6</td>\n",
       "      <td>15</td>\n",
       "      <td>25.0</td>\n",
       "      <td>1007.8</td>\n",
       "      <td>0</td>\n",
       "      <td>0</td>\n",
       "    </tr>\n",
       "    <tr>\n",
       "      <th>2</th>\n",
       "      <td>2</td>\n",
       "      <td>32.3</td>\n",
       "      <td>13</td>\n",
       "      <td>41.0</td>\n",
       "      <td>1</td>\n",
       "      <td>7</td>\n",
       "      <td>33.0</td>\n",
       "      <td>1006.0</td>\n",
       "      <td>0</td>\n",
       "      <td>0</td>\n",
       "    </tr>\n",
       "    <tr>\n",
       "      <th>3</th>\n",
       "      <td>2</td>\n",
       "      <td>29.7</td>\n",
       "      <td>14</td>\n",
       "      <td>56.0</td>\n",
       "      <td>13</td>\n",
       "      <td>13</td>\n",
       "      <td>23.0</td>\n",
       "      <td>1005.4</td>\n",
       "      <td>0</td>\n",
       "      <td>0</td>\n",
       "    </tr>\n",
       "    <tr>\n",
       "      <th>4</th>\n",
       "      <td>2</td>\n",
       "      <td>26.7</td>\n",
       "      <td>13</td>\n",
       "      <td>35.0</td>\n",
       "      <td>10</td>\n",
       "      <td>13</td>\n",
       "      <td>19.0</td>\n",
       "      <td>1010.1</td>\n",
       "      <td>0</td>\n",
       "      <td>0</td>\n",
       "    </tr>\n",
       "    <tr>\n",
       "      <th>...</th>\n",
       "      <td>...</td>\n",
       "      <td>...</td>\n",
       "      <td>...</td>\n",
       "      <td>...</td>\n",
       "      <td>...</td>\n",
       "      <td>...</td>\n",
       "      <td>...</td>\n",
       "      <td>...</td>\n",
       "      <td>...</td>\n",
       "      <td>...</td>\n",
       "    </tr>\n",
       "    <tr>\n",
       "      <th>98532</th>\n",
       "      <td>41</td>\n",
       "      <td>20.7</td>\n",
       "      <td>2</td>\n",
       "      <td>41.0</td>\n",
       "      <td>9</td>\n",
       "      <td>0</td>\n",
       "      <td>32.0</td>\n",
       "      <td>1024.3</td>\n",
       "      <td>0</td>\n",
       "      <td>0</td>\n",
       "    </tr>\n",
       "    <tr>\n",
       "      <th>98533</th>\n",
       "      <td>41</td>\n",
       "      <td>21.8</td>\n",
       "      <td>0</td>\n",
       "      <td>31.0</td>\n",
       "      <td>2</td>\n",
       "      <td>0</td>\n",
       "      <td>27.0</td>\n",
       "      <td>1021.2</td>\n",
       "      <td>0</td>\n",
       "      <td>0</td>\n",
       "    </tr>\n",
       "    <tr>\n",
       "      <th>98534</th>\n",
       "      <td>41</td>\n",
       "      <td>23.4</td>\n",
       "      <td>0</td>\n",
       "      <td>31.0</td>\n",
       "      <td>9</td>\n",
       "      <td>1</td>\n",
       "      <td>24.0</td>\n",
       "      <td>1020.3</td>\n",
       "      <td>0</td>\n",
       "      <td>0</td>\n",
       "    </tr>\n",
       "    <tr>\n",
       "      <th>98535</th>\n",
       "      <td>41</td>\n",
       "      <td>25.3</td>\n",
       "      <td>6</td>\n",
       "      <td>22.0</td>\n",
       "      <td>9</td>\n",
       "      <td>3</td>\n",
       "      <td>21.0</td>\n",
       "      <td>1019.1</td>\n",
       "      <td>0</td>\n",
       "      <td>0</td>\n",
       "    </tr>\n",
       "    <tr>\n",
       "      <th>98536</th>\n",
       "      <td>41</td>\n",
       "      <td>26.9</td>\n",
       "      <td>3</td>\n",
       "      <td>37.0</td>\n",
       "      <td>9</td>\n",
       "      <td>14</td>\n",
       "      <td>24.0</td>\n",
       "      <td>1016.8</td>\n",
       "      <td>0</td>\n",
       "      <td>0</td>\n",
       "    </tr>\n",
       "  </tbody>\n",
       "</table>\n",
       "<p>98537 rows × 10 columns</p>\n",
       "</div>"
      ],
      "text/plain": [
       "       Location  MaxTemp  WindGustDir  WindGustSpeed  WindDir9am  WindDir3pm  \\\n",
       "0             2     22.9           13           44.0          13          14   \n",
       "1             2     25.1           14           44.0           6          15   \n",
       "2             2     32.3           13           41.0           1           7   \n",
       "3             2     29.7           14           56.0          13          13   \n",
       "4             2     26.7           13           35.0          10          13   \n",
       "...         ...      ...          ...            ...         ...         ...   \n",
       "98532        41     20.7            2           41.0           9           0   \n",
       "98533        41     21.8            0           31.0           2           0   \n",
       "98534        41     23.4            0           31.0           9           1   \n",
       "98535        41     25.3            6           22.0           9           3   \n",
       "98536        41     26.9            3           37.0           9          14   \n",
       "\n",
       "       Humidity3pm  Pressure3pm  RainToday  RainTomorrow  \n",
       "0             22.0       1007.1          0             0  \n",
       "1             25.0       1007.8          0             0  \n",
       "2             33.0       1006.0          0             0  \n",
       "3             23.0       1005.4          0             0  \n",
       "4             19.0       1010.1          0             0  \n",
       "...            ...          ...        ...           ...  \n",
       "98532         32.0       1024.3          0             0  \n",
       "98533         27.0       1021.2          0             0  \n",
       "98534         24.0       1020.3          0             0  \n",
       "98535         21.0       1019.1          0             0  \n",
       "98536         24.0       1016.8          0             0  \n",
       "\n",
       "[98537 rows x 10 columns]"
      ]
     },
     "execution_count": 25,
     "metadata": {},
     "output_type": "execute_result"
    }
   ],
   "source": [
    "df1"
   ]
  },
  {
   "cell_type": "code",
   "execution_count": 26,
   "id": "ce7ab6ef",
   "metadata": {},
   "outputs": [],
   "source": [
    "X=df1.drop(['RainTomorrow'],axis=1)\n",
    "y=df1['RainTomorrow']"
   ]
  },
  {
   "cell_type": "code",
   "execution_count": 27,
   "id": "70dc91fa",
   "metadata": {},
   "outputs": [],
   "source": [
    "#Standard Scaling \n",
    "from sklearn.preprocessing import StandardScaler\n",
    "std_scl=StandardScaler()"
   ]
  },
  {
   "cell_type": "code",
   "execution_count": 28,
   "id": "d4eceffc",
   "metadata": {},
   "outputs": [],
   "source": [
    "X1=X.drop(['Location','WindDir9am','WindDir3pm','WindGustDir','RainToday'],axis=1)"
   ]
  },
  {
   "cell_type": "code",
   "execution_count": 29,
   "id": "e0e88598",
   "metadata": {},
   "outputs": [],
   "source": [
    "X1=std_scl.fit_transform(X1)"
   ]
  },
  {
   "cell_type": "code",
   "execution_count": 30,
   "id": "119c2fbe",
   "metadata": {},
   "outputs": [],
   "source": [
    "X1=pd.DataFrame(X1,columns=['MaxTemp','WindGustSpeed','Humidity3pm','Pressure3pm'])"
   ]
  },
  {
   "cell_type": "code",
   "execution_count": 31,
   "id": "df8b9c33",
   "metadata": {},
   "outputs": [],
   "source": [
    "X=X.drop(['MaxTemp','WindGustSpeed','Humidity3pm','Pressure3pm'],axis=1)"
   ]
  },
  {
   "cell_type": "code",
   "execution_count": 32,
   "id": "057e5df5",
   "metadata": {},
   "outputs": [],
   "source": [
    "X=pd.concat([X,X1],axis=1)"
   ]
  },
  {
   "cell_type": "code",
   "execution_count": 33,
   "id": "a2c7fd5a",
   "metadata": {},
   "outputs": [
    {
     "data": {
      "text/html": [
       "<div>\n",
       "<style scoped>\n",
       "    .dataframe tbody tr th:only-of-type {\n",
       "        vertical-align: middle;\n",
       "    }\n",
       "\n",
       "    .dataframe tbody tr th {\n",
       "        vertical-align: top;\n",
       "    }\n",
       "\n",
       "    .dataframe thead th {\n",
       "        text-align: right;\n",
       "    }\n",
       "</style>\n",
       "<table border=\"1\" class=\"dataframe\">\n",
       "  <thead>\n",
       "    <tr style=\"text-align: right;\">\n",
       "      <th></th>\n",
       "      <th>Location</th>\n",
       "      <th>WindGustDir</th>\n",
       "      <th>WindDir9am</th>\n",
       "      <th>WindDir3pm</th>\n",
       "      <th>RainToday</th>\n",
       "      <th>MaxTemp</th>\n",
       "      <th>WindGustSpeed</th>\n",
       "      <th>Humidity3pm</th>\n",
       "      <th>Pressure3pm</th>\n",
       "    </tr>\n",
       "  </thead>\n",
       "  <tbody>\n",
       "    <tr>\n",
       "      <th>0</th>\n",
       "      <td>2</td>\n",
       "      <td>13</td>\n",
       "      <td>13</td>\n",
       "      <td>14</td>\n",
       "      <td>0</td>\n",
       "      <td>-0.046285</td>\n",
       "      <td>0.361178</td>\n",
       "      <td>-1.432427</td>\n",
       "      <td>-1.248508</td>\n",
       "    </tr>\n",
       "    <tr>\n",
       "      <th>1</th>\n",
       "      <td>2</td>\n",
       "      <td>14</td>\n",
       "      <td>6</td>\n",
       "      <td>15</td>\n",
       "      <td>0</td>\n",
       "      <td>0.264175</td>\n",
       "      <td>0.361178</td>\n",
       "      <td>-1.286268</td>\n",
       "      <td>-1.141987</td>\n",
       "    </tr>\n",
       "    <tr>\n",
       "      <th>2</th>\n",
       "      <td>2</td>\n",
       "      <td>13</td>\n",
       "      <td>1</td>\n",
       "      <td>7</td>\n",
       "      <td>0</td>\n",
       "      <td>1.280228</td>\n",
       "      <td>0.115368</td>\n",
       "      <td>-0.896513</td>\n",
       "      <td>-1.415900</td>\n",
       "    </tr>\n",
       "    <tr>\n",
       "      <th>3</th>\n",
       "      <td>2</td>\n",
       "      <td>14</td>\n",
       "      <td>13</td>\n",
       "      <td>13</td>\n",
       "      <td>0</td>\n",
       "      <td>0.913320</td>\n",
       "      <td>1.344418</td>\n",
       "      <td>-1.383707</td>\n",
       "      <td>-1.507204</td>\n",
       "    </tr>\n",
       "    <tr>\n",
       "      <th>4</th>\n",
       "      <td>2</td>\n",
       "      <td>13</td>\n",
       "      <td>10</td>\n",
       "      <td>13</td>\n",
       "      <td>0</td>\n",
       "      <td>0.489965</td>\n",
       "      <td>-0.376253</td>\n",
       "      <td>-1.578585</td>\n",
       "      <td>-0.791986</td>\n",
       "    </tr>\n",
       "    <tr>\n",
       "      <th>...</th>\n",
       "      <td>...</td>\n",
       "      <td>...</td>\n",
       "      <td>...</td>\n",
       "      <td>...</td>\n",
       "      <td>...</td>\n",
       "      <td>...</td>\n",
       "      <td>...</td>\n",
       "      <td>...</td>\n",
       "      <td>...</td>\n",
       "    </tr>\n",
       "    <tr>\n",
       "      <th>98532</th>\n",
       "      <td>41</td>\n",
       "      <td>2</td>\n",
       "      <td>9</td>\n",
       "      <td>0</td>\n",
       "      <td>0</td>\n",
       "      <td>-0.356746</td>\n",
       "      <td>0.115368</td>\n",
       "      <td>-0.945232</td>\n",
       "      <td>1.368885</td>\n",
       "    </tr>\n",
       "    <tr>\n",
       "      <th>98533</th>\n",
       "      <td>41</td>\n",
       "      <td>0</td>\n",
       "      <td>2</td>\n",
       "      <td>0</td>\n",
       "      <td>0</td>\n",
       "      <td>-0.201516</td>\n",
       "      <td>-0.704000</td>\n",
       "      <td>-1.188829</td>\n",
       "      <td>0.897145</td>\n",
       "    </tr>\n",
       "    <tr>\n",
       "      <th>98534</th>\n",
       "      <td>41</td>\n",
       "      <td>0</td>\n",
       "      <td>9</td>\n",
       "      <td>1</td>\n",
       "      <td>0</td>\n",
       "      <td>0.024274</td>\n",
       "      <td>-0.704000</td>\n",
       "      <td>-1.334988</td>\n",
       "      <td>0.760189</td>\n",
       "    </tr>\n",
       "    <tr>\n",
       "      <th>98535</th>\n",
       "      <td>41</td>\n",
       "      <td>6</td>\n",
       "      <td>9</td>\n",
       "      <td>3</td>\n",
       "      <td>0</td>\n",
       "      <td>0.292399</td>\n",
       "      <td>-1.441430</td>\n",
       "      <td>-1.481146</td>\n",
       "      <td>0.577580</td>\n",
       "    </tr>\n",
       "    <tr>\n",
       "      <th>98536</th>\n",
       "      <td>41</td>\n",
       "      <td>3</td>\n",
       "      <td>9</td>\n",
       "      <td>14</td>\n",
       "      <td>0</td>\n",
       "      <td>0.518189</td>\n",
       "      <td>-0.212379</td>\n",
       "      <td>-1.334988</td>\n",
       "      <td>0.227580</td>\n",
       "    </tr>\n",
       "  </tbody>\n",
       "</table>\n",
       "<p>98537 rows × 9 columns</p>\n",
       "</div>"
      ],
      "text/plain": [
       "       Location  WindGustDir  WindDir9am  WindDir3pm  RainToday   MaxTemp  \\\n",
       "0             2           13          13          14          0 -0.046285   \n",
       "1             2           14           6          15          0  0.264175   \n",
       "2             2           13           1           7          0  1.280228   \n",
       "3             2           14          13          13          0  0.913320   \n",
       "4             2           13          10          13          0  0.489965   \n",
       "...         ...          ...         ...         ...        ...       ...   \n",
       "98532        41            2           9           0          0 -0.356746   \n",
       "98533        41            0           2           0          0 -0.201516   \n",
       "98534        41            0           9           1          0  0.024274   \n",
       "98535        41            6           9           3          0  0.292399   \n",
       "98536        41            3           9          14          0  0.518189   \n",
       "\n",
       "       WindGustSpeed  Humidity3pm  Pressure3pm  \n",
       "0           0.361178    -1.432427    -1.248508  \n",
       "1           0.361178    -1.286268    -1.141987  \n",
       "2           0.115368    -0.896513    -1.415900  \n",
       "3           1.344418    -1.383707    -1.507204  \n",
       "4          -0.376253    -1.578585    -0.791986  \n",
       "...              ...          ...          ...  \n",
       "98532       0.115368    -0.945232     1.368885  \n",
       "98533      -0.704000    -1.188829     0.897145  \n",
       "98534      -0.704000    -1.334988     0.760189  \n",
       "98535      -1.441430    -1.481146     0.577580  \n",
       "98536      -0.212379    -1.334988     0.227580  \n",
       "\n",
       "[98537 rows x 9 columns]"
      ]
     },
     "execution_count": 33,
     "metadata": {},
     "output_type": "execute_result"
    }
   ],
   "source": [
    "X"
   ]
  },
  {
   "cell_type": "markdown",
   "id": "d3fc84d1",
   "metadata": {},
   "source": [
    "# Model"
   ]
  },
  {
   "cell_type": "code",
   "execution_count": 34,
   "id": "24055047",
   "metadata": {},
   "outputs": [],
   "source": [
    "# Splitting into train and test data\n",
    "from sklearn.model_selection import train_test_split\n",
    "X_train,X_test,y_train,y_test=train_test_split(X,y,random_state=42,test_size=.2)"
   ]
  },
  {
   "cell_type": "markdown",
   "id": "9f8623d2",
   "metadata": {},
   "source": [
    "# Creating Logistic Regression Model"
   ]
  },
  {
   "cell_type": "code",
   "execution_count": 35,
   "id": "1b9ed362",
   "metadata": {},
   "outputs": [],
   "source": [
    "from sklearn.linear_model import LogisticRegression"
   ]
  },
  {
   "cell_type": "code",
   "execution_count": 97,
   "id": "5a86c9f3",
   "metadata": {
    "scrolled": true
   },
   "outputs": [],
   "source": [
    "lr_model=LogisticRegression().fit(X_train,y_train)\n",
    "y_pred_log=lr_model.predict(X_test)"
   ]
  },
  {
   "cell_type": "code",
   "execution_count": 38,
   "id": "33e2072a",
   "metadata": {},
   "outputs": [],
   "source": [
    "from sklearn.metrics import accuracy_score,confusion_matrix,precision_score,recall_score,f1_score"
   ]
  },
  {
   "cell_type": "code",
   "execution_count": 39,
   "id": "7ae95b92",
   "metadata": {},
   "outputs": [
    {
     "data": {
      "text/plain": [
       "array([[14481,   819],\n",
       "       [ 2366,  2042]], dtype=int64)"
      ]
     },
     "execution_count": 39,
     "metadata": {},
     "output_type": "execute_result"
    }
   ],
   "source": [
    "confusion_matrix(y_test,y_pred_log)"
   ]
  },
  {
   "cell_type": "code",
   "execution_count": 40,
   "id": "10d8eca8",
   "metadata": {},
   "outputs": [
    {
     "name": "stdout",
     "output_type": "stream",
     "text": [
      "Accuracy score is : 0.8383905013192612\n"
     ]
    }
   ],
   "source": [
    "print('Accuracy score is :',accuracy_score(y_test,y_pred_log))"
   ]
  },
  {
   "cell_type": "code",
   "execution_count": 41,
   "id": "ebb43944",
   "metadata": {},
   "outputs": [
    {
     "data": {
      "text/plain": [
       "0.7137364557846907"
      ]
     },
     "execution_count": 41,
     "metadata": {},
     "output_type": "execute_result"
    }
   ],
   "source": [
    "precision_score(y_test,y_pred_log)"
   ]
  },
  {
   "cell_type": "code",
   "execution_count": 42,
   "id": "8134b1fc",
   "metadata": {},
   "outputs": [
    {
     "data": {
      "text/plain": [
       "0.4632486388384755"
      ]
     },
     "execution_count": 42,
     "metadata": {},
     "output_type": "execute_result"
    }
   ],
   "source": [
    "recall_score(y_test,y_pred_log)"
   ]
  },
  {
   "cell_type": "code",
   "execution_count": 43,
   "id": "dc01cd96",
   "metadata": {},
   "outputs": [
    {
     "data": {
      "text/plain": [
       "0.5618379419452469"
      ]
     },
     "execution_count": 43,
     "metadata": {},
     "output_type": "execute_result"
    }
   ],
   "source": [
    "f1_score(y_test,y_pred_log)"
   ]
  },
  {
   "cell_type": "code",
   "execution_count": 45,
   "id": "26c816a2",
   "metadata": {},
   "outputs": [
    {
     "name": "stdout",
     "output_type": "stream",
     "text": [
      "classification_report :\n",
      "               precision    recall  f1-score   support\n",
      "\n",
      "           0       0.86      0.95      0.90     15300\n",
      "           1       0.71      0.46      0.56      4408\n",
      "\n",
      "    accuracy                           0.84     19708\n",
      "   macro avg       0.79      0.70      0.73     19708\n",
      "weighted avg       0.83      0.84      0.83     19708\n",
      "\n"
     ]
    }
   ],
   "source": [
    "from sklearn.metrics import classification_report\n",
    "print('classification_report :\\n',classification_report(y_test,y_pred_log))"
   ]
  },
  {
   "cell_type": "markdown",
   "id": "b897ece9",
   "metadata": {},
   "source": [
    "# Creating KNN Model"
   ]
  },
  {
   "cell_type": "code",
   "execution_count": 46,
   "id": "687d53c3",
   "metadata": {},
   "outputs": [],
   "source": [
    "from sklearn.neighbors import KNeighborsClassifier"
   ]
  },
  {
   "cell_type": "code",
   "execution_count": 47,
   "id": "33c7398e",
   "metadata": {},
   "outputs": [],
   "source": [
    "metric_k=[]\n",
    "neighbors=range(3,15)\n",
    "\n",
    "for k in neighbors:\n",
    "     classifier=KNeighborsClassifier(n_neighbors=k)\n",
    "     kNN_model=classifier.fit(X_train,y_train)\n",
    "     y_pred_kNN=kNN_model.predict(X_test)\n",
    "     acc=accuracy_score(y_test,y_pred_kNN)\n",
    "     metric_k.append(acc)"
   ]
  },
  {
   "cell_type": "code",
   "execution_count": 48,
   "id": "c05ec24a",
   "metadata": {
    "scrolled": true
   },
   "outputs": [
    {
     "data": {
      "text/plain": [
       "[0.8174345443474731,\n",
       " 0.8210878830931602,\n",
       " 0.8271767810026385,\n",
       " 0.8242845544956363,\n",
       " 0.8292064136391313,\n",
       " 0.8249441851024965,\n",
       " 0.8289527095595697,\n",
       " 0.825654556525269,\n",
       " 0.8302719707732901,\n",
       " 0.8260097422366551,\n",
       " 0.8300182666937285,\n",
       " 0.8266693728435153]"
      ]
     },
     "execution_count": 48,
     "metadata": {},
     "output_type": "execute_result"
    }
   ],
   "source": [
    "metric_k"
   ]
  },
  {
   "cell_type": "code",
   "execution_count": 49,
   "id": "fae80b73",
   "metadata": {},
   "outputs": [
    {
     "data": {
      "image/png": "[encoded data removed]",
      "text/plain": [
       "<Figure size 432x288 with 1 Axes>"
      ]
     },
     "metadata": {
      "needs_background": "light"
     },
     "output_type": "display_data"
    }
   ],
   "source": [
    "plt.plot(neighbors,metric_k,'o-')\n",
    "plt.xlabel('k values')\n",
    "plt.ylabel('Accuracies')\n",
    "plt.grid()"
   ]
  },
  {
   "cell_type": "code",
   "execution_count": 50,
   "id": "2f855b9d",
   "metadata": {},
   "outputs": [
    {
     "data": {
      "text/plain": [
       "0.8266693728435153"
      ]
     },
     "execution_count": 50,
     "metadata": {},
     "output_type": "execute_result"
    }
   ],
   "source": [
    "accuracy_score(y_test,y_pred_kNN)"
   ]
  },
  {
   "cell_type": "code",
   "execution_count": 51,
   "id": "b2928afc",
   "metadata": {},
   "outputs": [],
   "source": [
    "classifier=KNeighborsClassifier(n_neighbors=11)\n",
    "kNN_model=classifier.fit(X_train,y_train)\n",
    "y_pred_kNN=kNN_model.predict(X_test)"
   ]
  },
  {
   "cell_type": "code",
   "execution_count": 52,
   "id": "40c3e96e",
   "metadata": {},
   "outputs": [
    {
     "data": {
      "text/plain": [
       "array([[14791,   509],\n",
       "       [ 2836,  1572]], dtype=int64)"
      ]
     },
     "execution_count": 52,
     "metadata": {},
     "output_type": "execute_result"
    }
   ],
   "source": [
    "confusion_matrix(y_test,y_pred_kNN)"
   ]
  },
  {
   "cell_type": "code",
   "execution_count": 53,
   "id": "e50068a9",
   "metadata": {},
   "outputs": [
    {
     "data": {
      "text/plain": [
       "0.8302719707732901"
      ]
     },
     "execution_count": 53,
     "metadata": {},
     "output_type": "execute_result"
    }
   ],
   "source": [
    "accuracy_score(y_test,y_pred_kNN)"
   ]
  },
  {
   "cell_type": "code",
   "execution_count": 54,
   "id": "6293ecdd",
   "metadata": {},
   "outputs": [
    {
     "data": {
      "text/plain": [
       "0.7554060547813551"
      ]
     },
     "execution_count": 54,
     "metadata": {},
     "output_type": "execute_result"
    }
   ],
   "source": [
    "precision_score(y_test,y_pred_kNN)"
   ]
  },
  {
   "cell_type": "code",
   "execution_count": 55,
   "id": "cb8804b9",
   "metadata": {},
   "outputs": [
    {
     "data": {
      "text/plain": [
       "0.3566243194192377"
      ]
     },
     "execution_count": 55,
     "metadata": {},
     "output_type": "execute_result"
    }
   ],
   "source": [
    "recall_score(y_test,y_pred_kNN)"
   ]
  },
  {
   "cell_type": "code",
   "execution_count": 56,
   "id": "332a5db1",
   "metadata": {},
   "outputs": [
    {
     "data": {
      "text/plain": [
       "0.4845122515025428"
      ]
     },
     "execution_count": 56,
     "metadata": {},
     "output_type": "execute_result"
    }
   ],
   "source": [
    "f1_score(y_test,y_pred_kNN)"
   ]
  },
  {
   "cell_type": "code",
   "execution_count": 57,
   "id": "d4651352",
   "metadata": {},
   "outputs": [
    {
     "name": "stdout",
     "output_type": "stream",
     "text": [
      "classification_report :\n",
      "               precision    recall  f1-score   support\n",
      "\n",
      "           0       0.84      0.97      0.90     15300\n",
      "           1       0.76      0.36      0.48      4408\n",
      "\n",
      "    accuracy                           0.83     19708\n",
      "   macro avg       0.80      0.66      0.69     19708\n",
      "weighted avg       0.82      0.83      0.81     19708\n",
      "\n"
     ]
    }
   ],
   "source": [
    "print('classification_report :\\n',classification_report(y_test,y_pred_kNN))"
   ]
  },
  {
   "cell_type": "markdown",
   "id": "64c90d67",
   "metadata": {},
   "source": [
    "# Creating SVM(Kernel='Linear')Model"
   ]
  },
  {
   "cell_type": "code",
   "execution_count": null,
   "id": "94d1f8d5",
   "metadata": {},
   "outputs": [],
   "source": [
    "accuracy_score(y_test,y_pred_svm)"
   ]
  },
  {
   "cell_type": "markdown",
   "id": "fde06de1",
   "metadata": {},
   "source": [
    "# Creating SVM(Kernel='rbf')Model"
   ]
  },
  {
   "cell_type": "code",
   "execution_count": null,
   "id": "758d1746",
   "metadata": {},
   "outputs": [],
   "source": [
    "accuracy_score(y_test,y_pred_svm1)"
   ]
  },
  {
   "cell_type": "markdown",
   "id": "477ab52a",
   "metadata": {},
   "source": [
    "# Creating DecisionTreeClassifier Model"
   ]
  },
  {
   "cell_type": "code",
   "execution_count": 58,
   "id": "2cb1649f",
   "metadata": {},
   "outputs": [],
   "source": [
    "X=df1.drop(['RainTomorrow'],axis=1)\n",
    "y=df1['RainTomorrow']"
   ]
  },
  {
   "cell_type": "code",
   "execution_count": 59,
   "id": "f49ab27d",
   "metadata": {},
   "outputs": [],
   "source": [
    "# Splitting into train and test data\n",
    "X_train,X_test,y_train,y_test=train_test_split(X,y,random_state=42,test_size=.2)"
   ]
  },
  {
   "cell_type": "code",
   "execution_count": 60,
   "id": "3208c6b2",
   "metadata": {},
   "outputs": [],
   "source": [
    "from sklearn.tree import DecisionTreeClassifier"
   ]
  },
  {
   "cell_type": "code",
   "execution_count": 61,
   "id": "d7a6c321",
   "metadata": {},
   "outputs": [],
   "source": [
    "dec_tree_model=DecisionTreeClassifier().fit(X_train,y_train)\n",
    "y_pred_tree=dec_tree_model.predict(X_test)"
   ]
  },
  {
   "cell_type": "code",
   "execution_count": 62,
   "id": "a5719d3a",
   "metadata": {},
   "outputs": [
    {
     "data": {
      "text/plain": [
       "array([[13072,  2228],\n",
       "       [ 2099,  2309]], dtype=int64)"
      ]
     },
     "execution_count": 62,
     "metadata": {},
     "output_type": "execute_result"
    }
   ],
   "source": [
    "confusion_matrix(y_test,y_pred_tree)"
   ]
  },
  {
   "cell_type": "code",
   "execution_count": 63,
   "id": "673689f2",
   "metadata": {},
   "outputs": [
    {
     "data": {
      "text/plain": [
       "0.7804444895473919"
      ]
     },
     "execution_count": 63,
     "metadata": {},
     "output_type": "execute_result"
    }
   ],
   "source": [
    "accuracy_score(y_test,y_pred_tree)"
   ]
  },
  {
   "cell_type": "code",
   "execution_count": 64,
   "id": "c651c583",
   "metadata": {},
   "outputs": [
    {
     "data": {
      "text/plain": [
       "0.5089266034824774"
      ]
     },
     "execution_count": 64,
     "metadata": {},
     "output_type": "execute_result"
    }
   ],
   "source": [
    "precision_score(y_test,y_pred_tree)"
   ]
  },
  {
   "cell_type": "code",
   "execution_count": 65,
   "id": "4ce1323e",
   "metadata": {},
   "outputs": [
    {
     "data": {
      "text/plain": [
       "0.5238203266787659"
      ]
     },
     "execution_count": 65,
     "metadata": {},
     "output_type": "execute_result"
    }
   ],
   "source": [
    "recall_score(y_test,y_pred_tree)"
   ]
  },
  {
   "cell_type": "code",
   "execution_count": 66,
   "id": "d8e254c2",
   "metadata": {},
   "outputs": [
    {
     "data": {
      "text/plain": [
       "0.516266070430408"
      ]
     },
     "execution_count": 66,
     "metadata": {},
     "output_type": "execute_result"
    }
   ],
   "source": [
    "f1_score(y_test,y_pred_tree)"
   ]
  },
  {
   "cell_type": "code",
   "execution_count": 67,
   "id": "490d8f4b",
   "metadata": {},
   "outputs": [
    {
     "name": "stdout",
     "output_type": "stream",
     "text": [
      "classification_report :\n",
      "               precision    recall  f1-score   support\n",
      "\n",
      "           0       0.86      0.85      0.86     15300\n",
      "           1       0.51      0.52      0.52      4408\n",
      "\n",
      "    accuracy                           0.78     19708\n",
      "   macro avg       0.69      0.69      0.69     19708\n",
      "weighted avg       0.78      0.78      0.78     19708\n",
      "\n"
     ]
    }
   ],
   "source": [
    "print('classification_report :\\n',classification_report(y_test,y_pred_tree))"
   ]
  },
  {
   "cell_type": "markdown",
   "id": "e63234aa",
   "metadata": {},
   "source": [
    "# Creating RandomForestClassifier Model"
   ]
  },
  {
   "cell_type": "code",
   "execution_count": 68,
   "id": "c5f0dd2b",
   "metadata": {},
   "outputs": [],
   "source": [
    "from sklearn.ensemble import RandomForestClassifier"
   ]
  },
  {
   "cell_type": "code",
   "execution_count": 69,
   "id": "d68fda38",
   "metadata": {},
   "outputs": [],
   "source": [
    "rand_for_model=RandomForestClassifier().fit(X_train,y_train)\n",
    "y_pred_rand=rand_for_model.predict(X_test)"
   ]
  },
  {
   "cell_type": "code",
   "execution_count": 70,
   "id": "3f5fa72f",
   "metadata": {},
   "outputs": [
    {
     "data": {
      "text/plain": [
       "array([[14540,   760],\n",
       "       [ 2214,  2194]], dtype=int64)"
      ]
     },
     "execution_count": 70,
     "metadata": {},
     "output_type": "execute_result"
    }
   ],
   "source": [
    "confusion_matrix(y_test,y_pred_rand)"
   ]
  },
  {
   "cell_type": "code",
   "execution_count": 71,
   "id": "f2ba9fd5",
   "metadata": {},
   "outputs": [
    {
     "data": {
      "text/plain": [
       "0.8490968134767607"
      ]
     },
     "execution_count": 71,
     "metadata": {},
     "output_type": "execute_result"
    }
   ],
   "source": [
    "accuracy_score(y_test,y_pred_rand)"
   ]
  },
  {
   "cell_type": "code",
   "execution_count": 72,
   "id": "afe3428a",
   "metadata": {},
   "outputs": [
    {
     "data": {
      "text/plain": [
       "0.7427217332430602"
      ]
     },
     "execution_count": 72,
     "metadata": {},
     "output_type": "execute_result"
    }
   ],
   "source": [
    "precision_score(y_test,y_pred_rand)"
   ]
  },
  {
   "cell_type": "code",
   "execution_count": 73,
   "id": "e21e5fc7",
   "metadata": {},
   "outputs": [
    {
     "data": {
      "text/plain": [
       "0.49773139745916517"
      ]
     },
     "execution_count": 73,
     "metadata": {},
     "output_type": "execute_result"
    }
   ],
   "source": [
    "recall_score(y_test,y_pred_rand)"
   ]
  },
  {
   "cell_type": "code",
   "execution_count": 74,
   "id": "511e9bbb",
   "metadata": {},
   "outputs": [
    {
     "data": {
      "text/plain": [
       "0.5960336864982341"
      ]
     },
     "execution_count": 74,
     "metadata": {},
     "output_type": "execute_result"
    }
   ],
   "source": [
    "f1_score(y_test,y_pred_rand)"
   ]
  },
  {
   "cell_type": "code",
   "execution_count": 75,
   "id": "28093bb8",
   "metadata": {},
   "outputs": [
    {
     "name": "stdout",
     "output_type": "stream",
     "text": [
      "classification_report :\n",
      "               precision    recall  f1-score   support\n",
      "\n",
      "           0       0.87      0.95      0.91     15300\n",
      "           1       0.74      0.50      0.60      4408\n",
      "\n",
      "    accuracy                           0.85     19708\n",
      "   macro avg       0.81      0.72      0.75     19708\n",
      "weighted avg       0.84      0.85      0.84     19708\n",
      "\n"
     ]
    }
   ],
   "source": [
    "print('classification_report :\\n',classification_report(y_test,y_pred_rand))"
   ]
  },
  {
   "cell_type": "markdown",
   "id": "9642c729",
   "metadata": {},
   "source": [
    "# Creating GradientBoostingClassifier Model"
   ]
  },
  {
   "cell_type": "code",
   "execution_count": 76,
   "id": "22aba6bd",
   "metadata": {},
   "outputs": [],
   "source": [
    "from sklearn.ensemble import GradientBoostingClassifier"
   ]
  },
  {
   "cell_type": "code",
   "execution_count": 77,
   "id": "c9dad638",
   "metadata": {},
   "outputs": [],
   "source": [
    "grad_boost_model=GradientBoostingClassifier().fit(X_train,y_train)\n",
    "y_pred_grad=grad_boost_model.predict(X_test)"
   ]
  },
  {
   "cell_type": "code",
   "execution_count": 78,
   "id": "5a6795ac",
   "metadata": {},
   "outputs": [
    {
     "data": {
      "text/plain": [
       "array([[14575,   725],\n",
       "       [ 2309,  2099]], dtype=int64)"
      ]
     },
     "execution_count": 78,
     "metadata": {},
     "output_type": "execute_result"
    }
   ],
   "source": [
    "confusion_matrix(y_test,y_pred_grad)"
   ]
  },
  {
   "cell_type": "code",
   "execution_count": 79,
   "id": "75ae3001",
   "metadata": {},
   "outputs": [
    {
     "data": {
      "text/plain": [
       "0.8460523645220215"
      ]
     },
     "execution_count": 79,
     "metadata": {},
     "output_type": "execute_result"
    }
   ],
   "source": [
    "accuracy_score(y_test,y_pred_grad)"
   ]
  },
  {
   "cell_type": "code",
   "execution_count": 80,
   "id": "2ac0c438",
   "metadata": {},
   "outputs": [
    {
     "data": {
      "text/plain": [
       "0.7432719546742209"
      ]
     },
     "execution_count": 80,
     "metadata": {},
     "output_type": "execute_result"
    }
   ],
   "source": [
    "precision_score(y_test,y_pred_grad)"
   ]
  },
  {
   "cell_type": "code",
   "execution_count": 81,
   "id": "12c9ce42",
   "metadata": {},
   "outputs": [
    {
     "data": {
      "text/plain": [
       "0.4761796733212341"
      ]
     },
     "execution_count": 81,
     "metadata": {},
     "output_type": "execute_result"
    }
   ],
   "source": [
    "recall_score(y_test,y_pred_grad)"
   ]
  },
  {
   "cell_type": "code",
   "execution_count": 82,
   "id": "dc2008a0",
   "metadata": {},
   "outputs": [
    {
     "data": {
      "text/plain": [
       "0.5804756637168141"
      ]
     },
     "execution_count": 82,
     "metadata": {},
     "output_type": "execute_result"
    }
   ],
   "source": [
    "f1_score(y_test,y_pred_grad)"
   ]
  },
  {
   "cell_type": "code",
   "execution_count": 83,
   "id": "ba143ab8",
   "metadata": {},
   "outputs": [
    {
     "name": "stdout",
     "output_type": "stream",
     "text": [
      "classification_report :\n",
      "               precision    recall  f1-score   support\n",
      "\n",
      "           0       0.86      0.95      0.91     15300\n",
      "           1       0.74      0.48      0.58      4408\n",
      "\n",
      "    accuracy                           0.85     19708\n",
      "   macro avg       0.80      0.71      0.74     19708\n",
      "weighted avg       0.84      0.85      0.83     19708\n",
      "\n"
     ]
    }
   ],
   "source": [
    "print('classification_report :\\n',classification_report(y_test,y_pred_grad))"
   ]
  },
  {
   "cell_type": "markdown",
   "id": "249e5909",
   "metadata": {},
   "source": [
    "# Creating Naive Bayes Classification Model"
   ]
  },
  {
   "cell_type": "code",
   "execution_count": 84,
   "id": "cb66b803",
   "metadata": {},
   "outputs": [],
   "source": [
    "from sklearn.naive_bayes import GaussianNB"
   ]
  },
  {
   "cell_type": "code",
   "execution_count": 85,
   "id": "58549292",
   "metadata": {},
   "outputs": [],
   "source": [
    "gaus_nb_model=GaussianNB().fit(X_train,y_train)\n",
    "y_pred_gaus=gaus_nb_model.predict(X_test)"
   ]
  },
  {
   "cell_type": "code",
   "execution_count": 86,
   "id": "c4c55141",
   "metadata": {},
   "outputs": [
    {
     "data": {
      "text/plain": [
       "0.80774304850822"
      ]
     },
     "execution_count": 86,
     "metadata": {},
     "output_type": "execute_result"
    }
   ],
   "source": [
    "accuracy_score(y_test,y_pred_gaus)"
   ]
  },
  {
   "cell_type": "code",
   "execution_count": 87,
   "id": "b3e53838",
   "metadata": {},
   "outputs": [
    {
     "data": {
      "text/plain": [
       "0.5724994143827594"
      ]
     },
     "execution_count": 87,
     "metadata": {},
     "output_type": "execute_result"
    }
   ],
   "source": [
    "precision_score(y_test,y_pred_gaus)"
   ]
  },
  {
   "cell_type": "code",
   "execution_count": 88,
   "id": "52ce1d88",
   "metadata": {},
   "outputs": [
    {
     "data": {
      "text/plain": [
       "0.5544464609800362"
      ]
     },
     "execution_count": 88,
     "metadata": {},
     "output_type": "execute_result"
    }
   ],
   "source": [
    "recall_score(y_test,y_pred_gaus)"
   ]
  },
  {
   "cell_type": "code",
   "execution_count": 89,
   "id": "fb38a3b3",
   "metadata": {},
   "outputs": [
    {
     "data": {
      "text/plain": [
       "0.5633283392877723"
      ]
     },
     "execution_count": 89,
     "metadata": {},
     "output_type": "execute_result"
    }
   ],
   "source": [
    "f1_score(y_test,y_pred_gaus)"
   ]
  },
  {
   "cell_type": "markdown",
   "id": "c220e255",
   "metadata": {},
   "source": [
    "# Fine Tuning RandomForestClassifier Model"
   ]
  },
  {
   "cell_type": "code",
   "execution_count": 90,
   "id": "0b909bcf",
   "metadata": {},
   "outputs": [],
   "source": [
    "from sklearn.model_selection import GridSearchCV,RandomizedSearchCV"
   ]
  },
  {
   "cell_type": "code",
   "execution_count": 91,
   "id": "be7d9ade",
   "metadata": {},
   "outputs": [],
   "source": [
    "parameters={'n_estimators':[50,100,150,250],'max_depth':[3,6,9,None]}"
   ]
  },
  {
   "cell_type": "code",
   "execution_count": 92,
   "id": "1b01f256",
   "metadata": {},
   "outputs": [
    {
     "name": "stdout",
     "output_type": "stream",
     "text": [
      "{'max_depth': None, 'n_estimators': 250}\n"
     ]
    }
   ],
   "source": [
    "# Hyperparameter Tuning-GridSearchCV\n",
    "grid_model=GridSearchCV(RandomForestClassifier(),parameters,scoring='f1')\n",
    "grid_model.fit(X_train,y_train)\n",
    "print(grid_model.best_params_)"
   ]
  },
  {
   "cell_type": "code",
   "execution_count": 98,
   "id": "0147a63b",
   "metadata": {},
   "outputs": [],
   "source": [
    "model_grid=RandomForestClassifier(n_estimators=250,max_depth=None)\n",
    "model1=model_grid.fit(X_train,y_train)\n",
    "y_pred_grid=model1.predict(X_test)"
   ]
  },
  {
   "cell_type": "code",
   "execution_count": 94,
   "id": "64c82d85",
   "metadata": {
    "scrolled": true
   },
   "outputs": [
    {
     "name": "stdout",
     "output_type": "stream",
     "text": [
      "classification_report :\n",
      "               precision    recall  f1-score   support\n",
      "\n",
      "           0       0.87      0.95      0.91     15300\n",
      "           1       0.74      0.50      0.60      4408\n",
      "\n",
      "    accuracy                           0.85     19708\n",
      "   macro avg       0.81      0.73      0.75     19708\n",
      "weighted avg       0.84      0.85      0.84     19708\n",
      "\n"
     ]
    }
   ],
   "source": [
    "print('classification_report :\\n',classification_report(y_test,y_pred_grid))"
   ]
  },
  {
   "cell_type": "code",
   "execution_count": 95,
   "id": "b80435e6",
   "metadata": {},
   "outputs": [
    {
     "data": {
      "text/plain": [
       "0.84929977674041"
      ]
     },
     "execution_count": 95,
     "metadata": {},
     "output_type": "execute_result"
    }
   ],
   "source": [
    "accuracy_score(y_test,y_pred_grid)"
   ]
  },
  {
   "cell_type": "code",
   "execution_count": 96,
   "id": "dba94bc8",
   "metadata": {},
   "outputs": [
    {
     "name": "stdout",
     "output_type": "stream",
     "text": [
      "{'n_estimators': 250, 'max_depth': None}\n"
     ]
    }
   ],
   "source": [
    "# Hyperparameter Tuning-RandomizedSearchCV\n",
    "random_model=RandomizedSearchCV(RandomForestClassifier(),parameters,scoring='f1')\n",
    "random_model.fit(X_train,y_train)\n",
    "print(random_model.best_params_)"
   ]
  },
  {
   "cell_type": "code",
   "execution_count": 99,
   "id": "70b67b0c",
   "metadata": {},
   "outputs": [],
   "source": [
    "model_random=RandomForestClassifier(n_estimators=250,max_depth=None)\n",
    "model2=model_random.fit(X_train,y_train)\n",
    "y_pred_random=model2.predict(X_test)"
   ]
  },
  {
   "cell_type": "code",
   "execution_count": 100,
   "id": "0cfcd013",
   "metadata": {},
   "outputs": [
    {
     "name": "stdout",
     "output_type": "stream",
     "text": [
      "classification_report :\n",
      "               precision    recall  f1-score   support\n",
      "\n",
      "           0       0.87      0.95      0.91     15300\n",
      "           1       0.74      0.50      0.60      4408\n",
      "\n",
      "    accuracy                           0.85     19708\n",
      "   macro avg       0.80      0.73      0.75     19708\n",
      "weighted avg       0.84      0.85      0.84     19708\n",
      "\n"
     ]
    }
   ],
   "source": [
    "print('classification_report :\\n',classification_report(y_test,y_pred_random))"
   ]
  },
  {
   "cell_type": "code",
   "execution_count": 101,
   "id": "7fc3977b",
   "metadata": {},
   "outputs": [
    {
     "data": {
      "text/plain": [
       "0.8494012583722347"
      ]
     },
     "execution_count": 101,
     "metadata": {},
     "output_type": "execute_result"
    }
   ],
   "source": [
    "accuracy_score(y_test,y_pred_random)"
   ]
  },
  {
   "cell_type": "code",
   "execution_count": 102,
   "id": "176a2d2f",
   "metadata": {},
   "outputs": [
    {
     "data": {
      "text/plain": [
       "0.5991356023770935"
      ]
     },
     "execution_count": 102,
     "metadata": {},
     "output_type": "execute_result"
    }
   ],
   "source": [
    "f1_score(y_test,y_pred_random)"
   ]
  }
 ],
 "metadata": {
  "kernelspec": {
   "display_name": "Python 3 (ipykernel)",
   "language": "python",
   "name": "python3"
  },
  "language_info": {
   "codemirror_mode": {
    "name": "ipython",
    "version": 3
   },
   "file_extension": ".py",
   "mimetype": "text/x-python",
   "name": "python",
   "nbconvert_exporter": "python",
   "pygments_lexer": "ipython3",
   "version": "3.9.12"
  }
 },
 "nbformat": 4,
 "nbformat_minor": 5
}
